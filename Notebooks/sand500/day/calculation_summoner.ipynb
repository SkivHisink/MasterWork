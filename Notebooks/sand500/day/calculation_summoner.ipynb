{
 "cells": [
  {
   "cell_type": "code",
   "execution_count": 8,
   "metadata": {},
   "outputs": [],
   "source": [
    "import subprocess\n",
    "import os"
   ]
  },
  {
   "cell_type": "code",
   "execution_count": null,
   "metadata": {},
   "outputs": [],
   "source": [
    "# Задаем список наборов аргументов для 20 запусков\n",
    "arguments_list = [\n",
    "    [0, 0, 0, 100],\n",
    "    [5, 6, 7, 8],\n",
    "    # Добавьте остальные наборы аргументов по аналогии\n",
    "]"
   ]
  },
  {
   "cell_type": "code",
   "execution_count": 16,
   "metadata": {},
   "outputs": [
    {
     "name": "stdout",
     "output_type": "stream",
     "text": [
      "20\n",
      "[[0, 5, 10, 66], [1, 0, 10, 66], [1, 6, 10, 66], [2, 1, 10, 66], [2, 7, 10, 66], [3, 2, 10, 66], [3, 8, 10, 66], [4, 3, 10, 66], [4, 9, 10, 66], [5, 4, 10, 66], [5, 10, 10, 66], [6, 5, 10, 66], [7, 0, 10, 66], [7, 6, 10, 66], [8, 1, 10, 66], [8, 7, 10, 66], [9, 2, 10, 66], [9, 8, 10, 66], [10, 3, 10, 66], [10, 9, 10, 77]]\n"
     ]
    }
   ],
   "source": [
    "def generate_lists():\n",
    "    lists = []\n",
    "    p_max = 11\n",
    "    d_max = 11\n",
    "    q_max = 11\n",
    "    max_iteration_num = int(p_max * q_max * d_max / (os.cpu_count()))\n",
    "    iteration_num = 0\n",
    "    for i in range(p_max):\n",
    "        for j in range(d_max):\n",
    "            for k in range(q_max):\n",
    "                iteration_num += 1\n",
    "                if iteration_num % max_iteration_num  == 0:\n",
    "                    iteration_num = 0\n",
    "                    lists.append([i, j, k, max_iteration_num])\n",
    "    lists[len(lists) - 1][3] += (p_max * q_max * d_max - max_iteration_num * 20)\n",
    "    return lists\n",
    "\n",
    "num_threads_os = os.cpu_count()\n",
    "print(num_threads_os)\n",
    "result_lists = generate_lists()\n",
    "print(result_lists)"
   ]
  },
  {
   "cell_type": "code",
   "execution_count": null,
   "metadata": {},
   "outputs": [],
   "source": [
    "# Запускаем 20 экземпляров скрипта с разными аргументами\n",
    "for i, arguments in enumerate(arguments_list, start=1):\n",
    "    command = [\"python\", \"ARIMATest.py\"] + [str(arg) for arg in arguments]\n",
    "    try:\n",
    "        # Запускаем подпроцесс\n",
    "        subprocess.run(command, check=True)\n",
    "    except subprocess.CalledProcessError as e:\n",
    "        print(f\"Ошибка при запуске скрипта {i}: {e}\")"
   ]
  },
  {
   "cell_type": "code",
   "execution_count": 18,
   "metadata": {},
   "outputs": [
    {
     "name": "stdout",
     "output_type": "stream",
     "text": [
      "Я стартанул!\n",
      "Использование: python myscript.py <p> <d> <q> <iter_num>\n"
     ]
    }
   ],
   "source": [
    "import sys\n",
    "import pandas as pd\n",
    "from statsmodels.tsa.arima.model import ARIMA\n",
    "import numpy as np\n",
    "import warnings\n",
    "\n",
    "# Функция для построения модели ARIMA и получения прогноза\n",
    "def build_arima_model_and_forecast(data, p, d, q, window_size = 200, forecast_days = 90):\n",
    "    forecasts = []\n",
    "    for i in range(len(data) - window_size - forecast_days + 1):\n",
    "        try:\n",
    "            window = data[i:i + window_size]\n",
    "            actual_values = data['Close'][i + window_size:i + window_size + forecast_days]\n",
    "            # Создаем и обучаем модель ARIMA\n",
    "            model = ARIMA(window['Close'], order = (p, d, q))\n",
    "            results = model.fit()\n",
    "\n",
    "            # Делаем прогноз на 90 дней вперед\n",
    "            forecast = results.get_forecast(steps=forecast_days)\n",
    "            forecast_mean = forecast.predicted_mean.values\n",
    "\n",
    "            # Рассчитываем относительное отклонение в процентах (Percentage Error)\n",
    "            percentage_error = ((forecast_mean - actual_values) / actual_values) * 100\n",
    "\n",
    "            # Добавляем результаты в список\n",
    "            result = {\n",
    "                'p': p,\n",
    "                'd': d,\n",
    "                'q': q,\n",
    "                'begin_date': window['Date'].iloc[0],\n",
    "                'end_date': window['Date'].iloc[-1] + pd.Timedelta(days=forecast_days - 1),\n",
    "                'window_size': window_size,\n",
    "                'forecast_days': forecast_days,\n",
    "                'forecast_precision': np.mean(np.abs(percentage_error))\n",
    "            }\n",
    "            forecasts.append(result)\n",
    "        except:\n",
    "            continue\n",
    "\n",
    "    return forecasts\n",
    "\n",
    "def load_and_transform_data():\n",
    "    #load data\n",
    "    data = pd.read_csv(\"..\\..\\..\\Data\\Day\\dje_MinuteToDay.csv\")\n",
    "    #transform data\n",
    "    data = data.replace(\",\", \"\", regex=True)\n",
    "    data.Date = pd.to_datetime(data.Date)\n",
    "    data = data.sort_values(by=[\"Date\"])\n",
    "    data.set_index('Date')\n",
    "    data.Close = data.Close.astype(float)\n",
    "    data.High = data.High.astype(float)\n",
    "    data.Low = data.Low.astype(float)\n",
    "    data.Open = data.Open.astype(float)\n",
    "    data[\"Vol\"] = data[\"Vol\"].astype(float)\n",
    "    # раз\n",
    "    data.index = data.index[::-1]\n",
    "    #\n",
    "    special_data = data[(data['Date'] > '2010-01-01') & (data['Date'] < '2014-01-01')]\n",
    "    special_data.index = data.index[:len(special_data)]\n",
    "    #\n",
    "    special_data = special_data.drop(columns=['Open', 'High', 'Low', 'Vol', 'Ticker', 'Per', 'Date.1'])\n",
    "    return special_data\n",
    "\n",
    "def save_result(results_df, p_begin, d_begin, q_begin, iteration_num):\n",
    "    results_df.to_csv(f'output{p_begin}_{d_begin}_{q_begin}_{iteration_num}.csv', encoding='utf8')\n",
    "\n",
    "def calculate_ARIMA(p_begin, d_begin, q_begin, iteration_num):\n",
    "    # Указываем наши промежутки\n",
    "    p_values = range(p_begin, 11)\n",
    "    d_values = range(d_begin, 11)\n",
    "    q_values = range(q_begin, 11)\n",
    "    # Получаем данные\n",
    "    special_data = load_and_transform_data()\n",
    "    # Создаем пустой DataFrame для сохранения результатов\n",
    "    columns = ['p', 'd', 'q', 'begin_date', 'end_date', 'window_size', 'forecast_days', 'forecast_precision']\n",
    "    results_df = pd.DataFrame(columns = columns)\n",
    "    counter = 0\n",
    "    print(special_data.head(1))\n",
    "    # Проходим по всем комбинациям p, d, q и строим прогнозы\n",
    "    for p in p_values:\n",
    "        for d in d_values:\n",
    "            for q in q_values:\n",
    "                if counter >= iteration_num:\n",
    "                    print(results_df.head(2))\n",
    "                    save_result(results_df, p_begin, d_begin, q_begin, iteration_num)\n",
    "                    return\n",
    "                counter+= 1\n",
    "                print(f'Calculating:({p}, {d}, {q}). Counter: {counter}. Iter_num: {iteration_num}. Equals {counter >= iteration_num}')\n",
    "                # Строим прогноз для текущих значений p, d, q\n",
    "                forecasts = build_arima_model_and_forecast(special_data, p, d, q)\n",
    "                # Добавляем результаты в DataFrame\n",
    "                results_df = pd.concat([results_df, pd.DataFrame(forecasts)], ignore_index = True)#results_df.append(forecasts, ignore_index=True)\n",
    "\n",
    "\n",
    "def main():\n",
    "    warnings.filterwarnings('ignore')\n",
    "    print(\"Я стартанул!\")\n",
    "    # Проверим, что передано четыре аргумента\n",
    "    if len(sys.argv) != 5:\n",
    "        print(\"Использование: python myscript.py <p> <d> <q> <iter_num>\")\n",
    "        return\n",
    "\n",
    "    try:\n",
    "        # Преобразуем аргументы командной строки в целые числа\n",
    "        num1 = int(sys.argv[1])\n",
    "        num2 = int(sys.argv[2])\n",
    "        num3 = int(sys.argv[3])\n",
    "        num4 = int(sys.argv[4])\n",
    "\n",
    "        calculate_ARIMA(num1, num2, num3, num4)\n",
    "    except ValueError as ve:\n",
    "        print(f\"Ошибка: {ve}\")\n",
    "    except Exception as e:\n",
    "        print(f\"Произошла ошибка: {e}\")\n",
    "\n",
    "if __name__ == \"__main__\":\n",
    "    main()"
   ]
  },
  {
   "cell_type": "code",
   "execution_count": 19,
   "metadata": {},
   "outputs": [
    {
     "name": "stdout",
     "output_type": "stream",
     "text": [
      "           Date     Close\n",
      "1350 2010-01-04  10583.13\n",
      "Calculating:(0, 7, 5). Counter: 1. Iter_num: 1. Equals True\n",
      "1350\n"
     ]
    }
   ],
   "source": [
    "calculate_ARIMA(0, 7, 5, 1)"
   ]
  },
  {
   "cell_type": "code",
   "execution_count": null,
   "metadata": {},
   "outputs": [],
   "source": []
  }
 ],
 "metadata": {
  "kernelspec": {
   "display_name": "Python 3",
   "language": "python",
   "name": "python3"
  },
  "language_info": {
   "codemirror_mode": {
    "name": "ipython",
    "version": 3
   },
   "file_extension": ".py",
   "mimetype": "text/x-python",
   "name": "python",
   "nbconvert_exporter": "python",
   "pygments_lexer": "ipython3",
   "version": "3.11.8"
  }
 },
 "nbformat": 4,
 "nbformat_minor": 2
}
