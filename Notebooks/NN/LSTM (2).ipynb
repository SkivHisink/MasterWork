{
 "cells": [
  {
   "cell_type": "code",
   "execution_count": 3,
   "metadata": {},
   "outputs": [],
   "source": [
    "%matplotlib inline\n",
    "\n",
    "import glob\n",
    "from platform import python_version\n",
    "import pandas as pd\n",
    "import matplotlib\n",
    "import numpy as np\n",
    "import sklearn\n",
    "import torch\n",
    "import matplotlib.pyplot as plt"
   ]
  },
  {
   "cell_type": "code",
   "execution_count": 4,
   "metadata": {},
   "outputs": [],
   "source": [
    "torch.cuda.empty_cache()"
   ]
  },
  {
   "cell_type": "code",
   "execution_count": 5,
   "metadata": {},
   "outputs": [
    {
     "name": "stdout",
     "output_type": "stream",
     "text": [
      "python version==3.11.6\n",
      "pandas==2.1.2\n",
      "numpy==1.26.1\n",
      "sklearn==1.3.2\n",
      "torch==2.1.0+cpu\n",
      "matplotlib==3.8.1\n"
     ]
    }
   ],
   "source": [
    "print(\"python version==%s\" % python_version())\n",
    "print(\"pandas==%s\" % pd.__version__)\n",
    "print(\"numpy==%s\" % np.__version__)\n",
    "print(\"sklearn==%s\" % sklearn.__version__)\n",
    "print(\"torch==%s\" % torch.__version__)\n",
    "print(\"matplotlib==%s\" % matplotlib.__version__)"
   ]
  },
  {
   "cell_type": "code",
   "execution_count": 6,
   "metadata": {},
   "outputs": [
    {
     "name": "stdout",
     "output_type": "stream",
     "text": [
      "Using device: cpu\n"
     ]
    }
   ],
   "source": [
    "device = torch.device('cuda' if torch.cuda.is_available() else 'cpu')\n",
    "print('Using device:', device)"
   ]
  },
  {
   "cell_type": "code",
   "execution_count": 7,
   "metadata": {},
   "outputs": [],
   "source": [
    "#load data\n",
    "data = pd.read_csv(\"..\\\\..\\\\Data\\\\Minute\\\\2010-2014-SANDP-500.txt\")"
   ]
  },
  {
   "cell_type": "code",
   "execution_count": 8,
   "metadata": {},
   "outputs": [
    {
     "data": {
      "text/html": [
       "<div>\n",
       "<style scoped>\n",
       "    .dataframe tbody tr th:only-of-type {\n",
       "        vertical-align: middle;\n",
       "    }\n",
       "\n",
       "    .dataframe tbody tr th {\n",
       "        vertical-align: top;\n",
       "    }\n",
       "\n",
       "    .dataframe thead th {\n",
       "        text-align: right;\n",
       "    }\n",
       "</style>\n",
       "<table border=\"1\" class=\"dataframe\">\n",
       "  <thead>\n",
       "    <tr style=\"text-align: right;\">\n",
       "      <th></th>\n",
       "      <th>Date</th>\n",
       "      <th>Open</th>\n",
       "      <th>High</th>\n",
       "      <th>Low</th>\n",
       "      <th>Close</th>\n",
       "    </tr>\n",
       "  </thead>\n",
       "  <tbody>\n",
       "    <tr>\n",
       "      <th>0</th>\n",
       "      <td>1262626320</td>\n",
       "      <td>1122.87</td>\n",
       "      <td>1123.80</td>\n",
       "      <td>1122.87</td>\n",
       "      <td>1123.80</td>\n",
       "    </tr>\n",
       "    <tr>\n",
       "      <th>1</th>\n",
       "      <td>1262626380</td>\n",
       "      <td>1123.95</td>\n",
       "      <td>1124.18</td>\n",
       "      <td>1123.95</td>\n",
       "      <td>1124.18</td>\n",
       "    </tr>\n",
       "    <tr>\n",
       "      <th>2</th>\n",
       "      <td>1262626440</td>\n",
       "      <td>1124.27</td>\n",
       "      <td>1124.27</td>\n",
       "      <td>1124.07</td>\n",
       "      <td>1124.07</td>\n",
       "    </tr>\n",
       "    <tr>\n",
       "      <th>3</th>\n",
       "      <td>1262626500</td>\n",
       "      <td>1124.17</td>\n",
       "      <td>1124.26</td>\n",
       "      <td>1124.17</td>\n",
       "      <td>1124.26</td>\n",
       "    </tr>\n",
       "    <tr>\n",
       "      <th>4</th>\n",
       "      <td>1262626560</td>\n",
       "      <td>1124.63</td>\n",
       "      <td>1124.63</td>\n",
       "      <td>1124.63</td>\n",
       "      <td>1124.63</td>\n",
       "    </tr>\n",
       "    <tr>\n",
       "      <th>...</th>\n",
       "      <td>...</td>\n",
       "      <td>...</td>\n",
       "      <td>...</td>\n",
       "      <td>...</td>\n",
       "      <td>...</td>\n",
       "    </tr>\n",
       "    <tr>\n",
       "      <th>392945</th>\n",
       "      <td>1388538060</td>\n",
       "      <td>1847.43</td>\n",
       "      <td>1848.35</td>\n",
       "      <td>1847.43</td>\n",
       "      <td>1848.35</td>\n",
       "    </tr>\n",
       "    <tr>\n",
       "      <th>392946</th>\n",
       "      <td>1388538120</td>\n",
       "      <td>1848.35</td>\n",
       "      <td>1848.36</td>\n",
       "      <td>1848.35</td>\n",
       "      <td>1848.36</td>\n",
       "    </tr>\n",
       "    <tr>\n",
       "      <th>392947</th>\n",
       "      <td>1388538180</td>\n",
       "      <td>1848.35</td>\n",
       "      <td>1848.36</td>\n",
       "      <td>1848.35</td>\n",
       "      <td>1848.36</td>\n",
       "    </tr>\n",
       "    <tr>\n",
       "      <th>392948</th>\n",
       "      <td>1388542560</td>\n",
       "      <td>1848.36</td>\n",
       "      <td>1848.36</td>\n",
       "      <td>1848.36</td>\n",
       "      <td>1848.36</td>\n",
       "    </tr>\n",
       "    <tr>\n",
       "      <th>392949</th>\n",
       "      <td>1388566860</td>\n",
       "      <td>1848.36</td>\n",
       "      <td>1848.36</td>\n",
       "      <td>1848.36</td>\n",
       "      <td>1848.36</td>\n",
       "    </tr>\n",
       "  </tbody>\n",
       "</table>\n",
       "<p>392950 rows × 5 columns</p>\n",
       "</div>"
      ],
      "text/plain": [
       "              Date     Open     High      Low    Close\n",
       "0       1262626320  1122.87  1123.80  1122.87  1123.80\n",
       "1       1262626380  1123.95  1124.18  1123.95  1124.18\n",
       "2       1262626440  1124.27  1124.27  1124.07  1124.07\n",
       "3       1262626500  1124.17  1124.26  1124.17  1124.26\n",
       "4       1262626560  1124.63  1124.63  1124.63  1124.63\n",
       "...            ...      ...      ...      ...      ...\n",
       "392945  1388538060  1847.43  1848.35  1847.43  1848.35\n",
       "392946  1388538120  1848.35  1848.36  1848.35  1848.36\n",
       "392947  1388538180  1848.35  1848.36  1848.35  1848.36\n",
       "392948  1388542560  1848.36  1848.36  1848.36  1848.36\n",
       "392949  1388566860  1848.36  1848.36  1848.36  1848.36\n",
       "\n",
       "[392950 rows x 5 columns]"
      ]
     },
     "execution_count": 8,
     "metadata": {},
     "output_type": "execute_result"
    }
   ],
   "source": [
    "data"
   ]
  },
  {
   "cell_type": "code",
   "execution_count": 9,
   "metadata": {},
   "outputs": [],
   "source": [
    "#transform data\n",
    "data = data.replace(\",\", \"\", regex=True)\n",
    "data.Date = pd.to_datetime(data.Date * 1e9)\n",
    "data = data.sort_values(by=[\"Date\"])\n",
    "data.Close = data.Close.astype(float)\n",
    "data.High = data.High.astype(float)\n",
    "data.Low = data.Low.astype(float)\n",
    "data.Open = data.Open.astype(float)"
   ]
  },
  {
   "cell_type": "code",
   "execution_count": 10,
   "metadata": {},
   "outputs": [],
   "source": [
    "data.index = data.index[::-1]"
   ]
  },
  {
   "cell_type": "code",
   "execution_count": 11,
   "metadata": {},
   "outputs": [
    {
     "data": {
      "text/html": [
       "<div>\n",
       "<style scoped>\n",
       "    .dataframe tbody tr th:only-of-type {\n",
       "        vertical-align: middle;\n",
       "    }\n",
       "\n",
       "    .dataframe tbody tr th {\n",
       "        vertical-align: top;\n",
       "    }\n",
       "\n",
       "    .dataframe thead th {\n",
       "        text-align: right;\n",
       "    }\n",
       "</style>\n",
       "<table border=\"1\" class=\"dataframe\">\n",
       "  <thead>\n",
       "    <tr style=\"text-align: right;\">\n",
       "      <th></th>\n",
       "      <th>Date</th>\n",
       "      <th>Open</th>\n",
       "      <th>High</th>\n",
       "      <th>Low</th>\n",
       "      <th>Close</th>\n",
       "    </tr>\n",
       "  </thead>\n",
       "  <tbody>\n",
       "    <tr>\n",
       "      <th>392949</th>\n",
       "      <td>2010-01-04 17:32:00</td>\n",
       "      <td>1122.87</td>\n",
       "      <td>1123.80</td>\n",
       "      <td>1122.87</td>\n",
       "      <td>1123.80</td>\n",
       "    </tr>\n",
       "    <tr>\n",
       "      <th>392948</th>\n",
       "      <td>2010-01-04 17:33:00</td>\n",
       "      <td>1123.95</td>\n",
       "      <td>1124.18</td>\n",
       "      <td>1123.95</td>\n",
       "      <td>1124.18</td>\n",
       "    </tr>\n",
       "    <tr>\n",
       "      <th>392947</th>\n",
       "      <td>2010-01-04 17:34:00</td>\n",
       "      <td>1124.27</td>\n",
       "      <td>1124.27</td>\n",
       "      <td>1124.07</td>\n",
       "      <td>1124.07</td>\n",
       "    </tr>\n",
       "    <tr>\n",
       "      <th>392946</th>\n",
       "      <td>2010-01-04 17:35:00</td>\n",
       "      <td>1124.17</td>\n",
       "      <td>1124.26</td>\n",
       "      <td>1124.17</td>\n",
       "      <td>1124.26</td>\n",
       "    </tr>\n",
       "    <tr>\n",
       "      <th>392945</th>\n",
       "      <td>2010-01-04 17:36:00</td>\n",
       "      <td>1124.63</td>\n",
       "      <td>1124.63</td>\n",
       "      <td>1124.63</td>\n",
       "      <td>1124.63</td>\n",
       "    </tr>\n",
       "  </tbody>\n",
       "</table>\n",
       "</div>"
      ],
      "text/plain": [
       "                      Date     Open     High      Low    Close\n",
       "392949 2010-01-04 17:32:00  1122.87  1123.80  1122.87  1123.80\n",
       "392948 2010-01-04 17:33:00  1123.95  1124.18  1123.95  1124.18\n",
       "392947 2010-01-04 17:34:00  1124.27  1124.27  1124.07  1124.07\n",
       "392946 2010-01-04 17:35:00  1124.17  1124.26  1124.17  1124.26\n",
       "392945 2010-01-04 17:36:00  1124.63  1124.63  1124.63  1124.63"
      ]
     },
     "execution_count": 11,
     "metadata": {},
     "output_type": "execute_result"
    }
   ],
   "source": [
    "data.head()"
   ]
  },
  {
   "cell_type": "code",
   "execution_count": 12,
   "metadata": {},
   "outputs": [],
   "source": [
    "special_data = data[(data['Date'] > '2010-01-01') & (data['Date'] < '2015-01-01')]"
   ]
  },
  {
   "cell_type": "code",
   "execution_count": 13,
   "metadata": {},
   "outputs": [
    {
     "data": {
      "text/html": [
       "<div>\n",
       "<style scoped>\n",
       "    .dataframe tbody tr th:only-of-type {\n",
       "        vertical-align: middle;\n",
       "    }\n",
       "\n",
       "    .dataframe tbody tr th {\n",
       "        vertical-align: top;\n",
       "    }\n",
       "\n",
       "    .dataframe thead th {\n",
       "        text-align: right;\n",
       "    }\n",
       "</style>\n",
       "<table border=\"1\" class=\"dataframe\">\n",
       "  <thead>\n",
       "    <tr style=\"text-align: right;\">\n",
       "      <th></th>\n",
       "      <th>Date</th>\n",
       "      <th>Open</th>\n",
       "      <th>High</th>\n",
       "      <th>Low</th>\n",
       "      <th>Close</th>\n",
       "    </tr>\n",
       "  </thead>\n",
       "  <tbody>\n",
       "    <tr>\n",
       "      <th>392949</th>\n",
       "      <td>2010-01-04 17:32:00</td>\n",
       "      <td>1122.87</td>\n",
       "      <td>1123.80</td>\n",
       "      <td>1122.87</td>\n",
       "      <td>1123.80</td>\n",
       "    </tr>\n",
       "    <tr>\n",
       "      <th>392948</th>\n",
       "      <td>2010-01-04 17:33:00</td>\n",
       "      <td>1123.95</td>\n",
       "      <td>1124.18</td>\n",
       "      <td>1123.95</td>\n",
       "      <td>1124.18</td>\n",
       "    </tr>\n",
       "    <tr>\n",
       "      <th>392947</th>\n",
       "      <td>2010-01-04 17:34:00</td>\n",
       "      <td>1124.27</td>\n",
       "      <td>1124.27</td>\n",
       "      <td>1124.07</td>\n",
       "      <td>1124.07</td>\n",
       "    </tr>\n",
       "    <tr>\n",
       "      <th>392946</th>\n",
       "      <td>2010-01-04 17:35:00</td>\n",
       "      <td>1124.17</td>\n",
       "      <td>1124.26</td>\n",
       "      <td>1124.17</td>\n",
       "      <td>1124.26</td>\n",
       "    </tr>\n",
       "    <tr>\n",
       "      <th>392945</th>\n",
       "      <td>2010-01-04 17:36:00</td>\n",
       "      <td>1124.63</td>\n",
       "      <td>1124.63</td>\n",
       "      <td>1124.63</td>\n",
       "      <td>1124.63</td>\n",
       "    </tr>\n",
       "    <tr>\n",
       "      <th>392944</th>\n",
       "      <td>2010-01-04 17:37:00</td>\n",
       "      <td>1126.30</td>\n",
       "      <td>1126.30</td>\n",
       "      <td>1126.18</td>\n",
       "      <td>1126.29</td>\n",
       "    </tr>\n",
       "    <tr>\n",
       "      <th>392943</th>\n",
       "      <td>2010-01-04 17:38:00</td>\n",
       "      <td>1126.50</td>\n",
       "      <td>1126.75</td>\n",
       "      <td>1126.50</td>\n",
       "      <td>1126.75</td>\n",
       "    </tr>\n",
       "    <tr>\n",
       "      <th>392942</th>\n",
       "      <td>2010-01-04 17:39:00</td>\n",
       "      <td>1126.69</td>\n",
       "      <td>1126.74</td>\n",
       "      <td>1126.68</td>\n",
       "      <td>1126.68</td>\n",
       "    </tr>\n",
       "    <tr>\n",
       "      <th>392941</th>\n",
       "      <td>2010-01-04 17:40:00</td>\n",
       "      <td>1126.54</td>\n",
       "      <td>1126.64</td>\n",
       "      <td>1126.54</td>\n",
       "      <td>1126.64</td>\n",
       "    </tr>\n",
       "    <tr>\n",
       "      <th>392940</th>\n",
       "      <td>2010-01-04 17:41:00</td>\n",
       "      <td>1126.92</td>\n",
       "      <td>1126.92</td>\n",
       "      <td>1126.92</td>\n",
       "      <td>1126.92</td>\n",
       "    </tr>\n",
       "  </tbody>\n",
       "</table>\n",
       "</div>"
      ],
      "text/plain": [
       "                      Date     Open     High      Low    Close\n",
       "392949 2010-01-04 17:32:00  1122.87  1123.80  1122.87  1123.80\n",
       "392948 2010-01-04 17:33:00  1123.95  1124.18  1123.95  1124.18\n",
       "392947 2010-01-04 17:34:00  1124.27  1124.27  1124.07  1124.07\n",
       "392946 2010-01-04 17:35:00  1124.17  1124.26  1124.17  1124.26\n",
       "392945 2010-01-04 17:36:00  1124.63  1124.63  1124.63  1124.63\n",
       "392944 2010-01-04 17:37:00  1126.30  1126.30  1126.18  1126.29\n",
       "392943 2010-01-04 17:38:00  1126.50  1126.75  1126.50  1126.75\n",
       "392942 2010-01-04 17:39:00  1126.69  1126.74  1126.68  1126.68\n",
       "392941 2010-01-04 17:40:00  1126.54  1126.64  1126.54  1126.64\n",
       "392940 2010-01-04 17:41:00  1126.92  1126.92  1126.92  1126.92"
      ]
     },
     "execution_count": 13,
     "metadata": {},
     "output_type": "execute_result"
    }
   ],
   "source": [
    "special_data.head(10)"
   ]
  },
  {
   "cell_type": "code",
   "execution_count": 14,
   "metadata": {},
   "outputs": [],
   "source": [
    "#change indexes\n",
    "special_data.set_index('Date', inplace=True)"
   ]
  },
  {
   "cell_type": "code",
   "execution_count": 15,
   "metadata": {},
   "outputs": [],
   "source": [
    "special_data = special_data.drop(columns=['Open', 'High', 'Low'])"
   ]
  },
  {
   "cell_type": "code",
   "execution_count": 16,
   "metadata": {},
   "outputs": [],
   "source": [
    "special_data = special_data.dropna()"
   ]
  },
  {
   "cell_type": "code",
   "execution_count": 17,
   "metadata": {},
   "outputs": [
    {
     "data": {
      "text/plain": [
       "[<matplotlib.lines.Line2D at 0x211d06c1290>]"
      ]
     },
     "execution_count": 17,
     "metadata": {},
     "output_type": "execute_result"
    },
    {
     "data": {
      "image/png": "[encoded data removed]",
      "text/plain": [
       "<Figure size 640x480 with 1 Axes>"
      ]
     },
     "metadata": {},
     "output_type": "display_data"
    }
   ],
   "source": [
    "plt.plot(special_data)"
   ]
  },
  {
   "cell_type": "code",
   "execution_count": 18,
   "metadata": {},
   "outputs": [
    {
     "name": "stdout",
     "output_type": "stream",
     "text": [
      "392950 100\n",
      "(392849, 100, 1) (392849, 1)\n"
     ]
    }
   ],
   "source": [
    "from torch.autograd import Variable\n",
    "from sklearn.preprocessing import MinMaxScaler\n",
    "\n",
    "def sliding_windows(data, seq_length):\n",
    "    x = []\n",
    "    y = []\n",
    "    print(len(data), seq_length)\n",
    "    for i in range(len(data)-seq_length-1):\n",
    "        _x = data[i:(i+seq_length)]\n",
    "        _y = data[i+seq_length]\n",
    "        x.append(_x)\n",
    "        y.append(_y)\n",
    "\n",
    "    return np.array(x),np.array(y)\n",
    "\n",
    "sc = MinMaxScaler()\n",
    "training_data = sc.fit_transform(special_data)\n",
    "\n",
    "seq_length = 100\n",
    "x, y = sliding_windows(training_data, seq_length)\n",
    "print(x.shape, y.shape)\n",
    "train_size = int(len(y) * 0.7)\n",
    "val_size = 100\n",
    "test_size = len(y) - train_size - val_size\n",
    "\n",
    "dataX = Variable(torch.Tensor(np.array(x)).to(device))\n",
    "dataY = Variable(torch.Tensor(np.array(y)).to(device))\n",
    "\n",
    "trainX = Variable(torch.Tensor(np.array(x[0:train_size])).to(device))\n",
    "trainY = Variable(torch.Tensor(np.array(y[0:train_size])).to(device))\n",
    "\n",
    "testX = Variable(torch.Tensor(np.array(x[train_size:(len(x) - val_size)])).to(device))\n",
    "testY = Variable(torch.Tensor(np.array(y[train_size:(len(y) - val_size)])).to(device))\n",
    "\n",
    "valX = Variable(torch.Tensor(np.array(x[(len(x) - val_size):len(x)])).to(device))\n",
    "valY = Variable(torch.Tensor(np.array(y[(len(x) - val_size):len(y)])).to(device))"
   ]
  },
  {
   "cell_type": "code",
   "execution_count": 48,
   "metadata": {},
   "outputs": [],
   "source": [
    "import torch\n",
    "import torch.nn as nn\n",
    "from torch.utils.data import Dataset, DataLoader\n",
    "\n",
    "class TimeSeriesDataset(Dataset):\n",
    "    def __init__(self, x, y):\n",
    "        self.x = x\n",
    "        self.y = y\n",
    "\n",
    "    def __len__(self):\n",
    "        return len(self.x)\n",
    "\n",
    "    def __getitem__(self, idx):\n",
    "        return self.x[idx], self.y[idx]\n",
    "\n",
    "train_dataset = TimeSeriesDataset(trainX, trainY)\n",
    "test_dataset = TimeSeriesDataset(testX, testY)\n",
    "val_dataset = TimeSeriesDataset(valX, valY)\n",
    "\n",
    "train_loader = DataLoader(train_dataset, batch_size = 10000, shuffle = False)\n",
    "test_loader = DataLoader(test_dataset, batch_size = 10000, shuffle = False)\n",
    "val_loader = DataLoader(val_dataset, batch_size = 10000, shuffle = False)"
   ]
  },
  {
   "cell_type": "code",
   "execution_count": 49,
   "metadata": {},
   "outputs": [],
   "source": [
    "import torch.nn as nn\n",
    "\n",
    "class LSTM(nn.Module):\n",
    "    def __init__(self, num_classes, input_size, hidden_size, num_layers):\n",
    "        super(LSTM, self).__init__()\n",
    "        \n",
    "        self.num_classes = num_classes\n",
    "        self.num_layers = num_layers\n",
    "        self.input_size = input_size\n",
    "        self.hidden_size = hidden_size\n",
    "        \n",
    "        self.lstm = nn.LSTM(input_size=input_size, hidden_size=hidden_size,\n",
    "                            num_layers=num_layers, batch_first=True)\n",
    "        \n",
    "        self.fc = nn.Linear(hidden_size, num_classes)\n",
    "\n",
    "    def forward(self, x):\n",
    "        h_0 = torch.zeros(self.num_layers, x.size(0), self.hidden_size).to(device)\n",
    "        c_0 = torch.zeros(self.num_layers, x.size(0), self.hidden_size).to(device)\n",
    "        \n",
    "        # Propagate input through LSTM\n",
    "        _, (h_out, _) = self.lstm(x, (h_0, c_0))\n",
    "        h_out = h_out.view(-1, self.hidden_size)\n",
    "        \n",
    "        out = self.fc(h_out)\n",
    "        return out"
   ]
  },
  {
   "cell_type": "code",
   "execution_count": 50,
   "metadata": {},
   "outputs": [
    {
     "data": {
      "text/plain": [
       "<torch.utils.data.dataloader.DataLoader at 0x211da5a8a90>"
      ]
     },
     "execution_count": 50,
     "metadata": {},
     "output_type": "execute_result"
    }
   ],
   "source": [
    "train_loader"
   ]
  },
  {
   "cell_type": "code",
   "execution_count": 51,
   "metadata": {},
   "outputs": [
    {
     "name": "stdout",
     "output_type": "stream",
     "text": [
      "28\n",
      "Before train\n",
      "After Train\n",
      "Before torch.no_grad\n",
      "Epoch [1/90], Train Loss: 0.0183, Valid Loss: 0.0484\n",
      "Before train\n",
      "After Train\n",
      "Before torch.no_grad\n",
      "Before train\n",
      "After Train\n",
      "Before torch.no_grad\n",
      "Before train\n",
      "After Train\n",
      "Before torch.no_grad\n",
      "Before train\n",
      "After Train\n",
      "Before torch.no_grad\n",
      "Before train\n",
      "After Train\n",
      "Before torch.no_grad\n",
      "Before train\n",
      "After Train\n",
      "Before torch.no_grad\n",
      "Before train\n",
      "After Train\n",
      "Before torch.no_grad\n",
      "Before train\n",
      "After Train\n",
      "Before torch.no_grad\n",
      "Before train\n",
      "After Train\n",
      "Before torch.no_grad\n",
      "Before train\n",
      "After Train\n",
      "Before torch.no_grad\n",
      "Epoch [11/90], Train Loss: 0.0005, Valid Loss: 0.0047\n",
      "Before train\n",
      "After Train\n",
      "Before torch.no_grad\n",
      "Before train\n",
      "After Train\n",
      "Before torch.no_grad\n",
      "Before train\n",
      "After Train\n",
      "Before torch.no_grad\n",
      "Before train\n",
      "After Train\n",
      "Before torch.no_grad\n",
      "Before train\n",
      "After Train\n",
      "Before torch.no_grad\n",
      "Before train\n",
      "After Train\n",
      "Before torch.no_grad\n",
      "Before train\n",
      "After Train\n",
      "Before torch.no_grad\n",
      "Before train\n",
      "After Train\n",
      "Before torch.no_grad\n",
      "Before train\n",
      "After Train\n",
      "Before torch.no_grad\n",
      "Before train\n",
      "After Train\n",
      "Before torch.no_grad\n",
      "Epoch [21/90], Train Loss: 0.0000, Valid Loss: 0.0001\n",
      "Before train\n",
      "After Train\n",
      "Before torch.no_grad\n",
      "Before train\n",
      "After Train\n",
      "Before torch.no_grad\n",
      "Before train\n",
      "After Train\n",
      "Before torch.no_grad\n",
      "Before train\n",
      "After Train\n",
      "Before torch.no_grad\n",
      "Before train\n",
      "After Train\n",
      "Before torch.no_grad\n",
      "Before train\n",
      "After Train\n",
      "Before torch.no_grad\n",
      "Before train\n",
      "After Train\n",
      "Before torch.no_grad\n",
      "Before train\n",
      "After Train\n",
      "Before torch.no_grad\n",
      "Before train\n",
      "After Train\n",
      "Before torch.no_grad\n",
      "Before train\n",
      "After Train\n",
      "Before torch.no_grad\n",
      "Epoch [31/90], Train Loss: 0.0000, Valid Loss: 0.0001\n",
      "Before train\n",
      "After Train\n",
      "Before torch.no_grad\n",
      "Before train\n",
      "After Train\n",
      "Before torch.no_grad\n",
      "Before train\n",
      "After Train\n",
      "Before torch.no_grad\n",
      "Before train\n",
      "After Train\n",
      "Before torch.no_grad\n",
      "Before train\n",
      "After Train\n",
      "Before torch.no_grad\n",
      "Before train\n",
      "After Train\n",
      "Before torch.no_grad\n",
      "Before train\n",
      "After Train\n",
      "Before torch.no_grad\n",
      "Before train\n",
      "After Train\n",
      "Before torch.no_grad\n",
      "Before train\n",
      "After Train\n",
      "Before torch.no_grad\n",
      "Before train\n",
      "After Train\n",
      "Before torch.no_grad\n",
      "Epoch [41/90], Train Loss: 0.0000, Valid Loss: 0.0001\n",
      "Before train\n",
      "After Train\n",
      "Before torch.no_grad\n",
      "Before train\n",
      "After Train\n",
      "Before torch.no_grad\n",
      "Before train\n",
      "After Train\n",
      "Before torch.no_grad\n",
      "Before train\n",
      "After Train\n",
      "Before torch.no_grad\n",
      "Before train\n",
      "After Train\n",
      "Before torch.no_grad\n",
      "Before train\n",
      "After Train\n",
      "Before torch.no_grad\n",
      "Before train\n",
      "After Train\n",
      "Before torch.no_grad\n",
      "Before train\n",
      "After Train\n",
      "Before torch.no_grad\n",
      "Before train\n",
      "After Train\n",
      "Before torch.no_grad\n",
      "Before train\n",
      "After Train\n",
      "Before torch.no_grad\n",
      "Epoch [51/90], Train Loss: 0.0002, Valid Loss: 0.0002\n",
      "Before train\n",
      "After Train\n",
      "Before torch.no_grad\n",
      "Before train\n",
      "After Train\n",
      "Before torch.no_grad\n",
      "Before train\n",
      "After Train\n",
      "Before torch.no_grad\n",
      "Before train\n",
      "After Train\n",
      "Before torch.no_grad\n",
      "Before train\n",
      "After Train\n",
      "Before torch.no_grad\n",
      "Before train\n",
      "After Train\n",
      "Before torch.no_grad\n",
      "Before train\n",
      "After Train\n",
      "Before torch.no_grad\n",
      "Before train\n",
      "After Train\n",
      "Before torch.no_grad\n",
      "Before train\n",
      "After Train\n",
      "Before torch.no_grad\n",
      "Before train\n",
      "After Train\n",
      "Before torch.no_grad\n",
      "Epoch [61/90], Train Loss: 0.0001, Valid Loss: 0.0005\n",
      "Before train\n",
      "After Train\n",
      "Before torch.no_grad\n",
      "Before train\n",
      "After Train\n",
      "Before torch.no_grad\n",
      "Before train\n",
      "After Train\n",
      "Before torch.no_grad\n",
      "Before train\n",
      "After Train\n",
      "Before torch.no_grad\n",
      "Before train\n",
      "After Train\n",
      "Before torch.no_grad\n",
      "Before train\n",
      "After Train\n",
      "Before torch.no_grad\n",
      "Before train\n",
      "After Train\n",
      "Before torch.no_grad\n",
      "Before train\n",
      "After Train\n",
      "Before torch.no_grad\n",
      "Before train\n",
      "After Train\n",
      "Before torch.no_grad\n",
      "Before train\n",
      "After Train\n",
      "Before torch.no_grad\n",
      "Epoch [71/90], Train Loss: 0.0001, Valid Loss: 0.0007\n",
      "Before train\n",
      "After Train\n",
      "Before torch.no_grad\n",
      "Before train\n",
      "After Train\n",
      "Before torch.no_grad\n",
      "Before train\n",
      "After Train\n",
      "Before torch.no_grad\n",
      "Before train\n",
      "After Train\n",
      "Before torch.no_grad\n",
      "Before train\n",
      "After Train\n",
      "Before torch.no_grad\n",
      "Before train\n",
      "After Train\n",
      "Before torch.no_grad\n",
      "Before train\n",
      "After Train\n",
      "Before torch.no_grad\n",
      "Before train\n",
      "After Train\n",
      "Before torch.no_grad\n",
      "Before train\n",
      "After Train\n",
      "Before torch.no_grad\n",
      "Before train\n",
      "After Train\n",
      "Before torch.no_grad\n",
      "Epoch [81/90], Train Loss: 0.0001, Valid Loss: 0.0008\n",
      "Before train\n",
      "After Train\n",
      "Before torch.no_grad\n",
      "Before train\n",
      "After Train\n",
      "Before torch.no_grad\n",
      "Before train\n",
      "After Train\n",
      "Before torch.no_grad\n",
      "Before train\n",
      "After Train\n",
      "Before torch.no_grad\n",
      "Before train\n",
      "After Train\n",
      "Before torch.no_grad\n",
      "Before train\n",
      "After Train\n",
      "Before torch.no_grad\n",
      "Before train\n",
      "After Train\n",
      "Before torch.no_grad\n",
      "Before train\n",
      "After Train\n",
      "Before torch.no_grad\n",
      "Before train\n",
      "After Train\n",
      "Before torch.no_grad\n"
     ]
    },
    {
     "data": {
      "image/png": "[encoded data removed]",
      "text/plain": [
       "<Figure size 640x480 with 1 Axes>"
      ]
     },
     "metadata": {},
     "output_type": "display_data"
    }
   ],
   "source": [
    "num_epochs = 90\n",
    "learning_rate = 0.001\n",
    "\n",
    "input_size = 1\n",
    "hidden_size = 64 # need to find correct value ; 40 small, 64 norm, 100 a lot\n",
    "num_layers = 1\n",
    "\n",
    "num_classes = 1\n",
    "\n",
    "model = LSTM(num_classes, input_size, hidden_size, num_layers).to(device)\n",
    "\n",
    "# Define loss and optimizer\n",
    "criterion = torch.nn.MSELoss()    # mean-squared error for regression\n",
    "optimizer = torch.optim.Adam(model.parameters(), lr = learning_rate)\n",
    "#optimizer = torch.optim.SGD(lstm.parameters(), lr = learning_rate)\n",
    "\n",
    "train_loss = []\n",
    "valid_loss = []\n",
    "print(train_loader.__len__())\n",
    "for epoch in range(num_epochs):\n",
    "    print(\"Before train\")\n",
    "    model.train()\n",
    "    print(\"After Train\")\n",
    "    total_train_loss = 0\n",
    "    for batch_x, batch_y in train_loader:\n",
    "        batch_x, batch_y = batch_x.to(device), batch_y.to(device)\n",
    "        output = model(batch_x)\n",
    "        loss = criterion(output, batch_y)\n",
    "\n",
    "        optimizer.zero_grad()\n",
    "        loss.backward()\n",
    "        optimizer.step()\n",
    "\n",
    "        total_train_loss += loss.item()\n",
    "    \n",
    "    average_train_loss = total_train_loss / len(train_loader)\n",
    "    train_loss.append(average_train_loss)\n",
    "\n",
    "    model.eval()\n",
    "    total_valid_loss = 0\n",
    "    print(\"Before torch.no_grad\")\n",
    "    with torch.no_grad():\n",
    "        for batch_x, batch_y in test_loader:\n",
    "            batch_x, batch_y = batch_x.to(device), batch_y.to(device)\n",
    "            \n",
    "            output = model(batch_x)\n",
    "            loss = criterion(output, batch_y)\n",
    "\n",
    "            total_valid_loss += loss.item()\n",
    "\n",
    "    average_valid_loss = total_valid_loss / len(test_loader)\n",
    "    valid_loss.append(average_valid_loss)\n",
    "\n",
    "    if epoch % 10 == 0:\n",
    "        print('Epoch [{}/{}], Train Loss: {:.4f}, Valid Loss: {:.4f}'.format(\n",
    "            epoch+1, num_epochs, train_loss[-1], valid_loss[-1]))\n",
    "\n",
    "# plot train and validation loss\n",
    "plt.plot(train_loss, label = 'Train Loss')\n",
    "plt.plot(valid_loss, label = 'Validation Loss')\n",
    "plt.legend()\n",
    "plt.show()"
   ]
  },
  {
   "cell_type": "code",
   "execution_count": 53,
   "metadata": {},
   "outputs": [
    {
     "data": {
      "text/plain": [
       "117755"
      ]
     },
     "execution_count": 53,
     "metadata": {},
     "output_type": "execute_result"
    }
   ],
   "source": [
    "len(testX)"
   ]
  },
  {
   "cell_type": "code",
   "execution_count": 56,
   "metadata": {},
   "outputs": [
    {
     "name": "stdout",
     "output_type": "stream",
     "text": [
      "Test RMSE Score: 1782.33\n"
     ]
    }
   ],
   "source": [
    "from sklearn.metrics import mean_squared_error\n",
    "# Test the model\n",
    "model.eval()\n",
    "test_predict = model(valX)\n",
    "\n",
    "test_predict_inv = sc.inverse_transform(test_predict.cpu().detach().numpy())\n",
    "testY_inv = sc.inverse_transform(testY.cpu().detach().numpy())\n",
    "\n",
    "test_score = np.sqrt(mean_squared_error(valY, test_predict_inv))\n",
    "print(\"Test RMSE Score: %.2f\" % test_score)"
   ]
  },
  {
   "cell_type": "code",
   "execution_count": 57,
   "metadata": {},
   "outputs": [
    {
     "data": {
      "image/png": "[encoded data removed]",
      "text/plain": [
       "<Figure size 640x480 with 1 Axes>"
      ]
     },
     "metadata": {},
     "output_type": "display_data"
    },
    {
     "data": {
      "image/png": "[encoded data removed]",
      "text/plain": [
       "<Figure size 640x480 with 1 Axes>"
      ]
     },
     "metadata": {},
     "output_type": "display_data"
    }
   ],
   "source": [
    "import matplotlib.pyplot as plt\n",
    "\n",
    "# make predictions\n",
    "predY_test = model(testX)\n",
    "predY_val = model(valX)\n",
    "\n",
    "# invert scaling for forecast\n",
    "predY_test_inv = sc.inverse_transform(predY_test.cpu().detach().numpy())\n",
    "predY_val_inv = sc.inverse_transform(predY_val.cpu().detach().numpy())\n",
    "testY_inv = sc.inverse_transform(testY.cpu().detach().numpy())\n",
    "# plot 1\n",
    "plt.plot(special_data, label='True Data')\n",
    "plt.plot(special_data.index[-len(predY_test_inv)- val_size: - val_size], predY_test_inv, label='Test predicted Data')\n",
    "plt.plot(special_data.index[-len(predY_val_inv):], predY_val_inv, label='Val predicted Data')\n",
    "plt.axvline(x = special_data.index[-len(predY_test_inv)- val_size], c='r', linestyle='--')\n",
    "plt.legend()\n",
    "plt.show()\n",
    "# plot 2\n",
    "plt.plot(special_data.index[-len(predY_test_inv)- val_size:], special_data.Close[-len(predY_test_inv)- val_size:], label='True Data')\n",
    "plt.plot(special_data.index[-len(predY_test_inv)- val_size: - val_size], predY_test_inv, label = 'Test predicted Data')\n",
    "plt.plot(special_data.index[-len(predY_val_inv):], predY_val_inv, label='Val predicted Data')\n",
    "plt.axvline(x = special_data.index[-len(predY_test_inv)- val_size], c = 'r', linestyle = '--')\n",
    "plt.legend()\n",
    "plt.show()"
   ]
  },
  {
   "cell_type": "code",
   "execution_count": 70,
   "metadata": {},
   "outputs": [
    {
     "data": {
      "text/plain": [
       "[<matplotlib.lines.Line2D at 0x211dd1b97d0>]"
      ]
     },
     "execution_count": 70,
     "metadata": {},
     "output_type": "execute_result"
    },
    {
     "data": {
      "image/png": "[encoded data removed]",
      "text/plain": [
       "<Figure size 640x480 with 1 Axes>"
      ]
     },
     "metadata": {},
     "output_type": "display_data"
    }
   ],
   "source": [
    "plt.plot(predY_val_inv)\n",
    "plt.plot(special_data.Close[-val_size:].values)"
   ]
  },
  {
   "cell_type": "code",
   "execution_count": 60,
   "metadata": {},
   "outputs": [
    {
     "data": {
      "text/plain": [
       "117755"
      ]
     },
     "execution_count": 60,
     "metadata": {},
     "output_type": "execute_result"
    }
   ],
   "source": [
    "len(testY_inv)"
   ]
  },
  {
   "cell_type": "code",
   "execution_count": 61,
   "metadata": {},
   "outputs": [
    {
     "data": {
      "text/plain": [
       "100"
      ]
     },
     "execution_count": 61,
     "metadata": {},
     "output_type": "execute_result"
    }
   ],
   "source": [
    "len(test_predict_inv)"
   ]
  },
  {
   "cell_type": "code",
   "execution_count": 83,
   "metadata": {},
   "outputs": [
    {
     "data": {
      "text/plain": [
       "array([[1784.2655],\n",
       "       [1784.2135],\n",
       "       [1784.0844],\n",
       "       [1783.8947],\n",
       "       [1783.7443],\n",
       "       [1783.6003],\n",
       "       [1783.4609],\n",
       "       [1783.4292],\n",
       "       [1783.3934],\n",
       "       [1783.2986],\n",
       "       [1783.2006],\n",
       "       [1783.1263],\n",
       "       [1783.0287],\n",
       "       [1782.9454],\n",
       "       [1782.889 ],\n",
       "       [1782.7976],\n",
       "       [1782.6606],\n",
       "       [1782.5841],\n",
       "       [1782.579 ],\n",
       "       [1782.5934],\n",
       "       [1782.5846],\n",
       "       [1782.54  ],\n",
       "       [1782.4402],\n",
       "       [1782.3588],\n",
       "       [1782.2373],\n",
       "       [1782.1101],\n",
       "       [1782.0122],\n",
       "       [1782.0125],\n",
       "       [1782.079 ],\n",
       "       [1782.1434],\n",
       "       [1782.2191],\n",
       "       [1782.2778],\n",
       "       [1782.298 ],\n",
       "       [1782.2694],\n",
       "       [1782.2333],\n",
       "       [1782.242 ],\n",
       "       [1782.2836],\n",
       "       [1782.3555],\n",
       "       [1782.406 ],\n",
       "       [1782.4352],\n",
       "       [1782.4286],\n",
       "       [1782.3909],\n",
       "       [1782.319 ],\n",
       "       [1782.2474],\n",
       "       [1782.1772],\n",
       "       [1782.0756],\n",
       "       [1781.959 ],\n",
       "       [1781.873 ],\n",
       "       [1781.8693],\n",
       "       [1781.8928],\n",
       "       [1781.9054],\n",
       "       [1781.8981],\n",
       "       [1781.8593],\n",
       "       [1781.8527],\n",
       "       [1781.8707],\n",
       "       [1781.9246],\n",
       "       [1782.0426],\n",
       "       [1782.1884],\n",
       "       [1782.3287],\n",
       "       [1782.4326],\n",
       "       [1782.5093],\n",
       "       [1782.6377],\n",
       "       [1782.7705],\n",
       "       [1782.8823],\n",
       "       [1782.9651],\n",
       "       [1782.9841],\n",
       "       [1782.9572],\n",
       "       [1783.0997],\n",
       "       [1783.3369],\n",
       "       [1783.5074],\n",
       "       [1783.6592],\n",
       "       [1783.7395],\n",
       "       [1783.7819],\n",
       "       [1783.7771],\n",
       "       [1783.7404],\n",
       "       [1783.7285],\n",
       "       [1783.7872],\n",
       "       [1783.7275],\n",
       "       [1783.629 ],\n",
       "       [1783.689 ],\n",
       "       [1783.8639],\n",
       "       [1783.9941],\n",
       "       [1784.2677],\n",
       "       [1784.6339],\n",
       "       [1785.1066],\n",
       "       [1785.5508],\n",
       "       [1785.7627],\n",
       "       [1785.9744],\n",
       "       [1786.1782],\n",
       "       [1786.3151],\n",
       "       [1786.4143],\n",
       "       [1786.444 ],\n",
       "       [1786.4336],\n",
       "       [1786.444 ],\n",
       "       [1786.3079],\n",
       "       [1785.9003],\n",
       "       [1785.7084],\n",
       "       [1785.7772],\n",
       "       [1785.8396],\n",
       "       [1785.8947]], dtype=float32)"
      ]
     },
     "execution_count": 83,
     "metadata": {},
     "output_type": "execute_result"
    }
   ],
   "source": [
    "np.array(predY_val_inv)"
   ]
  },
  {
   "cell_type": "code",
   "execution_count": 84,
   "metadata": {},
   "outputs": [],
   "source": [
    "deviations = np.abs(predY_val_inv.flatten() - special_data.Close[-val_size:])\n",
    "max_deviation = np.max(deviations)"
   ]
  },
  {
   "cell_type": "code",
   "execution_count": 85,
   "metadata": {},
   "outputs": [
    {
     "name": "stdout",
     "output_type": "stream",
     "text": [
      "64.44608886718743\n"
     ]
    }
   ],
   "source": [
    "print(max_deviation)"
   ]
  },
  {
   "cell_type": "code",
   "execution_count": 86,
   "metadata": {},
   "outputs": [
    {
     "data": {
      "text/plain": [
       "[<matplotlib.lines.Line2D at 0x211dd23d6d0>]"
      ]
     },
     "execution_count": 86,
     "metadata": {},
     "output_type": "execute_result"
    },
    {
     "data": {
      "image/png": "[encoded data removed]",
      "text/plain": [
       "<Figure size 640x480 with 1 Axes>"
      ]
     },
     "metadata": {},
     "output_type": "display_data"
    }
   ],
   "source": [
    "plt.plot(deviations)"
   ]
  },
  {
   "cell_type": "code",
   "execution_count": 87,
   "metadata": {},
   "outputs": [],
   "source": [
    "percent_deviations = (special_data.Close[-val_size:] - predY_val_inv.flatten()) / special_data.Close[-val_size:]\n",
    "max_percent_deviations = np.max(percent_deviations)"
   ]
  },
  {
   "cell_type": "code",
   "execution_count": 88,
   "metadata": {},
   "outputs": [
    {
     "data": {
      "text/plain": [
       "0.03485305604256572"
      ]
     },
     "execution_count": 88,
     "metadata": {},
     "output_type": "execute_result"
    }
   ],
   "source": [
    "max_percent_deviations"
   ]
  },
  {
   "cell_type": "code",
   "execution_count": 89,
   "metadata": {},
   "outputs": [
    {
     "data": {
      "text/plain": [
       "[<matplotlib.lines.Line2D at 0x211e2659f50>]"
      ]
     },
     "execution_count": 89,
     "metadata": {},
     "output_type": "execute_result"
    },
    {
     "data": {
      "image/png": "[encoded data removed]",
      "text/plain": [
       "<Figure size 640x480 with 1 Axes>"
      ]
     },
     "metadata": {},
     "output_type": "display_data"
    }
   ],
   "source": [
    "plt.plot(percent_deviations)"
   ]
  }
 ],
 "metadata": {
  "kernelspec": {
   "display_name": "Python 3",
   "language": "python",
   "name": "python3"
  },
  "language_info": {
   "codemirror_mode": {
    "name": "ipython",
    "version": 3
   },
   "file_extension": ".py",
   "mimetype": "text/x-python",
   "name": "python",
   "nbconvert_exporter": "python",
   "pygments_lexer": "ipython3",
   "version": "3.11.6"
  },
  "orig_nbformat": 4
 },
 "nbformat": 4,
 "nbformat_minor": 2
}
