{
 "cells": [
  {
   "cell_type": "code",
   "execution_count": 1,
   "metadata": {},
   "outputs": [],
   "source": [
    "import matplotlib.pyplot as plt\n",
    "import pandas as pd\n",
    "import numpy as np\n",
    "import statsmodels.api as sm\n",
    "from statsmodels.iolib.table import SimpleTable\n",
    "from sklearn.metrics import r2_score\n",
    "import ml_metrics as metrics"
   ]
  },
  {
   "cell_type": "code",
   "execution_count": 2,
   "metadata": {},
   "outputs": [],
   "source": [
    "#load data\n",
    "data = pd.read_csv(\"E:\\GitHub\\MasterWork\\Data\\SANDP-500.txt\", dtype=str)"
   ]
  },
  {
   "cell_type": "code",
   "execution_count": 3,
   "metadata": {},
   "outputs": [
    {
     "data": {
      "text/html": [
       "<div>\n",
       "<style scoped>\n",
       "    .dataframe tbody tr th:only-of-type {\n",
       "        vertical-align: middle;\n",
       "    }\n",
       "\n",
       "    .dataframe tbody tr th {\n",
       "        vertical-align: top;\n",
       "    }\n",
       "\n",
       "    .dataframe thead th {\n",
       "        text-align: right;\n",
       "    }\n",
       "</style>\n",
       "<table border=\"1\" class=\"dataframe\">\n",
       "  <thead>\n",
       "    <tr style=\"text-align: right;\">\n",
       "      <th></th>\n",
       "      <th>Ticker</th>\n",
       "      <th>Per</th>\n",
       "      <th>Date</th>\n",
       "      <th>Time</th>\n",
       "      <th>Open</th>\n",
       "      <th>High</th>\n",
       "      <th>Low</th>\n",
       "      <th>Close</th>\n",
       "      <th>Vol</th>\n",
       "    </tr>\n",
       "  </thead>\n",
       "  <tbody>\n",
       "    <tr>\n",
       "      <th>0</th>\n",
       "      <td>SANDP-500</td>\n",
       "      <td>1</td>\n",
       "      <td>20100101</td>\n",
       "      <td>000100</td>\n",
       "      <td>1114.8100000</td>\n",
       "      <td>1114.9700000</td>\n",
       "      <td>1114.8100000</td>\n",
       "      <td>1114.9700000</td>\n",
       "      <td>0</td>\n",
       "    </tr>\n",
       "    <tr>\n",
       "      <th>1</th>\n",
       "      <td>SANDP-500</td>\n",
       "      <td>1</td>\n",
       "      <td>20100101</td>\n",
       "      <td>000200</td>\n",
       "      <td>1115.0200000</td>\n",
       "      <td>1115.1000000</td>\n",
       "      <td>1115.0200000</td>\n",
       "      <td>1115.1000000</td>\n",
       "      <td>0</td>\n",
       "    </tr>\n",
       "    <tr>\n",
       "      <th>2</th>\n",
       "      <td>SANDP-500</td>\n",
       "      <td>1</td>\n",
       "      <td>20100101</td>\n",
       "      <td>000300</td>\n",
       "      <td>1115.1100000</td>\n",
       "      <td>1115.1200000</td>\n",
       "      <td>1115.1100000</td>\n",
       "      <td>1115.1200000</td>\n",
       "      <td>0</td>\n",
       "    </tr>\n",
       "    <tr>\n",
       "      <th>3</th>\n",
       "      <td>SANDP-500</td>\n",
       "      <td>1</td>\n",
       "      <td>20100101</td>\n",
       "      <td>000400</td>\n",
       "      <td>1115.1300000</td>\n",
       "      <td>1115.1400000</td>\n",
       "      <td>1115.1300000</td>\n",
       "      <td>1115.1400000</td>\n",
       "      <td>0</td>\n",
       "    </tr>\n",
       "    <tr>\n",
       "      <th>4</th>\n",
       "      <td>SANDP-500</td>\n",
       "      <td>1</td>\n",
       "      <td>20100101</td>\n",
       "      <td>000500</td>\n",
       "      <td>1115.1000000</td>\n",
       "      <td>1115.1000000</td>\n",
       "      <td>1115.1000000</td>\n",
       "      <td>1115.1000000</td>\n",
       "      <td>0</td>\n",
       "    </tr>\n",
       "  </tbody>\n",
       "</table>\n",
       "</div>"
      ],
      "text/plain": [
       "      Ticker Per      Date    Time          Open          High           Low  \\\n",
       "0  SANDP-500   1  20100101  000100  1114.8100000  1114.9700000  1114.8100000   \n",
       "1  SANDP-500   1  20100101  000200  1115.0200000  1115.1000000  1115.0200000   \n",
       "2  SANDP-500   1  20100101  000300  1115.1100000  1115.1200000  1115.1100000   \n",
       "3  SANDP-500   1  20100101  000400  1115.1300000  1115.1400000  1115.1300000   \n",
       "4  SANDP-500   1  20100101  000500  1115.1000000  1115.1000000  1115.1000000   \n",
       "\n",
       "          Close Vol  \n",
       "0  1114.9700000   0  \n",
       "1  1115.1000000   0  \n",
       "2  1115.1200000   0  \n",
       "3  1115.1400000   0  \n",
       "4  1115.1000000   0  "
      ]
     },
     "execution_count": 3,
     "metadata": {},
     "output_type": "execute_result"
    }
   ],
   "source": [
    "data.head()"
   ]
  },
  {
   "cell_type": "code",
   "execution_count": 24,
   "metadata": {},
   "outputs": [
    {
     "ename": "TypeError",
     "evalue": "no numeric data to plot",
     "output_type": "error",
     "traceback": [
      "\u001b[1;31m---------------------------------------------------------------------------\u001b[0m",
      "\u001b[1;31mTypeError\u001b[0m                                 Traceback (most recent call last)",
      "Cell \u001b[1;32mIn [24], line 1\u001b[0m\n\u001b[1;32m----> 1\u001b[0m data\u001b[39m.\u001b[39;49mClose\u001b[39m.\u001b[39;49mplot()\n",
      "File \u001b[1;32m~\\AppData\\Roaming\\Python\\Python38\\site-packages\\pandas\\plotting\\_core.py:1000\u001b[0m, in \u001b[0;36mPlotAccessor.__call__\u001b[1;34m(self, *args, **kwargs)\u001b[0m\n\u001b[0;32m    997\u001b[0m             label_name \u001b[39m=\u001b[39m label_kw \u001b[39mor\u001b[39;00m data\u001b[39m.\u001b[39mcolumns\n\u001b[0;32m    998\u001b[0m             data\u001b[39m.\u001b[39mcolumns \u001b[39m=\u001b[39m label_name\n\u001b[1;32m-> 1000\u001b[0m \u001b[39mreturn\u001b[39;00m plot_backend\u001b[39m.\u001b[39;49mplot(data, kind\u001b[39m=\u001b[39;49mkind, \u001b[39m*\u001b[39;49m\u001b[39m*\u001b[39;49mkwargs)\n",
      "File \u001b[1;32m~\\AppData\\Roaming\\Python\\Python38\\site-packages\\pandas\\plotting\\_matplotlib\\__init__.py:71\u001b[0m, in \u001b[0;36mplot\u001b[1;34m(data, kind, **kwargs)\u001b[0m\n\u001b[0;32m     69\u001b[0m         kwargs[\u001b[39m\"\u001b[39m\u001b[39max\u001b[39m\u001b[39m\"\u001b[39m] \u001b[39m=\u001b[39m \u001b[39mgetattr\u001b[39m(ax, \u001b[39m\"\u001b[39m\u001b[39mleft_ax\u001b[39m\u001b[39m\"\u001b[39m, ax)\n\u001b[0;32m     70\u001b[0m plot_obj \u001b[39m=\u001b[39m PLOT_CLASSES[kind](data, \u001b[39m*\u001b[39m\u001b[39m*\u001b[39mkwargs)\n\u001b[1;32m---> 71\u001b[0m plot_obj\u001b[39m.\u001b[39;49mgenerate()\n\u001b[0;32m     72\u001b[0m plot_obj\u001b[39m.\u001b[39mdraw()\n\u001b[0;32m     73\u001b[0m \u001b[39mreturn\u001b[39;00m plot_obj\u001b[39m.\u001b[39mresult\n",
      "File \u001b[1;32m~\\AppData\\Roaming\\Python\\Python38\\site-packages\\pandas\\plotting\\_matplotlib\\core.py:450\u001b[0m, in \u001b[0;36mMPLPlot.generate\u001b[1;34m(self)\u001b[0m\n\u001b[0;32m    448\u001b[0m \u001b[39mdef\u001b[39;00m \u001b[39mgenerate\u001b[39m(\u001b[39mself\u001b[39m) \u001b[39m-\u001b[39m\u001b[39m>\u001b[39m \u001b[39mNone\u001b[39;00m:\n\u001b[0;32m    449\u001b[0m     \u001b[39mself\u001b[39m\u001b[39m.\u001b[39m_args_adjust()\n\u001b[1;32m--> 450\u001b[0m     \u001b[39mself\u001b[39;49m\u001b[39m.\u001b[39;49m_compute_plot_data()\n\u001b[0;32m    451\u001b[0m     \u001b[39mself\u001b[39m\u001b[39m.\u001b[39m_setup_subplots()\n\u001b[0;32m    452\u001b[0m     \u001b[39mself\u001b[39m\u001b[39m.\u001b[39m_make_plot()\n",
      "File \u001b[1;32m~\\AppData\\Roaming\\Python\\Python38\\site-packages\\pandas\\plotting\\_matplotlib\\core.py:635\u001b[0m, in \u001b[0;36mMPLPlot._compute_plot_data\u001b[1;34m(self)\u001b[0m\n\u001b[0;32m    633\u001b[0m \u001b[39m# no non-numeric frames or series allowed\u001b[39;00m\n\u001b[0;32m    634\u001b[0m \u001b[39mif\u001b[39;00m is_empty:\n\u001b[1;32m--> 635\u001b[0m     \u001b[39mraise\u001b[39;00m \u001b[39mTypeError\u001b[39;00m(\u001b[39m\"\u001b[39m\u001b[39mno numeric data to plot\u001b[39m\u001b[39m\"\u001b[39m)\n\u001b[0;32m    637\u001b[0m \u001b[39mself\u001b[39m\u001b[39m.\u001b[39mdata \u001b[39m=\u001b[39m numeric_data\u001b[39m.\u001b[39mapply(\u001b[39mself\u001b[39m\u001b[39m.\u001b[39m_convert_to_ndarray)\n",
      "\u001b[1;31mTypeError\u001b[0m: no numeric data to plot"
     ]
    }
   ],
   "source": [
    "data.Close.plot()"
   ]
  },
  {
   "cell_type": "code",
   "execution_count": 4,
   "metadata": {},
   "outputs": [],
   "source": [
    "data = data.drop(columns=['Ticker', 'Per', 'Vol'])\n",
    "data.Date = pd.to_datetime(data.Date, format='%Y%m%d')"
   ]
  },
  {
   "cell_type": "code",
   "execution_count": 5,
   "metadata": {},
   "outputs": [
    {
     "name": "stderr",
     "output_type": "stream",
     "text": [
      "C:\\Users\\Skiv2\\AppData\\Local\\Temp\\ipykernel_1360\\4117430611.py:5: SettingWithCopyWarning: \n",
      "A value is trying to be set on a copy of a slice from a DataFrame\n",
      "\n",
      "See the caveats in the documentation: https://pandas.pydata.org/pandas-docs/stable/user_guide/indexing.html#returning-a-view-versus-a-copy\n",
      "  data.Date[i] = data.Date[i].timestamp() + time\n"
     ]
    }
   ],
   "source": [
    "import calendar\n",
    "for i in range(len(data.Date)):\n",
    "    temp = data.Time[i]\n",
    "    time = (int(temp[0]) * 10 + int(temp[1])) * 3600 + (int(temp[2]) * 10 + int(temp[3])) * 60 + (int(temp[4]) * 10 + int(temp[5]))\n",
    "    data.Date[i] = data.Date[i].timestamp() + time"
   ]
  },
  {
   "cell_type": "code",
   "execution_count": 6,
   "metadata": {},
   "outputs": [
    {
     "data": {
      "text/html": [
       "<div>\n",
       "<style scoped>\n",
       "    .dataframe tbody tr th:only-of-type {\n",
       "        vertical-align: middle;\n",
       "    }\n",
       "\n",
       "    .dataframe tbody tr th {\n",
       "        vertical-align: top;\n",
       "    }\n",
       "\n",
       "    .dataframe thead th {\n",
       "        text-align: right;\n",
       "    }\n",
       "</style>\n",
       "<table border=\"1\" class=\"dataframe\">\n",
       "  <thead>\n",
       "    <tr style=\"text-align: right;\">\n",
       "      <th></th>\n",
       "      <th>Date</th>\n",
       "      <th>Time</th>\n",
       "      <th>Open</th>\n",
       "      <th>High</th>\n",
       "      <th>Low</th>\n",
       "      <th>Close</th>\n",
       "    </tr>\n",
       "  </thead>\n",
       "  <tbody>\n",
       "    <tr>\n",
       "      <th>0</th>\n",
       "      <td>1262304060.0</td>\n",
       "      <td>000100</td>\n",
       "      <td>1114.8100000</td>\n",
       "      <td>1114.9700000</td>\n",
       "      <td>1114.8100000</td>\n",
       "      <td>1114.9700000</td>\n",
       "    </tr>\n",
       "    <tr>\n",
       "      <th>1</th>\n",
       "      <td>1262304120.0</td>\n",
       "      <td>000200</td>\n",
       "      <td>1115.0200000</td>\n",
       "      <td>1115.1000000</td>\n",
       "      <td>1115.0200000</td>\n",
       "      <td>1115.1000000</td>\n",
       "    </tr>\n",
       "    <tr>\n",
       "      <th>2</th>\n",
       "      <td>1262304180.0</td>\n",
       "      <td>000300</td>\n",
       "      <td>1115.1100000</td>\n",
       "      <td>1115.1200000</td>\n",
       "      <td>1115.1100000</td>\n",
       "      <td>1115.1200000</td>\n",
       "    </tr>\n",
       "    <tr>\n",
       "      <th>3</th>\n",
       "      <td>1262304240.0</td>\n",
       "      <td>000400</td>\n",
       "      <td>1115.1300000</td>\n",
       "      <td>1115.1400000</td>\n",
       "      <td>1115.1300000</td>\n",
       "      <td>1115.1400000</td>\n",
       "    </tr>\n",
       "    <tr>\n",
       "      <th>4</th>\n",
       "      <td>1262304300.0</td>\n",
       "      <td>000500</td>\n",
       "      <td>1115.1000000</td>\n",
       "      <td>1115.1000000</td>\n",
       "      <td>1115.1000000</td>\n",
       "      <td>1115.1000000</td>\n",
       "    </tr>\n",
       "  </tbody>\n",
       "</table>\n",
       "</div>"
      ],
      "text/plain": [
       "           Date    Time          Open          High           Low  \\\n",
       "0  1262304060.0  000100  1114.8100000  1114.9700000  1114.8100000   \n",
       "1  1262304120.0  000200  1115.0200000  1115.1000000  1115.0200000   \n",
       "2  1262304180.0  000300  1115.1100000  1115.1200000  1115.1100000   \n",
       "3  1262304240.0  000400  1115.1300000  1115.1400000  1115.1300000   \n",
       "4  1262304300.0  000500  1115.1000000  1115.1000000  1115.1000000   \n",
       "\n",
       "          Close  \n",
       "0  1114.9700000  \n",
       "1  1115.1000000  \n",
       "2  1115.1200000  \n",
       "3  1115.1400000  \n",
       "4  1115.1000000  "
      ]
     },
     "execution_count": 6,
     "metadata": {},
     "output_type": "execute_result"
    }
   ],
   "source": [
    "data.head()"
   ]
  },
  {
   "cell_type": "code",
   "execution_count": 7,
   "metadata": {},
   "outputs": [],
   "source": [
    "data = data.drop(columns=['Time'])\n",
    "data.Date = data.Date.astype(int)"
   ]
  },
  {
   "cell_type": "code",
   "execution_count": 8,
   "metadata": {},
   "outputs": [
    {
     "data": {
      "text/html": [
       "<div>\n",
       "<style scoped>\n",
       "    .dataframe tbody tr th:only-of-type {\n",
       "        vertical-align: middle;\n",
       "    }\n",
       "\n",
       "    .dataframe tbody tr th {\n",
       "        vertical-align: top;\n",
       "    }\n",
       "\n",
       "    .dataframe thead th {\n",
       "        text-align: right;\n",
       "    }\n",
       "</style>\n",
       "<table border=\"1\" class=\"dataframe\">\n",
       "  <thead>\n",
       "    <tr style=\"text-align: right;\">\n",
       "      <th></th>\n",
       "      <th>Date</th>\n",
       "      <th>Open</th>\n",
       "      <th>High</th>\n",
       "      <th>Low</th>\n",
       "      <th>Close</th>\n",
       "    </tr>\n",
       "  </thead>\n",
       "  <tbody>\n",
       "    <tr>\n",
       "      <th>0</th>\n",
       "      <td>1262304060</td>\n",
       "      <td>1114.8100000</td>\n",
       "      <td>1114.9700000</td>\n",
       "      <td>1114.8100000</td>\n",
       "      <td>1114.9700000</td>\n",
       "    </tr>\n",
       "    <tr>\n",
       "      <th>1</th>\n",
       "      <td>1262304120</td>\n",
       "      <td>1115.0200000</td>\n",
       "      <td>1115.1000000</td>\n",
       "      <td>1115.0200000</td>\n",
       "      <td>1115.1000000</td>\n",
       "    </tr>\n",
       "    <tr>\n",
       "      <th>2</th>\n",
       "      <td>1262304180</td>\n",
       "      <td>1115.1100000</td>\n",
       "      <td>1115.1200000</td>\n",
       "      <td>1115.1100000</td>\n",
       "      <td>1115.1200000</td>\n",
       "    </tr>\n",
       "    <tr>\n",
       "      <th>3</th>\n",
       "      <td>1262304240</td>\n",
       "      <td>1115.1300000</td>\n",
       "      <td>1115.1400000</td>\n",
       "      <td>1115.1300000</td>\n",
       "      <td>1115.1400000</td>\n",
       "    </tr>\n",
       "    <tr>\n",
       "      <th>4</th>\n",
       "      <td>1262304300</td>\n",
       "      <td>1115.1000000</td>\n",
       "      <td>1115.1000000</td>\n",
       "      <td>1115.1000000</td>\n",
       "      <td>1115.1000000</td>\n",
       "    </tr>\n",
       "  </tbody>\n",
       "</table>\n",
       "</div>"
      ],
      "text/plain": [
       "         Date          Open          High           Low         Close\n",
       "0  1262304060  1114.8100000  1114.9700000  1114.8100000  1114.9700000\n",
       "1  1262304120  1115.0200000  1115.1000000  1115.0200000  1115.1000000\n",
       "2  1262304180  1115.1100000  1115.1200000  1115.1100000  1115.1200000\n",
       "3  1262304240  1115.1300000  1115.1400000  1115.1300000  1115.1400000\n",
       "4  1262304300  1115.1000000  1115.1000000  1115.1000000  1115.1000000"
      ]
     },
     "execution_count": 8,
     "metadata": {},
     "output_type": "execute_result"
    }
   ],
   "source": [
    "data.head()"
   ]
  },
  {
   "cell_type": "code",
   "execution_count": 9,
   "metadata": {},
   "outputs": [],
   "source": [
    "data.to_csv(\"E:\\GitHub\\MasterWork\\Data\\SANDP-500Fixed.txt\", index=False)"
   ]
  },
  {
   "cell_type": "code",
   "execution_count": null,
   "metadata": {},
   "outputs": [],
   "source": []
  }
 ],
 "metadata": {
  "kernelspec": {
   "display_name": "Python 3.8.10 64-bit",
   "language": "python",
   "name": "python3"
  },
  "language_info": {
   "codemirror_mode": {
    "name": "ipython",
    "version": 3
   },
   "file_extension": ".py",
   "mimetype": "text/x-python",
   "name": "python",
   "nbconvert_exporter": "python",
   "pygments_lexer": "ipython3",
   "version": "3.8.10"
  },
  "orig_nbformat": 4,
  "vscode": {
   "interpreter": {
    "hash": "f5ff168696553f3e2cb115c273c46eeb315c32b0d0536992c4bad2740a7f9469"
   }
  }
 },
 "nbformat": 4,
 "nbformat_minor": 2
}
