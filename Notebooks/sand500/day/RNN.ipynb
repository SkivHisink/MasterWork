{
 "cells": [
  {
   "cell_type": "code",
   "execution_count": 40,
   "metadata": {},
   "outputs": [],
   "source": [
    "%matplotlib inline\n",
    "\n",
    "import glob\n",
    "from platform import python_version\n",
    "import pandas as pd\n",
    "import matplotlib\n",
    "import numpy as np\n",
    "import pandas as pd\n",
    "import sklearn\n",
    "import torch\n",
    "import matplotlib.pyplot as plt"
   ]
  },
  {
   "cell_type": "code",
   "execution_count": 41,
   "metadata": {},
   "outputs": [
    {
     "name": "stdout",
     "output_type": "stream",
     "text": [
      "python version==3.11.7\n",
      "pandas==2.1.2\n",
      "numpy==1.26.1\n",
      "sklearn==1.3.2\n",
      "torch==2.1.1+cu121\n",
      "matplotlib==3.8.1\n"
     ]
    }
   ],
   "source": [
    "print(\"python version==%s\" % python_version())\n",
    "print(\"pandas==%s\" % pd.__version__)\n",
    "print(\"numpy==%s\" % np.__version__)\n",
    "print(\"sklearn==%s\" % sklearn.__version__)\n",
    "print(\"torch==%s\" % torch.__version__)\n",
    "print(\"matplotlib==%s\" % matplotlib.__version__)"
   ]
  },
  {
   "cell_type": "code",
   "execution_count": 42,
   "metadata": {},
   "outputs": [
    {
     "name": "stdout",
     "output_type": "stream",
     "text": [
      "Using device: cuda\n"
     ]
    }
   ],
   "source": [
    "device = torch.device('cuda' if torch.cuda.is_available() else 'cpu')\n",
    "print('Using device:', device)"
   ]
  },
  {
   "cell_type": "code",
   "execution_count": 43,
   "metadata": {},
   "outputs": [],
   "source": [
    "#load data\n",
    "data = pd.read_csv(\"..\\..\\..\\Data\\Day\\S&P 500 Historical Data00-20.csv\")"
   ]
  },
  {
   "cell_type": "code",
   "execution_count": 44,
   "metadata": {},
   "outputs": [],
   "source": [
    "#transform data\n",
    "data = data.replace(\",\", \"\", regex=True)\n",
    "data.Date = pd.to_datetime(data.Date)\n",
    "data = data.sort_values(by=[\"Date\"])\n",
    "data.set_index('Date')\n",
    "data.Price = data.Price.astype(float)\n",
    "data.High = data.High.astype(float)\n",
    "data.Low = data.Low.astype(float)\n",
    "data.Open = data.Open.astype(float)\n",
    "data[\"Vol.\"] = data[\"Vol.\"].astype(float)"
   ]
  },
  {
   "cell_type": "code",
   "execution_count": 45,
   "metadata": {},
   "outputs": [
    {
     "data": {
      "text/html": [
       "<div>\n",
       "<style scoped>\n",
       "    .dataframe tbody tr th:only-of-type {\n",
       "        vertical-align: middle;\n",
       "    }\n",
       "\n",
       "    .dataframe tbody tr th {\n",
       "        vertical-align: top;\n",
       "    }\n",
       "\n",
       "    .dataframe thead th {\n",
       "        text-align: right;\n",
       "    }\n",
       "</style>\n",
       "<table border=\"1\" class=\"dataframe\">\n",
       "  <thead>\n",
       "    <tr style=\"text-align: right;\">\n",
       "      <th></th>\n",
       "      <th>Date</th>\n",
       "      <th>Price</th>\n",
       "      <th>Open</th>\n",
       "      <th>High</th>\n",
       "      <th>Low</th>\n",
       "      <th>Vol.</th>\n",
       "      <th>Change %</th>\n",
       "    </tr>\n",
       "  </thead>\n",
       "  <tbody>\n",
       "    <tr>\n",
       "      <th>4999</th>\n",
       "      <td>2000-01-03</td>\n",
       "      <td>1455.2</td>\n",
       "      <td>1469.2</td>\n",
       "      <td>1478.0</td>\n",
       "      <td>1438.4</td>\n",
       "      <td>NaN</td>\n",
       "      <td>-0.95%</td>\n",
       "    </tr>\n",
       "    <tr>\n",
       "      <th>4998</th>\n",
       "      <td>2000-01-04</td>\n",
       "      <td>1399.4</td>\n",
       "      <td>1455.2</td>\n",
       "      <td>1455.2</td>\n",
       "      <td>1397.4</td>\n",
       "      <td>NaN</td>\n",
       "      <td>-3.83%</td>\n",
       "    </tr>\n",
       "    <tr>\n",
       "      <th>4997</th>\n",
       "      <td>2000-01-05</td>\n",
       "      <td>1402.1</td>\n",
       "      <td>1399.4</td>\n",
       "      <td>1413.3</td>\n",
       "      <td>1377.7</td>\n",
       "      <td>NaN</td>\n",
       "      <td>0.19%</td>\n",
       "    </tr>\n",
       "    <tr>\n",
       "      <th>4996</th>\n",
       "      <td>2000-01-06</td>\n",
       "      <td>1403.5</td>\n",
       "      <td>1402.1</td>\n",
       "      <td>1411.9</td>\n",
       "      <td>1392.0</td>\n",
       "      <td>NaN</td>\n",
       "      <td>0.10%</td>\n",
       "    </tr>\n",
       "    <tr>\n",
       "      <th>4995</th>\n",
       "      <td>2000-01-07</td>\n",
       "      <td>1441.5</td>\n",
       "      <td>1403.5</td>\n",
       "      <td>1441.5</td>\n",
       "      <td>1400.5</td>\n",
       "      <td>NaN</td>\n",
       "      <td>2.71%</td>\n",
       "    </tr>\n",
       "  </tbody>\n",
       "</table>\n",
       "</div>"
      ],
      "text/plain": [
       "           Date   Price    Open    High     Low  Vol. Change %\n",
       "4999 2000-01-03  1455.2  1469.2  1478.0  1438.4   NaN   -0.95%\n",
       "4998 2000-01-04  1399.4  1455.2  1455.2  1397.4   NaN   -3.83%\n",
       "4997 2000-01-05  1402.1  1399.4  1413.3  1377.7   NaN    0.19%\n",
       "4996 2000-01-06  1403.5  1402.1  1411.9  1392.0   NaN    0.10%\n",
       "4995 2000-01-07  1441.5  1403.5  1441.5  1400.5   NaN    2.71%"
      ]
     },
     "execution_count": 45,
     "metadata": {},
     "output_type": "execute_result"
    }
   ],
   "source": [
    "data.head()"
   ]
  },
  {
   "cell_type": "code",
   "execution_count": 46,
   "metadata": {},
   "outputs": [],
   "source": [
    "data.index = data.index[::-1]"
   ]
  },
  {
   "cell_type": "code",
   "execution_count": 47,
   "metadata": {},
   "outputs": [
    {
     "data": {
      "text/html": [
       "<div>\n",
       "<style scoped>\n",
       "    .dataframe tbody tr th:only-of-type {\n",
       "        vertical-align: middle;\n",
       "    }\n",
       "\n",
       "    .dataframe tbody tr th {\n",
       "        vertical-align: top;\n",
       "    }\n",
       "\n",
       "    .dataframe thead th {\n",
       "        text-align: right;\n",
       "    }\n",
       "</style>\n",
       "<table border=\"1\" class=\"dataframe\">\n",
       "  <thead>\n",
       "    <tr style=\"text-align: right;\">\n",
       "      <th></th>\n",
       "      <th>Date</th>\n",
       "      <th>Price</th>\n",
       "      <th>Open</th>\n",
       "      <th>High</th>\n",
       "      <th>Low</th>\n",
       "      <th>Vol.</th>\n",
       "      <th>Change %</th>\n",
       "    </tr>\n",
       "  </thead>\n",
       "  <tbody>\n",
       "    <tr>\n",
       "      <th>0</th>\n",
       "      <td>2000-01-03</td>\n",
       "      <td>1455.2</td>\n",
       "      <td>1469.2</td>\n",
       "      <td>1478.0</td>\n",
       "      <td>1438.4</td>\n",
       "      <td>NaN</td>\n",
       "      <td>-0.95%</td>\n",
       "    </tr>\n",
       "    <tr>\n",
       "      <th>1</th>\n",
       "      <td>2000-01-04</td>\n",
       "      <td>1399.4</td>\n",
       "      <td>1455.2</td>\n",
       "      <td>1455.2</td>\n",
       "      <td>1397.4</td>\n",
       "      <td>NaN</td>\n",
       "      <td>-3.83%</td>\n",
       "    </tr>\n",
       "    <tr>\n",
       "      <th>2</th>\n",
       "      <td>2000-01-05</td>\n",
       "      <td>1402.1</td>\n",
       "      <td>1399.4</td>\n",
       "      <td>1413.3</td>\n",
       "      <td>1377.7</td>\n",
       "      <td>NaN</td>\n",
       "      <td>0.19%</td>\n",
       "    </tr>\n",
       "    <tr>\n",
       "      <th>3</th>\n",
       "      <td>2000-01-06</td>\n",
       "      <td>1403.5</td>\n",
       "      <td>1402.1</td>\n",
       "      <td>1411.9</td>\n",
       "      <td>1392.0</td>\n",
       "      <td>NaN</td>\n",
       "      <td>0.10%</td>\n",
       "    </tr>\n",
       "    <tr>\n",
       "      <th>4</th>\n",
       "      <td>2000-01-07</td>\n",
       "      <td>1441.5</td>\n",
       "      <td>1403.5</td>\n",
       "      <td>1441.5</td>\n",
       "      <td>1400.5</td>\n",
       "      <td>NaN</td>\n",
       "      <td>2.71%</td>\n",
       "    </tr>\n",
       "  </tbody>\n",
       "</table>\n",
       "</div>"
      ],
      "text/plain": [
       "        Date   Price    Open    High     Low  Vol. Change %\n",
       "0 2000-01-03  1455.2  1469.2  1478.0  1438.4   NaN   -0.95%\n",
       "1 2000-01-04  1399.4  1455.2  1455.2  1397.4   NaN   -3.83%\n",
       "2 2000-01-05  1402.1  1399.4  1413.3  1377.7   NaN    0.19%\n",
       "3 2000-01-06  1403.5  1402.1  1411.9  1392.0   NaN    0.10%\n",
       "4 2000-01-07  1441.5  1403.5  1441.5  1400.5   NaN    2.71%"
      ]
     },
     "execution_count": 47,
     "metadata": {},
     "output_type": "execute_result"
    }
   ],
   "source": [
    "data.head()"
   ]
  },
  {
   "cell_type": "code",
   "execution_count": 48,
   "metadata": {},
   "outputs": [],
   "source": [
    "special_data = data[(data['Date'] > '2010-01-01') & (data['Date'] < '2014-01-01')]\n",
    "special_data.index = data.index[:len(special_data)]"
   ]
  },
  {
   "cell_type": "code",
   "execution_count": 49,
   "metadata": {},
   "outputs": [
    {
     "data": {
      "text/html": [
       "<div>\n",
       "<style scoped>\n",
       "    .dataframe tbody tr th:only-of-type {\n",
       "        vertical-align: middle;\n",
       "    }\n",
       "\n",
       "    .dataframe tbody tr th {\n",
       "        vertical-align: top;\n",
       "    }\n",
       "\n",
       "    .dataframe thead th {\n",
       "        text-align: right;\n",
       "    }\n",
       "</style>\n",
       "<table border=\"1\" class=\"dataframe\">\n",
       "  <thead>\n",
       "    <tr style=\"text-align: right;\">\n",
       "      <th></th>\n",
       "      <th>Date</th>\n",
       "      <th>Price</th>\n",
       "      <th>Open</th>\n",
       "      <th>High</th>\n",
       "      <th>Low</th>\n",
       "      <th>Vol.</th>\n",
       "      <th>Change %</th>\n",
       "    </tr>\n",
       "  </thead>\n",
       "  <tbody>\n",
       "    <tr>\n",
       "      <th>0</th>\n",
       "      <td>2010-01-04</td>\n",
       "      <td>1132.99</td>\n",
       "      <td>1116.56</td>\n",
       "      <td>1133.87</td>\n",
       "      <td>1116.56</td>\n",
       "      <td>NaN</td>\n",
       "      <td>1.60%</td>\n",
       "    </tr>\n",
       "    <tr>\n",
       "      <th>1</th>\n",
       "      <td>2010-01-05</td>\n",
       "      <td>1136.52</td>\n",
       "      <td>1132.66</td>\n",
       "      <td>1136.63</td>\n",
       "      <td>1129.66</td>\n",
       "      <td>NaN</td>\n",
       "      <td>0.31%</td>\n",
       "    </tr>\n",
       "    <tr>\n",
       "      <th>2</th>\n",
       "      <td>2010-01-06</td>\n",
       "      <td>1137.14</td>\n",
       "      <td>1135.71</td>\n",
       "      <td>1139.19</td>\n",
       "      <td>1133.95</td>\n",
       "      <td>NaN</td>\n",
       "      <td>0.05%</td>\n",
       "    </tr>\n",
       "    <tr>\n",
       "      <th>3</th>\n",
       "      <td>2010-01-07</td>\n",
       "      <td>1141.69</td>\n",
       "      <td>1136.27</td>\n",
       "      <td>1142.46</td>\n",
       "      <td>1131.32</td>\n",
       "      <td>NaN</td>\n",
       "      <td>0.40%</td>\n",
       "    </tr>\n",
       "    <tr>\n",
       "      <th>4</th>\n",
       "      <td>2010-01-08</td>\n",
       "      <td>1144.98</td>\n",
       "      <td>1140.52</td>\n",
       "      <td>1145.39</td>\n",
       "      <td>1136.22</td>\n",
       "      <td>NaN</td>\n",
       "      <td>0.29%</td>\n",
       "    </tr>\n",
       "  </tbody>\n",
       "</table>\n",
       "</div>"
      ],
      "text/plain": [
       "        Date    Price     Open     High      Low  Vol. Change %\n",
       "0 2010-01-04  1132.99  1116.56  1133.87  1116.56   NaN    1.60%\n",
       "1 2010-01-05  1136.52  1132.66  1136.63  1129.66   NaN    0.31%\n",
       "2 2010-01-06  1137.14  1135.71  1139.19  1133.95   NaN    0.05%\n",
       "3 2010-01-07  1141.69  1136.27  1142.46  1131.32   NaN    0.40%\n",
       "4 2010-01-08  1144.98  1140.52  1145.39  1136.22   NaN    0.29%"
      ]
     },
     "execution_count": 49,
     "metadata": {},
     "output_type": "execute_result"
    }
   ],
   "source": [
    "special_data.head()"
   ]
  },
  {
   "cell_type": "code",
   "execution_count": 50,
   "metadata": {},
   "outputs": [],
   "source": [
    "#change indexes\n",
    "special_data.set_index('Date', inplace=True)"
   ]
  },
  {
   "cell_type": "code",
   "execution_count": 51,
   "metadata": {},
   "outputs": [],
   "source": [
    "special_data = special_data.drop(columns=['Open', 'High', 'Low', 'Vol.', 'Change %'])"
   ]
  },
  {
   "cell_type": "code",
   "execution_count": 52,
   "metadata": {},
   "outputs": [
    {
     "data": {
      "text/html": [
       "<div>\n",
       "<style scoped>\n",
       "    .dataframe tbody tr th:only-of-type {\n",
       "        vertical-align: middle;\n",
       "    }\n",
       "\n",
       "    .dataframe tbody tr th {\n",
       "        vertical-align: top;\n",
       "    }\n",
       "\n",
       "    .dataframe thead th {\n",
       "        text-align: right;\n",
       "    }\n",
       "</style>\n",
       "<table border=\"1\" class=\"dataframe\">\n",
       "  <thead>\n",
       "    <tr style=\"text-align: right;\">\n",
       "      <th></th>\n",
       "      <th>Price</th>\n",
       "    </tr>\n",
       "    <tr>\n",
       "      <th>Date</th>\n",
       "      <th></th>\n",
       "    </tr>\n",
       "  </thead>\n",
       "  <tbody>\n",
       "    <tr>\n",
       "      <th>2010-01-04</th>\n",
       "      <td>1132.99</td>\n",
       "    </tr>\n",
       "    <tr>\n",
       "      <th>2010-01-05</th>\n",
       "      <td>1136.52</td>\n",
       "    </tr>\n",
       "    <tr>\n",
       "      <th>2010-01-06</th>\n",
       "      <td>1137.14</td>\n",
       "    </tr>\n",
       "    <tr>\n",
       "      <th>2010-01-07</th>\n",
       "      <td>1141.69</td>\n",
       "    </tr>\n",
       "    <tr>\n",
       "      <th>2010-01-08</th>\n",
       "      <td>1144.98</td>\n",
       "    </tr>\n",
       "  </tbody>\n",
       "</table>\n",
       "</div>"
      ],
      "text/plain": [
       "              Price\n",
       "Date               \n",
       "2010-01-04  1132.99\n",
       "2010-01-05  1136.52\n",
       "2010-01-06  1137.14\n",
       "2010-01-07  1141.69\n",
       "2010-01-08  1144.98"
      ]
     },
     "execution_count": 52,
     "metadata": {},
     "output_type": "execute_result"
    }
   ],
   "source": [
    "special_data.head()"
   ]
  },
  {
   "cell_type": "code",
   "execution_count": 53,
   "metadata": {},
   "outputs": [
    {
     "data": {
      "text/plain": [
       "[<matplotlib.lines.Line2D at 0x186b53b05d0>]"
      ]
     },
     "execution_count": 53,
     "metadata": {},
     "output_type": "execute_result"
    },
    {
     "data": {
      "image/png": "[encoded data removed]",
      "text/plain": [
       "<Figure size 640x480 with 1 Axes>"
      ]
     },
     "metadata": {},
     "output_type": "display_data"
    }
   ],
   "source": [
    "plt.plot(special_data)"
   ]
  },
  {
   "cell_type": "code",
   "execution_count": 54,
   "metadata": {},
   "outputs": [],
   "source": [
    "from torch.autograd import Variable\n",
    "from sklearn.preprocessing import MinMaxScaler\n",
    "\n",
    "def sliding_windows(data, seq_length):\n",
    "    x = []\n",
    "    y = []\n",
    "\n",
    "    for i in range(len(data)-seq_length-1):\n",
    "        _x = data[i:(i+seq_length)]\n",
    "        _y = data[i+seq_length]\n",
    "        x.append(_x)\n",
    "        y.append(_y)\n",
    "\n",
    "    return np.array(x),np.array(y)\n",
    "\n",
    "sc = MinMaxScaler()\n",
    "training_data = sc.fit_transform(special_data)\n",
    "\n",
    "seq_length = 100\n",
    "x, y = sliding_windows(training_data, seq_length)\n",
    "\n",
    "train_size = int(len(y) * 0.7)\n",
    "val_size = int(len(training_data) * 0.1)\n",
    "test_size = len(y) - train_size - val_size\n",
    "\n",
    "dataX = Variable(torch.Tensor(np.array(x)).to(device))\n",
    "dataY = Variable(torch.Tensor(np.array(y)).to(device))\n",
    "\n",
    "trainX = Variable(torch.Tensor(np.array(x[0:train_size])).to(device))\n",
    "trainY = Variable(torch.Tensor(np.array(y[0:train_size])).to(device))\n",
    "\n",
    "testX = Variable(torch.Tensor(np.array(x[train_size:(len(x) - val_size)])).to(device))\n",
    "testY = Variable(torch.Tensor(np.array(y[train_size:(len(y) - val_size)])).to(device))\n",
    "\n",
    "valX = Variable(torch.Tensor(np.array(x[(len(x) - val_size):len(x)])).to(device))\n",
    "valY = Variable(torch.Tensor(np.array(y[(len(x) - val_size):len(y)])).to(device))\n"
   ]
  },
  {
   "cell_type": "code",
   "execution_count": 55,
   "metadata": {},
   "outputs": [],
   "source": [
    "import torch\n",
    "import torch.nn as nn\n",
    "from torch.utils.data import Dataset, DataLoader\n",
    "\n",
    "class TimeSeriesDataset(Dataset):\n",
    "    def __init__(self, x, y):\n",
    "        self.x = x\n",
    "        self.y = y\n",
    "\n",
    "    def __len__(self):\n",
    "        return len(self.x)\n",
    "\n",
    "    def __getitem__(self, idx):\n",
    "        return self.x[idx], self.y[idx]\n",
    "\n",
    "train_dataset = TimeSeriesDataset(trainX, trainY)\n",
    "test_dataset = TimeSeriesDataset(testX, testY)\n",
    "val_dataset = TimeSeriesDataset(valX, valY)\n",
    "\n",
    "train_loader = DataLoader(train_dataset, batch_size = 64, shuffle = False)\n",
    "test_loader = DataLoader(test_dataset, batch_size = 64, shuffle = False)\n",
    "val_loader = DataLoader(val_dataset, batch_size = 64, shuffle = False)"
   ]
  },
  {
   "cell_type": "code",
   "execution_count": 56,
   "metadata": {},
   "outputs": [],
   "source": [
    "class RNNForecast(nn.Module):\n",
    "    def __init__(self, input_size, hidden_size, num_layers, output_size):\n",
    "        super(RNNForecast, self).__init__()\n",
    "\n",
    "        self.hidden_size = hidden_size\n",
    "        self.num_layers = num_layers\n",
    "        self.rnn = nn.RNN(input_size, hidden_size, num_layers, batch_first=True)\n",
    "        self.fc = nn.Linear(hidden_size, output_size)\n",
    "\n",
    "    def forward(self, x):\n",
    "        h0 = torch.zeros(self.num_layers, x.size(0), self.hidden_size).to(device)\n",
    "\n",
    "        out, _ = self.rnn(x, h0)\n",
    "        out = self.fc(out[:, -1, :])\n",
    "\n",
    "        return out"
   ]
  },
  {
   "cell_type": "code",
   "execution_count": 57,
   "metadata": {},
   "outputs": [
    {
     "name": "stdout",
     "output_type": "stream",
     "text": [
      "Epoch [1/300], Train Loss: 0.0715, Valid Loss: 0.3148\n",
      "Epoch [11/300], Train Loss: 0.0207, Valid Loss: 0.0775\n",
      "Epoch [21/300], Train Loss: 0.0142, Valid Loss: 0.1213\n",
      "Epoch [31/300], Train Loss: 0.0099, Valid Loss: 0.0525\n",
      "Epoch [41/300], Train Loss: 0.0015, Valid Loss: 0.0015\n",
      "Epoch [51/300], Train Loss: 0.0015, Valid Loss: 0.0129\n",
      "Epoch [61/300], Train Loss: 0.0009, Valid Loss: 0.0013\n",
      "Epoch [71/300], Train Loss: 0.0008, Valid Loss: 0.0029\n",
      "Epoch [81/300], Train Loss: 0.0008, Valid Loss: 0.0016\n",
      "Epoch [91/300], Train Loss: 0.0008, Valid Loss: 0.0021\n",
      "Epoch [101/300], Train Loss: 0.0007, Valid Loss: 0.0015\n",
      "Epoch [111/300], Train Loss: 0.0007, Valid Loss: 0.0017\n",
      "Epoch [121/300], Train Loss: 0.0007, Valid Loss: 0.0014\n",
      "Epoch [131/300], Train Loss: 0.0007, Valid Loss: 0.0015\n",
      "Epoch [141/300], Train Loss: 0.0007, Valid Loss: 0.0013\n",
      "Epoch [151/300], Train Loss: 0.0007, Valid Loss: 0.0013\n",
      "Epoch [161/300], Train Loss: 0.0007, Valid Loss: 0.0012\n",
      "Epoch [171/300], Train Loss: 0.0007, Valid Loss: 0.0012\n",
      "Epoch [181/300], Train Loss: 0.0007, Valid Loss: 0.0011\n",
      "Epoch [191/300], Train Loss: 0.0007, Valid Loss: 0.0011\n",
      "Epoch [201/300], Train Loss: 0.0006, Valid Loss: 0.0010\n",
      "Epoch [211/300], Train Loss: 0.0006, Valid Loss: 0.0010\n",
      "Epoch [221/300], Train Loss: 0.0006, Valid Loss: 0.0010\n",
      "Epoch [231/300], Train Loss: 0.0006, Valid Loss: 0.0009\n",
      "Epoch [241/300], Train Loss: 0.0006, Valid Loss: 0.0009\n",
      "Epoch [251/300], Train Loss: 0.0006, Valid Loss: 0.0009\n",
      "Epoch [261/300], Train Loss: 0.0006, Valid Loss: 0.0009\n",
      "Epoch [271/300], Train Loss: 0.0006, Valid Loss: 0.0008\n",
      "Epoch [281/300], Train Loss: 0.0006, Valid Loss: 0.0008\n",
      "Epoch [291/300], Train Loss: 0.0006, Valid Loss: 0.0008\n"
     ]
    },
    {
     "data": {
      "image/png": "[encoded data removed]",
      "text/plain": [
       "<Figure size 640x480 with 1 Axes>"
      ]
     },
     "metadata": {},
     "output_type": "display_data"
    }
   ],
   "source": [
    "input_size = 1\n",
    "hidden_size = 64\n",
    "num_layers = 1\n",
    "output_size = 1\n",
    "\n",
    "model = RNNForecast(input_size, hidden_size, num_layers, output_size).to(device)\n",
    "\n",
    "# Define loss and optimizer\n",
    "criterion = nn.MSELoss()\n",
    "optimizer = torch.optim.Adam(model.parameters(), lr=0.001)\n",
    "\n",
    "\n",
    "train_loss = []\n",
    "valid_loss = []\n",
    "num_epochs = 300\n",
    "\n",
    "for epoch in range(num_epochs):\n",
    "    # set the model to train mode\n",
    "    model.train()\n",
    "\n",
    "    # forward pass\n",
    "    output = model(trainX)\n",
    "    loss = criterion(output, trainY)\n",
    "\n",
    "    # backward pass and optimize\n",
    "    optimizer.zero_grad()\n",
    "    loss.backward()\n",
    "    optimizer.step()\n",
    "\n",
    "    # calculate training loss\n",
    "    train_loss.append(loss.item())\n",
    "\n",
    "    # set the model to evaluation mode\n",
    "    model.eval()\n",
    "\n",
    "    # calculate validation loss\n",
    "    with torch.no_grad():\n",
    "        output = model(testX)\n",
    "        loss = criterion(output, testY)\n",
    "        valid_loss.append(loss.item())\n",
    "\n",
    "    # print progress\n",
    "    if epoch % 10 == 0:\n",
    "        print('Epoch [{}/{}], Train Loss: {:.4f}, Valid Loss: {:.4f}'.format(\n",
    "            epoch+1, num_epochs, train_loss[-1], valid_loss[-1]))\n",
    "\n",
    "# plot train and validation loss\n",
    "plt.plot(train_loss, label='Train Loss')\n",
    "plt.plot(valid_loss, label='Validation Loss')\n",
    "plt.legend()\n",
    "plt.show()"
   ]
  },
  {
   "cell_type": "code",
   "execution_count": 58,
   "metadata": {},
   "outputs": [
    {
     "name": "stdout",
     "output_type": "stream",
     "text": [
      "Test RMSE Score: 22.99\n"
     ]
    }
   ],
   "source": [
    "from sklearn.metrics import mean_squared_error\n",
    "# Test the model\n",
    "model.eval()\n",
    "test_predict = model(testX)\n",
    "\n",
    "test_predict_inv = sc.inverse_transform(test_predict.cpu().detach().numpy())\n",
    "testY_inv = sc.inverse_transform(testY.cpu().detach().numpy())\n",
    "\n",
    "test_score = np.sqrt(mean_squared_error(testY_inv, test_predict_inv))\n",
    "print(\"Test RMSE Score: %.2f\" % test_score)"
   ]
  },
  {
   "cell_type": "code",
   "execution_count": 59,
   "metadata": {},
   "outputs": [
    {
     "data": {
      "image/png": "[encoded data removed]",
      "text/plain": [
       "<Figure size 640x480 with 1 Axes>"
      ]
     },
     "metadata": {},
     "output_type": "display_data"
    },
    {
     "data": {
      "image/png": "[encoded data removed]",
      "text/plain": [
       "<Figure size 640x480 with 1 Axes>"
      ]
     },
     "metadata": {},
     "output_type": "display_data"
    }
   ],
   "source": [
    "import matplotlib.pyplot as plt\n",
    "\n",
    "# make predictions\n",
    "predY_test = model(testX)\n",
    "predY_val = model(valX)\n",
    "\n",
    "# invert scaling for forecast\n",
    "predY_test_inv = sc.inverse_transform(predY_test.cpu().detach().numpy())\n",
    "predY_val_inv = sc.inverse_transform(predY_val.cpu().detach().numpy())\n",
    "testY_inv = sc.inverse_transform(testY.cpu().detach().numpy())\n",
    "# plot 1\n",
    "plt.plot(special_data, label='True Data')\n",
    "plt.plot(special_data.index[-len(predY_test_inv)- val_size: - val_size], predY_test_inv, label='Test predicted Data')\n",
    "plt.plot(special_data.index[-len(predY_val_inv):], predY_val_inv, label='Val predicted Data')\n",
    "plt.axvline(x=special_data.index[-len(predY_test_inv)- val_size], c='r', linestyle='--')\n",
    "plt.legend()\n",
    "plt.show()\n",
    "# plot 2\n",
    "plt.plot(special_data.index[-len(predY_test_inv)- val_size:], special_data.Price[-len(predY_test_inv)- val_size:], label='True Data')\n",
    "plt.plot(special_data.index[-len(predY_test_inv)- val_size: - val_size], predY_test_inv, label='Test predicted Data')\n",
    "plt.plot(special_data.index[-len(predY_val_inv):], predY_val_inv, label='Val predicted Data')\n",
    "plt.axvline(x=special_data.index[-len(predY_test_inv)- val_size], c='r', linestyle='--')\n",
    "plt.legend()\n",
    "plt.show()"
   ]
  },
  {
   "cell_type": "code",
   "execution_count": 60,
   "metadata": {},
   "outputs": [],
   "source": [
    "def calculate_metrics(array1, array2):\n",
    "    # Проверка на совпадение длин массивов\n",
    "    if len(array1) != len(array2):\n",
    "        raise ValueError(\"Длины массивов должны совпадать\")\n",
    "\n",
    "    # Вычисление отклонений\n",
    "    deviations = np.abs(np.array(array1) - np.array(array2))\n",
    "\n",
    "    # Минимальное и максимальное отклонение\n",
    "    min_deviation = np.min(deviations)\n",
    "    max_deviation = np.max(deviations)\n",
    "\n",
    "    # Процентное минимальное и максимальное отклонение\n",
    "    min_deviation_percentage = min_deviation / np.max(np.abs(array1)) * 100\n",
    "    max_deviation_percentage = max_deviation / np.max(np.abs(array1)) * 100\n",
    "    \n",
    "    # MAPE (Mean Absolute Percentage Error)\n",
    "    mape = np.mean(deviations / np.abs(array1)) * 100\n",
    "\n",
    "    return min_deviation, max_deviation, min_deviation_percentage, max_deviation_percentage, mape"
   ]
  },
  {
   "cell_type": "code",
   "execution_count": 61,
   "metadata": {},
   "outputs": [
    {
     "name": "stdout",
     "output_type": "stream",
     "text": [
      "Минимальное отклонение: 0.8722753906249636\n",
      "Максимальное отклонение: 75.21946289062498\n",
      "Процентное минимальное отклонение: 0.05%\n",
      "Процентное максимальное отклонение: 4.07%\n",
      "MAPE: 2.21%\n"
     ]
    }
   ],
   "source": [
    "min_dev, max_dev, min_dev_percentage, max_dev_percentage, mape = calculate_metrics(special_data.Price[-len(predY_val_inv):].values, np.concatenate(predY_val_inv))\n",
    "\n",
    "print(f\"Минимальное отклонение: {min_dev}\")\n",
    "print(f\"Максимальное отклонение: {max_dev}\")\n",
    "print(f\"Процентное минимальное отклонение: {min_dev_percentage:.2f}%\")\n",
    "print(f\"Процентное максимальное отклонение: {max_dev_percentage:.2f}%\")\n",
    "print(f\"MAPE: {mape:.2f}%\")"
   ]
  },
  {
   "cell_type": "code",
   "execution_count": 62,
   "metadata": {},
   "outputs": [
    {
     "data": {
      "text/plain": [
       "1006"
      ]
     },
     "execution_count": 62,
     "metadata": {},
     "output_type": "execute_result"
    }
   ],
   "source": [
    "len(special_data)"
   ]
  },
  {
   "cell_type": "code",
   "execution_count": 63,
   "metadata": {},
   "outputs": [
    {
     "data": {
      "text/plain": [
       "633"
      ]
     },
     "execution_count": 63,
     "metadata": {},
     "output_type": "execute_result"
    }
   ],
   "source": [
    "len(trainX)"
   ]
  },
  {
   "cell_type": "code",
   "execution_count": 64,
   "metadata": {},
   "outputs": [
    {
     "data": {
      "text/plain": [
       "172"
      ]
     },
     "execution_count": 64,
     "metadata": {},
     "output_type": "execute_result"
    }
   ],
   "source": [
    "len(testX)"
   ]
  },
  {
   "cell_type": "code",
   "execution_count": 65,
   "metadata": {},
   "outputs": [
    {
     "data": {
      "text/plain": [
       "100"
      ]
     },
     "execution_count": 65,
     "metadata": {},
     "output_type": "execute_result"
    }
   ],
   "source": [
    "len(valX)"
   ]
  },
  {
   "cell_type": "code",
   "execution_count": 66,
   "metadata": {},
   "outputs": [],
   "source": [
    "def save_array_to_txt(array, filename):\n",
    "    # Преобразуем одномерный массив в двумерный массив с одним столбцом\n",
    "    array = np.reshape(array, (len(array), 1))\n",
    "    \n",
    "    # Сохраняем массив в текстовый файл\n",
    "    np.savetxt(filename, array, fmt='%.3f')  # fmt='%d' указывает формат данных (целые числа)"
   ]
  },
  {
   "cell_type": "code",
   "execution_count": 67,
   "metadata": {},
   "outputs": [],
   "source": [
    "save_array_to_txt(np.concatenate(predY_val_inv), \"rnn.txt\")"
   ]
  }
 ],
 "metadata": {
  "kernelspec": {
   "display_name": "Python 3",
   "language": "python",
   "name": "python3"
  },
  "language_info": {
   "codemirror_mode": {
    "name": "ipython",
    "version": 3
   },
   "file_extension": ".py",
   "mimetype": "text/x-python",
   "name": "python",
   "nbconvert_exporter": "python",
   "pygments_lexer": "ipython3",
   "version": "3.11.7"
  },
  "orig_nbformat": 4,
  "vscode": {
   "interpreter": {
    "hash": "f5ff168696553f3e2cb115c273c46eeb315c32b0d0536992c4bad2740a7f9469"
   }
  }
 },
 "nbformat": 4,
 "nbformat_minor": 2
}
