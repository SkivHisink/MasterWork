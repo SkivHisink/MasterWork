{
 "cells": [
  {
   "cell_type": "code",
   "execution_count": 1,
   "metadata": {},
   "outputs": [],
   "source": [
    "%matplotlib inline\n",
    "\n",
    "import glob\n",
    "from platform import python_version\n",
    "import pandas as pd\n",
    "import matplotlib\n",
    "import numpy as np\n",
    "import pandas as pd\n",
    "import sklearn\n",
    "import torch\n",
    "import matplotlib.pyplot as plt"
   ]
  },
  {
   "cell_type": "code",
   "execution_count": 2,
   "metadata": {},
   "outputs": [
    {
     "name": "stdout",
     "output_type": "stream",
     "text": [
      "python version==3.8.10\n",
      "pandas==1.5.1\n",
      "numpy==1.23.4\n",
      "sklearn==1.1.3\n",
      "torch==1.13.0+cu117\n",
      "matplotlib==3.6.2\n"
     ]
    }
   ],
   "source": [
    "print(\"python version==%s\" % python_version())\n",
    "print(\"pandas==%s\" % pd.__version__)\n",
    "print(\"numpy==%s\" % np.__version__)\n",
    "print(\"sklearn==%s\" % sklearn.__version__)\n",
    "print(\"torch==%s\" % torch.__version__)\n",
    "print(\"matplotlib==%s\" % matplotlib.__version__)"
   ]
  },
  {
   "cell_type": "code",
   "execution_count": 17,
   "metadata": {},
   "outputs": [
    {
     "name": "stdout",
     "output_type": "stream",
     "text": [
      "Using device: cuda\n"
     ]
    }
   ],
   "source": [
    "device = torch.device('cuda' if torch.cuda.is_available() else 'cpu')\n",
    "print('Using device:', device)"
   ]
  },
  {
   "cell_type": "code",
   "execution_count": 3,
   "metadata": {},
   "outputs": [],
   "source": [
    "#load data\n",
    "data = pd.read_csv(\"E:\\GitHub\\MasterWork\\Data\\Day\\S&P 500 Historical Data00-20.csv\")"
   ]
  },
  {
   "cell_type": "code",
   "execution_count": 4,
   "metadata": {},
   "outputs": [],
   "source": [
    "#transform data\n",
    "data = data.replace(\",\", \"\", regex=True)\n",
    "data.Date = pd.to_datetime(data.Date)\n",
    "data = data.sort_values(by=[\"Date\"])\n",
    "data.set_index('Date')\n",
    "data.Price = data.Price.astype(float)\n",
    "data.High = data.High.astype(float)\n",
    "data.Low = data.Low.astype(float)\n",
    "data.Open = data.Open.astype(float)\n",
    "data[\"Vol.\"] = data[\"Vol.\"].astype(float)"
   ]
  },
  {
   "cell_type": "code",
   "execution_count": 5,
   "metadata": {},
   "outputs": [
    {
     "data": {
      "text/html": [
       "<div>\n",
       "<style scoped>\n",
       "    .dataframe tbody tr th:only-of-type {\n",
       "        vertical-align: middle;\n",
       "    }\n",
       "\n",
       "    .dataframe tbody tr th {\n",
       "        vertical-align: top;\n",
       "    }\n",
       "\n",
       "    .dataframe thead th {\n",
       "        text-align: right;\n",
       "    }\n",
       "</style>\n",
       "<table border=\"1\" class=\"dataframe\">\n",
       "  <thead>\n",
       "    <tr style=\"text-align: right;\">\n",
       "      <th></th>\n",
       "      <th>Date</th>\n",
       "      <th>Price</th>\n",
       "      <th>Open</th>\n",
       "      <th>High</th>\n",
       "      <th>Low</th>\n",
       "      <th>Vol.</th>\n",
       "      <th>Change %</th>\n",
       "    </tr>\n",
       "  </thead>\n",
       "  <tbody>\n",
       "    <tr>\n",
       "      <th>4999</th>\n",
       "      <td>2000-01-03</td>\n",
       "      <td>1455.2</td>\n",
       "      <td>1469.2</td>\n",
       "      <td>1478.0</td>\n",
       "      <td>1438.4</td>\n",
       "      <td>NaN</td>\n",
       "      <td>-0.95%</td>\n",
       "    </tr>\n",
       "    <tr>\n",
       "      <th>4998</th>\n",
       "      <td>2000-01-04</td>\n",
       "      <td>1399.4</td>\n",
       "      <td>1455.2</td>\n",
       "      <td>1455.2</td>\n",
       "      <td>1397.4</td>\n",
       "      <td>NaN</td>\n",
       "      <td>-3.83%</td>\n",
       "    </tr>\n",
       "    <tr>\n",
       "      <th>4997</th>\n",
       "      <td>2000-01-05</td>\n",
       "      <td>1402.1</td>\n",
       "      <td>1399.4</td>\n",
       "      <td>1413.3</td>\n",
       "      <td>1377.7</td>\n",
       "      <td>NaN</td>\n",
       "      <td>0.19%</td>\n",
       "    </tr>\n",
       "    <tr>\n",
       "      <th>4996</th>\n",
       "      <td>2000-01-06</td>\n",
       "      <td>1403.5</td>\n",
       "      <td>1402.1</td>\n",
       "      <td>1411.9</td>\n",
       "      <td>1392.0</td>\n",
       "      <td>NaN</td>\n",
       "      <td>0.10%</td>\n",
       "    </tr>\n",
       "    <tr>\n",
       "      <th>4995</th>\n",
       "      <td>2000-01-07</td>\n",
       "      <td>1441.5</td>\n",
       "      <td>1403.5</td>\n",
       "      <td>1441.5</td>\n",
       "      <td>1400.5</td>\n",
       "      <td>NaN</td>\n",
       "      <td>2.71%</td>\n",
       "    </tr>\n",
       "  </tbody>\n",
       "</table>\n",
       "</div>"
      ],
      "text/plain": [
       "           Date   Price    Open    High     Low  Vol. Change %\n",
       "4999 2000-01-03  1455.2  1469.2  1478.0  1438.4   NaN   -0.95%\n",
       "4998 2000-01-04  1399.4  1455.2  1455.2  1397.4   NaN   -3.83%\n",
       "4997 2000-01-05  1402.1  1399.4  1413.3  1377.7   NaN    0.19%\n",
       "4996 2000-01-06  1403.5  1402.1  1411.9  1392.0   NaN    0.10%\n",
       "4995 2000-01-07  1441.5  1403.5  1441.5  1400.5   NaN    2.71%"
      ]
     },
     "execution_count": 5,
     "metadata": {},
     "output_type": "execute_result"
    }
   ],
   "source": [
    "data.head()"
   ]
  },
  {
   "cell_type": "code",
   "execution_count": 6,
   "metadata": {},
   "outputs": [],
   "source": [
    "data.index = data.index[::-1]"
   ]
  },
  {
   "cell_type": "code",
   "execution_count": 7,
   "metadata": {},
   "outputs": [
    {
     "data": {
      "text/html": [
       "<div>\n",
       "<style scoped>\n",
       "    .dataframe tbody tr th:only-of-type {\n",
       "        vertical-align: middle;\n",
       "    }\n",
       "\n",
       "    .dataframe tbody tr th {\n",
       "        vertical-align: top;\n",
       "    }\n",
       "\n",
       "    .dataframe thead th {\n",
       "        text-align: right;\n",
       "    }\n",
       "</style>\n",
       "<table border=\"1\" class=\"dataframe\">\n",
       "  <thead>\n",
       "    <tr style=\"text-align: right;\">\n",
       "      <th></th>\n",
       "      <th>Date</th>\n",
       "      <th>Price</th>\n",
       "      <th>Open</th>\n",
       "      <th>High</th>\n",
       "      <th>Low</th>\n",
       "      <th>Vol.</th>\n",
       "      <th>Change %</th>\n",
       "    </tr>\n",
       "  </thead>\n",
       "  <tbody>\n",
       "    <tr>\n",
       "      <th>0</th>\n",
       "      <td>2000-01-03</td>\n",
       "      <td>1455.2</td>\n",
       "      <td>1469.2</td>\n",
       "      <td>1478.0</td>\n",
       "      <td>1438.4</td>\n",
       "      <td>NaN</td>\n",
       "      <td>-0.95%</td>\n",
       "    </tr>\n",
       "    <tr>\n",
       "      <th>1</th>\n",
       "      <td>2000-01-04</td>\n",
       "      <td>1399.4</td>\n",
       "      <td>1455.2</td>\n",
       "      <td>1455.2</td>\n",
       "      <td>1397.4</td>\n",
       "      <td>NaN</td>\n",
       "      <td>-3.83%</td>\n",
       "    </tr>\n",
       "    <tr>\n",
       "      <th>2</th>\n",
       "      <td>2000-01-05</td>\n",
       "      <td>1402.1</td>\n",
       "      <td>1399.4</td>\n",
       "      <td>1413.3</td>\n",
       "      <td>1377.7</td>\n",
       "      <td>NaN</td>\n",
       "      <td>0.19%</td>\n",
       "    </tr>\n",
       "    <tr>\n",
       "      <th>3</th>\n",
       "      <td>2000-01-06</td>\n",
       "      <td>1403.5</td>\n",
       "      <td>1402.1</td>\n",
       "      <td>1411.9</td>\n",
       "      <td>1392.0</td>\n",
       "      <td>NaN</td>\n",
       "      <td>0.10%</td>\n",
       "    </tr>\n",
       "    <tr>\n",
       "      <th>4</th>\n",
       "      <td>2000-01-07</td>\n",
       "      <td>1441.5</td>\n",
       "      <td>1403.5</td>\n",
       "      <td>1441.5</td>\n",
       "      <td>1400.5</td>\n",
       "      <td>NaN</td>\n",
       "      <td>2.71%</td>\n",
       "    </tr>\n",
       "  </tbody>\n",
       "</table>\n",
       "</div>"
      ],
      "text/plain": [
       "        Date   Price    Open    High     Low  Vol. Change %\n",
       "0 2000-01-03  1455.2  1469.2  1478.0  1438.4   NaN   -0.95%\n",
       "1 2000-01-04  1399.4  1455.2  1455.2  1397.4   NaN   -3.83%\n",
       "2 2000-01-05  1402.1  1399.4  1413.3  1377.7   NaN    0.19%\n",
       "3 2000-01-06  1403.5  1402.1  1411.9  1392.0   NaN    0.10%\n",
       "4 2000-01-07  1441.5  1403.5  1441.5  1400.5   NaN    2.71%"
      ]
     },
     "execution_count": 7,
     "metadata": {},
     "output_type": "execute_result"
    }
   ],
   "source": [
    "data.head()"
   ]
  },
  {
   "cell_type": "code",
   "execution_count": 8,
   "metadata": {},
   "outputs": [],
   "source": [
    "special_data = data[(data['Date'] > '2010-01-01') & (data['Date'] < '2014-01-01')]\n",
    "special_data.index = data.index[:len(special_data)]"
   ]
  },
  {
   "cell_type": "code",
   "execution_count": 9,
   "metadata": {},
   "outputs": [
    {
     "data": {
      "text/html": [
       "<div>\n",
       "<style scoped>\n",
       "    .dataframe tbody tr th:only-of-type {\n",
       "        vertical-align: middle;\n",
       "    }\n",
       "\n",
       "    .dataframe tbody tr th {\n",
       "        vertical-align: top;\n",
       "    }\n",
       "\n",
       "    .dataframe thead th {\n",
       "        text-align: right;\n",
       "    }\n",
       "</style>\n",
       "<table border=\"1\" class=\"dataframe\">\n",
       "  <thead>\n",
       "    <tr style=\"text-align: right;\">\n",
       "      <th></th>\n",
       "      <th>Date</th>\n",
       "      <th>Price</th>\n",
       "      <th>Open</th>\n",
       "      <th>High</th>\n",
       "      <th>Low</th>\n",
       "      <th>Vol.</th>\n",
       "      <th>Change %</th>\n",
       "    </tr>\n",
       "  </thead>\n",
       "  <tbody>\n",
       "    <tr>\n",
       "      <th>0</th>\n",
       "      <td>2010-01-04</td>\n",
       "      <td>1132.99</td>\n",
       "      <td>1116.56</td>\n",
       "      <td>1133.87</td>\n",
       "      <td>1116.56</td>\n",
       "      <td>NaN</td>\n",
       "      <td>1.60%</td>\n",
       "    </tr>\n",
       "    <tr>\n",
       "      <th>1</th>\n",
       "      <td>2010-01-05</td>\n",
       "      <td>1136.52</td>\n",
       "      <td>1132.66</td>\n",
       "      <td>1136.63</td>\n",
       "      <td>1129.66</td>\n",
       "      <td>NaN</td>\n",
       "      <td>0.31%</td>\n",
       "    </tr>\n",
       "    <tr>\n",
       "      <th>2</th>\n",
       "      <td>2010-01-06</td>\n",
       "      <td>1137.14</td>\n",
       "      <td>1135.71</td>\n",
       "      <td>1139.19</td>\n",
       "      <td>1133.95</td>\n",
       "      <td>NaN</td>\n",
       "      <td>0.05%</td>\n",
       "    </tr>\n",
       "    <tr>\n",
       "      <th>3</th>\n",
       "      <td>2010-01-07</td>\n",
       "      <td>1141.69</td>\n",
       "      <td>1136.27</td>\n",
       "      <td>1142.46</td>\n",
       "      <td>1131.32</td>\n",
       "      <td>NaN</td>\n",
       "      <td>0.40%</td>\n",
       "    </tr>\n",
       "    <tr>\n",
       "      <th>4</th>\n",
       "      <td>2010-01-08</td>\n",
       "      <td>1144.98</td>\n",
       "      <td>1140.52</td>\n",
       "      <td>1145.39</td>\n",
       "      <td>1136.22</td>\n",
       "      <td>NaN</td>\n",
       "      <td>0.29%</td>\n",
       "    </tr>\n",
       "  </tbody>\n",
       "</table>\n",
       "</div>"
      ],
      "text/plain": [
       "        Date    Price     Open     High      Low  Vol. Change %\n",
       "0 2010-01-04  1132.99  1116.56  1133.87  1116.56   NaN    1.60%\n",
       "1 2010-01-05  1136.52  1132.66  1136.63  1129.66   NaN    0.31%\n",
       "2 2010-01-06  1137.14  1135.71  1139.19  1133.95   NaN    0.05%\n",
       "3 2010-01-07  1141.69  1136.27  1142.46  1131.32   NaN    0.40%\n",
       "4 2010-01-08  1144.98  1140.52  1145.39  1136.22   NaN    0.29%"
      ]
     },
     "execution_count": 9,
     "metadata": {},
     "output_type": "execute_result"
    }
   ],
   "source": [
    "special_data.head()"
   ]
  },
  {
   "cell_type": "code",
   "execution_count": 10,
   "metadata": {},
   "outputs": [],
   "source": [
    "#change indexes\n",
    "special_data.set_index('Date', inplace=True)"
   ]
  },
  {
   "cell_type": "code",
   "execution_count": 11,
   "metadata": {},
   "outputs": [],
   "source": [
    "special_data = special_data.drop(columns=['Open', 'High', 'Low', 'Vol.', 'Change %'])"
   ]
  },
  {
   "cell_type": "code",
   "execution_count": 12,
   "metadata": {},
   "outputs": [
    {
     "data": {
      "text/html": [
       "<div>\n",
       "<style scoped>\n",
       "    .dataframe tbody tr th:only-of-type {\n",
       "        vertical-align: middle;\n",
       "    }\n",
       "\n",
       "    .dataframe tbody tr th {\n",
       "        vertical-align: top;\n",
       "    }\n",
       "\n",
       "    .dataframe thead th {\n",
       "        text-align: right;\n",
       "    }\n",
       "</style>\n",
       "<table border=\"1\" class=\"dataframe\">\n",
       "  <thead>\n",
       "    <tr style=\"text-align: right;\">\n",
       "      <th></th>\n",
       "      <th>Price</th>\n",
       "    </tr>\n",
       "    <tr>\n",
       "      <th>Date</th>\n",
       "      <th></th>\n",
       "    </tr>\n",
       "  </thead>\n",
       "  <tbody>\n",
       "    <tr>\n",
       "      <th>2010-01-04</th>\n",
       "      <td>1132.99</td>\n",
       "    </tr>\n",
       "    <tr>\n",
       "      <th>2010-01-05</th>\n",
       "      <td>1136.52</td>\n",
       "    </tr>\n",
       "    <tr>\n",
       "      <th>2010-01-06</th>\n",
       "      <td>1137.14</td>\n",
       "    </tr>\n",
       "    <tr>\n",
       "      <th>2010-01-07</th>\n",
       "      <td>1141.69</td>\n",
       "    </tr>\n",
       "    <tr>\n",
       "      <th>2010-01-08</th>\n",
       "      <td>1144.98</td>\n",
       "    </tr>\n",
       "  </tbody>\n",
       "</table>\n",
       "</div>"
      ],
      "text/plain": [
       "              Price\n",
       "Date               \n",
       "2010-01-04  1132.99\n",
       "2010-01-05  1136.52\n",
       "2010-01-06  1137.14\n",
       "2010-01-07  1141.69\n",
       "2010-01-08  1144.98"
      ]
     },
     "execution_count": 12,
     "metadata": {},
     "output_type": "execute_result"
    }
   ],
   "source": [
    "special_data.head()"
   ]
  },
  {
   "cell_type": "code",
   "execution_count": 13,
   "metadata": {},
   "outputs": [
    {
     "data": {
      "text/plain": [
       "[<matplotlib.lines.Line2D at 0x273cff91190>]"
      ]
     },
     "execution_count": 13,
     "metadata": {},
     "output_type": "execute_result"
    },
    {
     "data": {
      "image/png": "[encoded data removed]",
      "text/plain": [
       "<Figure size 640x480 with 1 Axes>"
      ]
     },
     "metadata": {},
     "output_type": "display_data"
    }
   ],
   "source": [
    "plt.plot(special_data)"
   ]
  },
  {
   "cell_type": "code",
   "execution_count": 47,
   "metadata": {},
   "outputs": [],
   "source": [
    "from torch.autograd import Variable\n",
    "from sklearn.preprocessing import MinMaxScaler\n",
    "\n",
    "def sliding_windows(data, seq_length):\n",
    "    x = []\n",
    "    y = []\n",
    "\n",
    "    for i in range(len(data)-seq_length-1):\n",
    "        _x = data[i:(i+seq_length)]\n",
    "        _y = data[i+seq_length]\n",
    "        x.append(_x)\n",
    "        y.append(_y)\n",
    "\n",
    "    return np.array(x),np.array(y)\n",
    "\n",
    "sc = MinMaxScaler()\n",
    "training_data = sc.fit_transform(special_data)\n",
    "\n",
    "seq_length = 100\n",
    "x, y = sliding_windows(training_data, seq_length)\n",
    "\n",
    "train_size = int(len(y) * 0.7)\n",
    "test_size = len(y) - train_size\n",
    "\n",
    "dataX = Variable(torch.Tensor(np.array(x)).to(device))\n",
    "dataY = Variable(torch.Tensor(np.array(y)).to(device))\n",
    "\n",
    "trainX = Variable(torch.Tensor(np.array(x[0:train_size])).to(device))\n",
    "trainY = Variable(torch.Tensor(np.array(y[0:train_size])).to(device))\n",
    "\n",
    "testX = Variable(torch.Tensor(np.array(x[train_size:len(x)])).to(device))\n",
    "testY = Variable(torch.Tensor(np.array(y[train_size:len(y)])).to(device)) "
   ]
  },
  {
   "cell_type": "code",
   "execution_count": 48,
   "metadata": {},
   "outputs": [],
   "source": [
    "import torch.nn as nn\n",
    "\n",
    "class LSTM(nn.Module):\n",
    "\n",
    "    def __init__(self, num_classes, input_size, hidden_size, num_layers):\n",
    "        super(LSTM, self).__init__()\n",
    "        \n",
    "        self.num_classes = num_classes\n",
    "        self.num_layers = num_layers\n",
    "        self.input_size = input_size\n",
    "        self.hidden_size = hidden_size\n",
    "        self.seq_length = seq_length\n",
    "        \n",
    "        self.lstm = nn.LSTM(input_size = input_size, hidden_size = hidden_size,\n",
    "                            num_layers = num_layers, batch_first=True)\n",
    "        \n",
    "        self.fc = nn.Linear(hidden_size, num_classes)\n",
    "\n",
    "    def forward(self, x):\n",
    "        h_0 = Variable(torch.zeros(\n",
    "            self.num_layers, x.size(0), self.hidden_size).to(device))\n",
    "        \n",
    "        c_0 = Variable(torch.zeros(\n",
    "            self.num_layers, x.size(0), self.hidden_size).to(device))\n",
    "        \n",
    "        # Propagate input through LSTM\n",
    "        ula, (h_out, _) = self.lstm(x, (h_0, c_0))\n",
    "        \n",
    "        h_out = h_out.view(-1, self.hidden_size)\n",
    "        \n",
    "        out = self.fc(h_out)\n",
    "        \n",
    "        return out"
   ]
  },
  {
   "cell_type": "code",
   "execution_count": 68,
   "metadata": {},
   "outputs": [
    {
     "name": "stdout",
     "output_type": "stream",
     "text": [
      "Epoch: 0, loss: 0.18375\n",
      "Epoch: 100, loss: 0.00053\n",
      "Epoch: 200, loss: 0.00047\n",
      "Epoch: 300, loss: 0.00042\n",
      "Epoch: 400, loss: 0.00039\n",
      "Epoch: 500, loss: 0.00036\n",
      "Epoch: 600, loss: 0.00033\n",
      "Epoch: 700, loss: 0.00031\n",
      "Epoch: 800, loss: 0.00030\n",
      "Epoch: 900, loss: 0.00030\n",
      "Epoch: 1000, loss: 0.00030\n"
     ]
    }
   ],
   "source": [
    "num_epochs = 1100\n",
    "learning_rate = 0.01\n",
    "\n",
    "input_size = 1\n",
    "hidden_size = 40\n",
    "num_layers = 1\n",
    "\n",
    "num_classes = 1\n",
    "\n",
    "lstm = LSTM(num_classes, input_size, hidden_size, num_layers).to(device)\n",
    "\n",
    "criterion = torch.nn.MSELoss()    # mean-squared error for regression\n",
    "optimizer = torch.optim.Adam(lstm.parameters(), lr = learning_rate)\n",
    "#optimizer = torch.optim.SGD(lstm.parameters(), lr = learning_rate)\n",
    "\n",
    "# Train the model\n",
    "for epoch in range(num_epochs):\n",
    "    outputs = lstm(trainX)\n",
    "    optimizer.zero_grad()\n",
    "    \n",
    "    # obtain the loss function\n",
    "    loss = criterion(outputs, trainY)\n",
    "    \n",
    "    loss.backward()\n",
    "    \n",
    "    optimizer.step()\n",
    "    if epoch % 100 == 0:\n",
    "      print(\"Epoch: %d, loss: %1.5f\" % (epoch, loss.item()))"
   ]
  },
  {
   "cell_type": "code",
   "execution_count": 69,
   "metadata": {},
   "outputs": [
    {
     "data": {
      "image/png": "[encoded data removed]",
      "text/plain": [
       "<Figure size 640x480 with 1 Axes>"
      ]
     },
     "metadata": {},
     "output_type": "display_data"
    }
   ],
   "source": [
    "lstm.eval()\n",
    "train_predict = lstm(testX)\n",
    "\n",
    "data_predict = train_predict.data.to(\"cpu\").numpy()\n",
    "dataY_plot = dataY.data.to(\"cpu\").numpy()\n",
    "\n",
    "data_predict = sc.inverse_transform(data_predict)\n",
    "dataY_plot = sc.inverse_transform(dataY_plot)\n",
    "\n",
    "plt.axvline(x = train_size, c='r', linestyle='--')\n",
    "\n",
    "plt.plot(dataY_plot, label = 'input')\n",
    "plt.plot(np.arange(len(dataY_plot) - len(data_predict), len(dataY_plot)), data_predict, label = 'predict')\n",
    "plt.legend()\n",
    "plt.suptitle('LTSM')\n",
    "plt.show()"
   ]
  },
  {
   "cell_type": "code",
   "execution_count": null,
   "metadata": {},
   "outputs": [],
   "source": []
  }
 ],
 "metadata": {
  "kernelspec": {
   "display_name": "Python 3",
   "language": "python",
   "name": "python3"
  },
  "language_info": {
   "codemirror_mode": {
    "name": "ipython",
    "version": 3
   },
   "file_extension": ".py",
   "mimetype": "text/x-python",
   "name": "python",
   "nbconvert_exporter": "python",
   "pygments_lexer": "ipython3",
   "version": "3.8.10"
  },
  "orig_nbformat": 4,
  "vscode": {
   "interpreter": {
    "hash": "f5ff168696553f3e2cb115c273c46eeb315c32b0d0536992c4bad2740a7f9469"
   }
  }
 },
 "nbformat": 4,
 "nbformat_minor": 2
}
