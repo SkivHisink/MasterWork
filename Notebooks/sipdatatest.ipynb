{
 "cells": [
  {
   "cell_type": "code",
   "execution_count": 1,
   "metadata": {},
   "outputs": [],
   "source": [
    "import matplotlib.pyplot as plt\n",
    "import pandas as pd\n",
    "import numpy as np\n",
    "import statsmodels.api as sm\n",
    "from statsmodels.iolib.table import SimpleTable\n",
    "from sklearn.metrics import r2_score\n",
    "import ml_metrics as metrics"
   ]
  },
  {
   "cell_type": "code",
   "execution_count": 2,
   "metadata": {},
   "outputs": [],
   "source": [
    "#load data\n",
    "data = pd.read_csv(\"E:\\GitHub\\MasterWork\\Data\\SANDP-500.txt\")"
   ]
  },
  {
   "cell_type": "code",
   "execution_count": 3,
   "metadata": {},
   "outputs": [
    {
     "data": {
      "text/html": [
       "<div>\n",
       "<style scoped>\n",
       "    .dataframe tbody tr th:only-of-type {\n",
       "        vertical-align: middle;\n",
       "    }\n",
       "\n",
       "    .dataframe tbody tr th {\n",
       "        vertical-align: top;\n",
       "    }\n",
       "\n",
       "    .dataframe thead th {\n",
       "        text-align: right;\n",
       "    }\n",
       "</style>\n",
       "<table border=\"1\" class=\"dataframe\">\n",
       "  <thead>\n",
       "    <tr style=\"text-align: right;\">\n",
       "      <th></th>\n",
       "      <th>Ticker</th>\n",
       "      <th>Per</th>\n",
       "      <th>Date</th>\n",
       "      <th>Time</th>\n",
       "      <th>Open</th>\n",
       "      <th>High</th>\n",
       "      <th>Low</th>\n",
       "      <th>Close</th>\n",
       "      <th>Vol</th>\n",
       "    </tr>\n",
       "  </thead>\n",
       "  <tbody>\n",
       "    <tr>\n",
       "      <th>0</th>\n",
       "      <td>SANDP-500</td>\n",
       "      <td>1</td>\n",
       "      <td>20100101</td>\n",
       "      <td>100</td>\n",
       "      <td>1114.81</td>\n",
       "      <td>1114.97</td>\n",
       "      <td>1114.81</td>\n",
       "      <td>1114.97</td>\n",
       "      <td>0</td>\n",
       "    </tr>\n",
       "    <tr>\n",
       "      <th>1</th>\n",
       "      <td>SANDP-500</td>\n",
       "      <td>1</td>\n",
       "      <td>20100101</td>\n",
       "      <td>200</td>\n",
       "      <td>1115.02</td>\n",
       "      <td>1115.10</td>\n",
       "      <td>1115.02</td>\n",
       "      <td>1115.10</td>\n",
       "      <td>0</td>\n",
       "    </tr>\n",
       "    <tr>\n",
       "      <th>2</th>\n",
       "      <td>SANDP-500</td>\n",
       "      <td>1</td>\n",
       "      <td>20100101</td>\n",
       "      <td>300</td>\n",
       "      <td>1115.11</td>\n",
       "      <td>1115.12</td>\n",
       "      <td>1115.11</td>\n",
       "      <td>1115.12</td>\n",
       "      <td>0</td>\n",
       "    </tr>\n",
       "    <tr>\n",
       "      <th>3</th>\n",
       "      <td>SANDP-500</td>\n",
       "      <td>1</td>\n",
       "      <td>20100101</td>\n",
       "      <td>400</td>\n",
       "      <td>1115.13</td>\n",
       "      <td>1115.14</td>\n",
       "      <td>1115.13</td>\n",
       "      <td>1115.14</td>\n",
       "      <td>0</td>\n",
       "    </tr>\n",
       "    <tr>\n",
       "      <th>4</th>\n",
       "      <td>SANDP-500</td>\n",
       "      <td>1</td>\n",
       "      <td>20100101</td>\n",
       "      <td>500</td>\n",
       "      <td>1115.10</td>\n",
       "      <td>1115.10</td>\n",
       "      <td>1115.10</td>\n",
       "      <td>1115.10</td>\n",
       "      <td>0</td>\n",
       "    </tr>\n",
       "  </tbody>\n",
       "</table>\n",
       "</div>"
      ],
      "text/plain": [
       "      Ticker  Per      Date  Time     Open     High      Low    Close  Vol\n",
       "0  SANDP-500    1  20100101   100  1114.81  1114.97  1114.81  1114.97    0\n",
       "1  SANDP-500    1  20100101   200  1115.02  1115.10  1115.02  1115.10    0\n",
       "2  SANDP-500    1  20100101   300  1115.11  1115.12  1115.11  1115.12    0\n",
       "3  SANDP-500    1  20100101   400  1115.13  1115.14  1115.13  1115.14    0\n",
       "4  SANDP-500    1  20100101   500  1115.10  1115.10  1115.10  1115.10    0"
      ]
     },
     "execution_count": 3,
     "metadata": {},
     "output_type": "execute_result"
    }
   ],
   "source": [
    "data.head()"
   ]
  },
  {
   "cell_type": "code",
   "execution_count": 4,
   "metadata": {},
   "outputs": [
    {
     "data": {
      "text/plain": [
       "<AxesSubplot: >"
      ]
     },
     "execution_count": 4,
     "metadata": {},
     "output_type": "execute_result"
    },
    {
     "data": {
      "image/png": "[encoded data removed]",
      "text/plain": [
       "<Figure size 640x480 with 1 Axes>"
      ]
     },
     "metadata": {},
     "output_type": "display_data"
    }
   ],
   "source": [
    "data.Close.plot()"
   ]
  },
  {
   "cell_type": "code",
   "execution_count": 5,
   "metadata": {},
   "outputs": [],
   "source": [
    "data = data.drop(columns=['Ticker', 'Per', 'Vol'])\n",
    "data.Date = pd.to_datetime(data.Date, format='%Y%m%d')"
   ]
  },
  {
   "cell_type": "code",
   "execution_count": 6,
   "metadata": {},
   "outputs": [
    {
     "name": "stderr",
     "output_type": "stream",
     "text": [
      "C:\\Users\\Skiv2\\AppData\\Local\\Temp\\ipykernel_11748\\1651708284.py:3: SettingWithCopyWarning: \n",
      "A value is trying to be set on a copy of a slice from a DataFrame\n",
      "\n",
      "See the caveats in the documentation: https://pandas.pydata.org/pandas-docs/stable/user_guide/indexing.html#returning-a-view-versus-a-copy\n",
      "  data.Date[i] = data.Date[i].timestamp() + data.Time[i]\n"
     ]
    }
   ],
   "source": [
    "import calendar\n",
    "for i in range(len(data.Date)):\n",
    "    data.Date[i] = data.Date[i].timestamp() + data.Time[i]"
   ]
  },
  {
   "cell_type": "code",
   "execution_count": 8,
   "metadata": {},
   "outputs": [
    {
     "data": {
      "text/html": [
       "<div>\n",
       "<style scoped>\n",
       "    .dataframe tbody tr th:only-of-type {\n",
       "        vertical-align: middle;\n",
       "    }\n",
       "\n",
       "    .dataframe tbody tr th {\n",
       "        vertical-align: top;\n",
       "    }\n",
       "\n",
       "    .dataframe thead th {\n",
       "        text-align: right;\n",
       "    }\n",
       "</style>\n",
       "<table border=\"1\" class=\"dataframe\">\n",
       "  <thead>\n",
       "    <tr style=\"text-align: right;\">\n",
       "      <th></th>\n",
       "      <th>Date</th>\n",
       "      <th>Time</th>\n",
       "      <th>Open</th>\n",
       "      <th>High</th>\n",
       "      <th>Low</th>\n",
       "      <th>Close</th>\n",
       "    </tr>\n",
       "  </thead>\n",
       "  <tbody>\n",
       "    <tr>\n",
       "      <th>0</th>\n",
       "      <td>1262304100.0</td>\n",
       "      <td>100</td>\n",
       "      <td>1114.81</td>\n",
       "      <td>1114.97</td>\n",
       "      <td>1114.81</td>\n",
       "      <td>1114.97</td>\n",
       "    </tr>\n",
       "    <tr>\n",
       "      <th>1</th>\n",
       "      <td>1262304200.0</td>\n",
       "      <td>200</td>\n",
       "      <td>1115.02</td>\n",
       "      <td>1115.10</td>\n",
       "      <td>1115.02</td>\n",
       "      <td>1115.10</td>\n",
       "    </tr>\n",
       "    <tr>\n",
       "      <th>2</th>\n",
       "      <td>1262304300.0</td>\n",
       "      <td>300</td>\n",
       "      <td>1115.11</td>\n",
       "      <td>1115.12</td>\n",
       "      <td>1115.11</td>\n",
       "      <td>1115.12</td>\n",
       "    </tr>\n",
       "    <tr>\n",
       "      <th>3</th>\n",
       "      <td>1262304400.0</td>\n",
       "      <td>400</td>\n",
       "      <td>1115.13</td>\n",
       "      <td>1115.14</td>\n",
       "      <td>1115.13</td>\n",
       "      <td>1115.14</td>\n",
       "    </tr>\n",
       "    <tr>\n",
       "      <th>4</th>\n",
       "      <td>1262304500.0</td>\n",
       "      <td>500</td>\n",
       "      <td>1115.10</td>\n",
       "      <td>1115.10</td>\n",
       "      <td>1115.10</td>\n",
       "      <td>1115.10</td>\n",
       "    </tr>\n",
       "  </tbody>\n",
       "</table>\n",
       "</div>"
      ],
      "text/plain": [
       "           Date  Time     Open     High      Low    Close\n",
       "0  1262304100.0   100  1114.81  1114.97  1114.81  1114.97\n",
       "1  1262304200.0   200  1115.02  1115.10  1115.02  1115.10\n",
       "2  1262304300.0   300  1115.11  1115.12  1115.11  1115.12\n",
       "3  1262304400.0   400  1115.13  1115.14  1115.13  1115.14\n",
       "4  1262304500.0   500  1115.10  1115.10  1115.10  1115.10"
      ]
     },
     "execution_count": 8,
     "metadata": {},
     "output_type": "execute_result"
    }
   ],
   "source": [
    "data.head()"
   ]
  },
  {
   "cell_type": "code",
   "execution_count": 9,
   "metadata": {},
   "outputs": [],
   "source": [
    "data = data.drop(columns=['Time'])"
   ]
  },
  {
   "cell_type": "code",
   "execution_count": 10,
   "metadata": {},
   "outputs": [
    {
     "data": {
      "text/html": [
       "<div>\n",
       "<style scoped>\n",
       "    .dataframe tbody tr th:only-of-type {\n",
       "        vertical-align: middle;\n",
       "    }\n",
       "\n",
       "    .dataframe tbody tr th {\n",
       "        vertical-align: top;\n",
       "    }\n",
       "\n",
       "    .dataframe thead th {\n",
       "        text-align: right;\n",
       "    }\n",
       "</style>\n",
       "<table border=\"1\" class=\"dataframe\">\n",
       "  <thead>\n",
       "    <tr style=\"text-align: right;\">\n",
       "      <th></th>\n",
       "      <th>Date</th>\n",
       "      <th>Open</th>\n",
       "      <th>High</th>\n",
       "      <th>Low</th>\n",
       "      <th>Close</th>\n",
       "    </tr>\n",
       "  </thead>\n",
       "  <tbody>\n",
       "    <tr>\n",
       "      <th>0</th>\n",
       "      <td>1262304100.0</td>\n",
       "      <td>1114.81</td>\n",
       "      <td>1114.97</td>\n",
       "      <td>1114.81</td>\n",
       "      <td>1114.97</td>\n",
       "    </tr>\n",
       "    <tr>\n",
       "      <th>1</th>\n",
       "      <td>1262304200.0</td>\n",
       "      <td>1115.02</td>\n",
       "      <td>1115.10</td>\n",
       "      <td>1115.02</td>\n",
       "      <td>1115.10</td>\n",
       "    </tr>\n",
       "    <tr>\n",
       "      <th>2</th>\n",
       "      <td>1262304300.0</td>\n",
       "      <td>1115.11</td>\n",
       "      <td>1115.12</td>\n",
       "      <td>1115.11</td>\n",
       "      <td>1115.12</td>\n",
       "    </tr>\n",
       "    <tr>\n",
       "      <th>3</th>\n",
       "      <td>1262304400.0</td>\n",
       "      <td>1115.13</td>\n",
       "      <td>1115.14</td>\n",
       "      <td>1115.13</td>\n",
       "      <td>1115.14</td>\n",
       "    </tr>\n",
       "    <tr>\n",
       "      <th>4</th>\n",
       "      <td>1262304500.0</td>\n",
       "      <td>1115.10</td>\n",
       "      <td>1115.10</td>\n",
       "      <td>1115.10</td>\n",
       "      <td>1115.10</td>\n",
       "    </tr>\n",
       "  </tbody>\n",
       "</table>\n",
       "</div>"
      ],
      "text/plain": [
       "           Date     Open     High      Low    Close\n",
       "0  1262304100.0  1114.81  1114.97  1114.81  1114.97\n",
       "1  1262304200.0  1115.02  1115.10  1115.02  1115.10\n",
       "2  1262304300.0  1115.11  1115.12  1115.11  1115.12\n",
       "3  1262304400.0  1115.13  1115.14  1115.13  1115.14\n",
       "4  1262304500.0  1115.10  1115.10  1115.10  1115.10"
      ]
     },
     "execution_count": 10,
     "metadata": {},
     "output_type": "execute_result"
    }
   ],
   "source": [
    "data.head()"
   ]
  },
  {
   "cell_type": "code",
   "execution_count": 12,
   "metadata": {},
   "outputs": [],
   "source": [
    "data.to_csv(\"E:\\GitHub\\MasterWork\\Data\\SANDP-500Fixed.txt\", index=False)"
   ]
  },
  {
   "cell_type": "code",
   "execution_count": null,
   "metadata": {},
   "outputs": [],
   "source": []
  }
 ],
 "metadata": {
  "kernelspec": {
   "display_name": "Python 3.8.10 64-bit",
   "language": "python",
   "name": "python3"
  },
  "language_info": {
   "codemirror_mode": {
    "name": "ipython",
    "version": 3
   },
   "file_extension": ".py",
   "mimetype": "text/x-python",
   "name": "python",
   "nbconvert_exporter": "python",
   "pygments_lexer": "ipython3",
   "version": "3.8.10"
  },
  "orig_nbformat": 4,
  "vscode": {
   "interpreter": {
    "hash": "f5ff168696553f3e2cb115c273c46eeb315c32b0d0536992c4bad2740a7f9469"
   }
  }
 },
 "nbformat": 4,
 "nbformat_minor": 2
}
