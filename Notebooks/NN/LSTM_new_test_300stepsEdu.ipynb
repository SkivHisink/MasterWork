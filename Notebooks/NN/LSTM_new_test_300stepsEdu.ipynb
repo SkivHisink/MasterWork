{
 "cells": [
  {
   "cell_type": "code",
   "execution_count": 1,
   "metadata": {},
   "outputs": [],
   "source": [
    "%matplotlib inline\n",
    "\n",
    "import glob\n",
    "from platform import python_version\n",
    "import pandas as pd\n",
    "import matplotlib\n",
    "import numpy as np\n",
    "import pandas as pd\n",
    "import sklearn\n",
    "import torch\n",
    "import matplotlib.pyplot as plt"
   ]
  },
  {
   "cell_type": "code",
   "execution_count": 2,
   "metadata": {},
   "outputs": [
    {
     "name": "stdout",
     "output_type": "stream",
     "text": [
      "python version==3.11.8\n",
      "pandas==2.1.2\n",
      "numpy==1.26.1\n",
      "sklearn==1.3.2\n",
      "torch==2.1.1+cu121\n",
      "matplotlib==3.8.1\n"
     ]
    }
   ],
   "source": [
    "print(\"python version==%s\" % python_version())\n",
    "print(\"pandas==%s\" % pd.__version__)\n",
    "print(\"numpy==%s\" % np.__version__)\n",
    "print(\"sklearn==%s\" % sklearn.__version__)\n",
    "print(\"torch==%s\" % torch.__version__)\n",
    "print(\"matplotlib==%s\" % matplotlib.__version__)"
   ]
  },
  {
   "cell_type": "code",
   "execution_count": 3,
   "metadata": {},
   "outputs": [
    {
     "name": "stdout",
     "output_type": "stream",
     "text": [
      "Using device: cuda\n"
     ]
    }
   ],
   "source": [
    "device = torch.device('cuda' if torch.cuda.is_available() else 'cpu')\n",
    "print('Using device:', device)"
   ]
  },
  {
   "cell_type": "code",
   "execution_count": 4,
   "metadata": {},
   "outputs": [],
   "source": [
    "#load data\n",
    "data = pd.read_csv(\"..\\..\\Data\\Day\\S&P 500 Historical Data00-20.csv\")"
   ]
  },
  {
   "cell_type": "code",
   "execution_count": 5,
   "metadata": {},
   "outputs": [],
   "source": [
    "#transform data\n",
    "data = data.replace(\",\", \"\", regex=True)\n",
    "data.Date = pd.to_datetime(data.Date)\n",
    "data = data.sort_values(by=[\"Date\"])\n",
    "data.set_index('Date')\n",
    "data.Price = data.Price.astype(float)\n",
    "data.High = data.High.astype(float)\n",
    "data.Low = data.Low.astype(float)\n",
    "data.Open = data.Open.astype(float)\n",
    "data[\"Vol.\"] = data[\"Vol.\"].astype(float)"
   ]
  },
  {
   "cell_type": "code",
   "execution_count": 6,
   "metadata": {},
   "outputs": [
    {
     "data": {
      "text/html": [
       "<div>\n",
       "<style scoped>\n",
       "    .dataframe tbody tr th:only-of-type {\n",
       "        vertical-align: middle;\n",
       "    }\n",
       "\n",
       "    .dataframe tbody tr th {\n",
       "        vertical-align: top;\n",
       "    }\n",
       "\n",
       "    .dataframe thead th {\n",
       "        text-align: right;\n",
       "    }\n",
       "</style>\n",
       "<table border=\"1\" class=\"dataframe\">\n",
       "  <thead>\n",
       "    <tr style=\"text-align: right;\">\n",
       "      <th></th>\n",
       "      <th>Date</th>\n",
       "      <th>Price</th>\n",
       "      <th>Open</th>\n",
       "      <th>High</th>\n",
       "      <th>Low</th>\n",
       "      <th>Vol.</th>\n",
       "      <th>Change %</th>\n",
       "    </tr>\n",
       "  </thead>\n",
       "  <tbody>\n",
       "    <tr>\n",
       "      <th>4999</th>\n",
       "      <td>2000-01-03</td>\n",
       "      <td>1455.2</td>\n",
       "      <td>1469.2</td>\n",
       "      <td>1478.0</td>\n",
       "      <td>1438.4</td>\n",
       "      <td>NaN</td>\n",
       "      <td>-0.95%</td>\n",
       "    </tr>\n",
       "    <tr>\n",
       "      <th>4998</th>\n",
       "      <td>2000-01-04</td>\n",
       "      <td>1399.4</td>\n",
       "      <td>1455.2</td>\n",
       "      <td>1455.2</td>\n",
       "      <td>1397.4</td>\n",
       "      <td>NaN</td>\n",
       "      <td>-3.83%</td>\n",
       "    </tr>\n",
       "    <tr>\n",
       "      <th>4997</th>\n",
       "      <td>2000-01-05</td>\n",
       "      <td>1402.1</td>\n",
       "      <td>1399.4</td>\n",
       "      <td>1413.3</td>\n",
       "      <td>1377.7</td>\n",
       "      <td>NaN</td>\n",
       "      <td>0.19%</td>\n",
       "    </tr>\n",
       "    <tr>\n",
       "      <th>4996</th>\n",
       "      <td>2000-01-06</td>\n",
       "      <td>1403.5</td>\n",
       "      <td>1402.1</td>\n",
       "      <td>1411.9</td>\n",
       "      <td>1392.0</td>\n",
       "      <td>NaN</td>\n",
       "      <td>0.10%</td>\n",
       "    </tr>\n",
       "    <tr>\n",
       "      <th>4995</th>\n",
       "      <td>2000-01-07</td>\n",
       "      <td>1441.5</td>\n",
       "      <td>1403.5</td>\n",
       "      <td>1441.5</td>\n",
       "      <td>1400.5</td>\n",
       "      <td>NaN</td>\n",
       "      <td>2.71%</td>\n",
       "    </tr>\n",
       "  </tbody>\n",
       "</table>\n",
       "</div>"
      ],
      "text/plain": [
       "           Date   Price    Open    High     Low  Vol. Change %\n",
       "4999 2000-01-03  1455.2  1469.2  1478.0  1438.4   NaN   -0.95%\n",
       "4998 2000-01-04  1399.4  1455.2  1455.2  1397.4   NaN   -3.83%\n",
       "4997 2000-01-05  1402.1  1399.4  1413.3  1377.7   NaN    0.19%\n",
       "4996 2000-01-06  1403.5  1402.1  1411.9  1392.0   NaN    0.10%\n",
       "4995 2000-01-07  1441.5  1403.5  1441.5  1400.5   NaN    2.71%"
      ]
     },
     "execution_count": 6,
     "metadata": {},
     "output_type": "execute_result"
    }
   ],
   "source": [
    "data.head()"
   ]
  },
  {
   "cell_type": "code",
   "execution_count": 7,
   "metadata": {},
   "outputs": [],
   "source": [
    "data.index = data.index[::-1]"
   ]
  },
  {
   "cell_type": "code",
   "execution_count": 8,
   "metadata": {},
   "outputs": [
    {
     "data": {
      "text/html": [
       "<div>\n",
       "<style scoped>\n",
       "    .dataframe tbody tr th:only-of-type {\n",
       "        vertical-align: middle;\n",
       "    }\n",
       "\n",
       "    .dataframe tbody tr th {\n",
       "        vertical-align: top;\n",
       "    }\n",
       "\n",
       "    .dataframe thead th {\n",
       "        text-align: right;\n",
       "    }\n",
       "</style>\n",
       "<table border=\"1\" class=\"dataframe\">\n",
       "  <thead>\n",
       "    <tr style=\"text-align: right;\">\n",
       "      <th></th>\n",
       "      <th>Date</th>\n",
       "      <th>Price</th>\n",
       "      <th>Open</th>\n",
       "      <th>High</th>\n",
       "      <th>Low</th>\n",
       "      <th>Vol.</th>\n",
       "      <th>Change %</th>\n",
       "    </tr>\n",
       "  </thead>\n",
       "  <tbody>\n",
       "    <tr>\n",
       "      <th>0</th>\n",
       "      <td>2000-01-03</td>\n",
       "      <td>1455.2</td>\n",
       "      <td>1469.2</td>\n",
       "      <td>1478.0</td>\n",
       "      <td>1438.4</td>\n",
       "      <td>NaN</td>\n",
       "      <td>-0.95%</td>\n",
       "    </tr>\n",
       "    <tr>\n",
       "      <th>1</th>\n",
       "      <td>2000-01-04</td>\n",
       "      <td>1399.4</td>\n",
       "      <td>1455.2</td>\n",
       "      <td>1455.2</td>\n",
       "      <td>1397.4</td>\n",
       "      <td>NaN</td>\n",
       "      <td>-3.83%</td>\n",
       "    </tr>\n",
       "    <tr>\n",
       "      <th>2</th>\n",
       "      <td>2000-01-05</td>\n",
       "      <td>1402.1</td>\n",
       "      <td>1399.4</td>\n",
       "      <td>1413.3</td>\n",
       "      <td>1377.7</td>\n",
       "      <td>NaN</td>\n",
       "      <td>0.19%</td>\n",
       "    </tr>\n",
       "    <tr>\n",
       "      <th>3</th>\n",
       "      <td>2000-01-06</td>\n",
       "      <td>1403.5</td>\n",
       "      <td>1402.1</td>\n",
       "      <td>1411.9</td>\n",
       "      <td>1392.0</td>\n",
       "      <td>NaN</td>\n",
       "      <td>0.10%</td>\n",
       "    </tr>\n",
       "    <tr>\n",
       "      <th>4</th>\n",
       "      <td>2000-01-07</td>\n",
       "      <td>1441.5</td>\n",
       "      <td>1403.5</td>\n",
       "      <td>1441.5</td>\n",
       "      <td>1400.5</td>\n",
       "      <td>NaN</td>\n",
       "      <td>2.71%</td>\n",
       "    </tr>\n",
       "  </tbody>\n",
       "</table>\n",
       "</div>"
      ],
      "text/plain": [
       "        Date   Price    Open    High     Low  Vol. Change %\n",
       "0 2000-01-03  1455.2  1469.2  1478.0  1438.4   NaN   -0.95%\n",
       "1 2000-01-04  1399.4  1455.2  1455.2  1397.4   NaN   -3.83%\n",
       "2 2000-01-05  1402.1  1399.4  1413.3  1377.7   NaN    0.19%\n",
       "3 2000-01-06  1403.5  1402.1  1411.9  1392.0   NaN    0.10%\n",
       "4 2000-01-07  1441.5  1403.5  1441.5  1400.5   NaN    2.71%"
      ]
     },
     "execution_count": 8,
     "metadata": {},
     "output_type": "execute_result"
    }
   ],
   "source": [
    "data.head()"
   ]
  },
  {
   "cell_type": "code",
   "execution_count": 9,
   "metadata": {},
   "outputs": [],
   "source": [
    "special_data = data[(data['Date'] > '2010-01-01') & (data['Date'] < '2015-01-01')]\n",
    "special_data.index = data.index[:len(special_data)]"
   ]
  },
  {
   "cell_type": "code",
   "execution_count": 10,
   "metadata": {},
   "outputs": [
    {
     "data": {
      "text/html": [
       "<div>\n",
       "<style scoped>\n",
       "    .dataframe tbody tr th:only-of-type {\n",
       "        vertical-align: middle;\n",
       "    }\n",
       "\n",
       "    .dataframe tbody tr th {\n",
       "        vertical-align: top;\n",
       "    }\n",
       "\n",
       "    .dataframe thead th {\n",
       "        text-align: right;\n",
       "    }\n",
       "</style>\n",
       "<table border=\"1\" class=\"dataframe\">\n",
       "  <thead>\n",
       "    <tr style=\"text-align: right;\">\n",
       "      <th></th>\n",
       "      <th>Date</th>\n",
       "      <th>Price</th>\n",
       "      <th>Open</th>\n",
       "      <th>High</th>\n",
       "      <th>Low</th>\n",
       "      <th>Vol.</th>\n",
       "      <th>Change %</th>\n",
       "    </tr>\n",
       "  </thead>\n",
       "  <tbody>\n",
       "    <tr>\n",
       "      <th>0</th>\n",
       "      <td>2010-01-04</td>\n",
       "      <td>1132.99</td>\n",
       "      <td>1116.56</td>\n",
       "      <td>1133.87</td>\n",
       "      <td>1116.56</td>\n",
       "      <td>NaN</td>\n",
       "      <td>1.60%</td>\n",
       "    </tr>\n",
       "    <tr>\n",
       "      <th>1</th>\n",
       "      <td>2010-01-05</td>\n",
       "      <td>1136.52</td>\n",
       "      <td>1132.66</td>\n",
       "      <td>1136.63</td>\n",
       "      <td>1129.66</td>\n",
       "      <td>NaN</td>\n",
       "      <td>0.31%</td>\n",
       "    </tr>\n",
       "    <tr>\n",
       "      <th>2</th>\n",
       "      <td>2010-01-06</td>\n",
       "      <td>1137.14</td>\n",
       "      <td>1135.71</td>\n",
       "      <td>1139.19</td>\n",
       "      <td>1133.95</td>\n",
       "      <td>NaN</td>\n",
       "      <td>0.05%</td>\n",
       "    </tr>\n",
       "    <tr>\n",
       "      <th>3</th>\n",
       "      <td>2010-01-07</td>\n",
       "      <td>1141.69</td>\n",
       "      <td>1136.27</td>\n",
       "      <td>1142.46</td>\n",
       "      <td>1131.32</td>\n",
       "      <td>NaN</td>\n",
       "      <td>0.40%</td>\n",
       "    </tr>\n",
       "    <tr>\n",
       "      <th>4</th>\n",
       "      <td>2010-01-08</td>\n",
       "      <td>1144.98</td>\n",
       "      <td>1140.52</td>\n",
       "      <td>1145.39</td>\n",
       "      <td>1136.22</td>\n",
       "      <td>NaN</td>\n",
       "      <td>0.29%</td>\n",
       "    </tr>\n",
       "  </tbody>\n",
       "</table>\n",
       "</div>"
      ],
      "text/plain": [
       "        Date    Price     Open     High      Low  Vol. Change %\n",
       "0 2010-01-04  1132.99  1116.56  1133.87  1116.56   NaN    1.60%\n",
       "1 2010-01-05  1136.52  1132.66  1136.63  1129.66   NaN    0.31%\n",
       "2 2010-01-06  1137.14  1135.71  1139.19  1133.95   NaN    0.05%\n",
       "3 2010-01-07  1141.69  1136.27  1142.46  1131.32   NaN    0.40%\n",
       "4 2010-01-08  1144.98  1140.52  1145.39  1136.22   NaN    0.29%"
      ]
     },
     "execution_count": 10,
     "metadata": {},
     "output_type": "execute_result"
    }
   ],
   "source": [
    "special_data.head()"
   ]
  },
  {
   "cell_type": "code",
   "execution_count": 11,
   "metadata": {},
   "outputs": [],
   "source": [
    "#change indexes\n",
    "special_data.set_index('Date', inplace=True)"
   ]
  },
  {
   "cell_type": "code",
   "execution_count": 12,
   "metadata": {},
   "outputs": [],
   "source": [
    "special_data = special_data.drop(columns=['Open', 'High', 'Low', 'Vol.', 'Change %'])"
   ]
  },
  {
   "cell_type": "code",
   "execution_count": 13,
   "metadata": {},
   "outputs": [
    {
     "data": {
      "text/html": [
       "<div>\n",
       "<style scoped>\n",
       "    .dataframe tbody tr th:only-of-type {\n",
       "        vertical-align: middle;\n",
       "    }\n",
       "\n",
       "    .dataframe tbody tr th {\n",
       "        vertical-align: top;\n",
       "    }\n",
       "\n",
       "    .dataframe thead th {\n",
       "        text-align: right;\n",
       "    }\n",
       "</style>\n",
       "<table border=\"1\" class=\"dataframe\">\n",
       "  <thead>\n",
       "    <tr style=\"text-align: right;\">\n",
       "      <th></th>\n",
       "      <th>Price</th>\n",
       "    </tr>\n",
       "    <tr>\n",
       "      <th>Date</th>\n",
       "      <th></th>\n",
       "    </tr>\n",
       "  </thead>\n",
       "  <tbody>\n",
       "    <tr>\n",
       "      <th>2010-01-04</th>\n",
       "      <td>1132.99</td>\n",
       "    </tr>\n",
       "    <tr>\n",
       "      <th>2010-01-05</th>\n",
       "      <td>1136.52</td>\n",
       "    </tr>\n",
       "    <tr>\n",
       "      <th>2010-01-06</th>\n",
       "      <td>1137.14</td>\n",
       "    </tr>\n",
       "    <tr>\n",
       "      <th>2010-01-07</th>\n",
       "      <td>1141.69</td>\n",
       "    </tr>\n",
       "    <tr>\n",
       "      <th>2010-01-08</th>\n",
       "      <td>1144.98</td>\n",
       "    </tr>\n",
       "  </tbody>\n",
       "</table>\n",
       "</div>"
      ],
      "text/plain": [
       "              Price\n",
       "Date               \n",
       "2010-01-04  1132.99\n",
       "2010-01-05  1136.52\n",
       "2010-01-06  1137.14\n",
       "2010-01-07  1141.69\n",
       "2010-01-08  1144.98"
      ]
     },
     "execution_count": 13,
     "metadata": {},
     "output_type": "execute_result"
    }
   ],
   "source": [
    "special_data.head()"
   ]
  },
  {
   "cell_type": "code",
   "execution_count": 14,
   "metadata": {},
   "outputs": [
    {
     "data": {
      "text/plain": [
       "[<matplotlib.lines.Line2D at 0x23e3ba912d0>]"
      ]
     },
     "execution_count": 14,
     "metadata": {},
     "output_type": "execute_result"
    },
    {
     "data": {
      "image/png": "[encoded data removed]",
      "text/plain": [
       "<Figure size 640x480 with 1 Axes>"
      ]
     },
     "metadata": {},
     "output_type": "display_data"
    }
   ],
   "source": [
    "plt.plot(special_data)"
   ]
  },
  {
   "cell_type": "code",
   "execution_count": 14,
   "metadata": {},
   "outputs": [],
   "source": [
    "from torch.autograd import Variable\n",
    "from sklearn.preprocessing import MinMaxScaler\n",
    "\n",
    "def sliding_windows(data, seq_length):\n",
    "    x = []\n",
    "    y = []\n",
    "\n",
    "    for i in range(len(data)-seq_length-1):\n",
    "        _x = data[i:(i+seq_length)]\n",
    "        _y = data[i+seq_length]\n",
    "        x.append(_x)\n",
    "        y.append(_y)\n",
    "\n",
    "    return np.array(x),np.array(y)\n",
    "\n",
    "sc = MinMaxScaler()\n",
    "training_data = sc.fit_transform(special_data)\n",
    "\n",
    "seq_length = 10\n",
    "x, y = sliding_windows(training_data, seq_length)\n",
    "\n",
    "train_size = 160\n",
    "val_size = 90\n",
    "test_size = 40\n",
    "\n",
    "dataX = Variable(torch.Tensor(np.array(x)).to(device))\n",
    "dataY = Variable(torch.Tensor(np.array(y)).to(device))\n",
    "\n",
    "trainX = Variable(torch.Tensor(np.array(x[0:train_size])).to(device))\n",
    "trainY = Variable(torch.Tensor(np.array(y[0:train_size])).to(device))\n",
    "\n",
    "testX = Variable(torch.Tensor(np.array(x[train_size:train_size + test_size])).to(device))\n",
    "testY = Variable(torch.Tensor(np.array(y[train_size:train_size + test_size])).to(device))\n",
    "\n",
    "valX = Variable(torch.Tensor(np.array(x[train_size + test_size:train_size + test_size + val_size])).to(device))\n",
    "valY = Variable(torch.Tensor(np.array(y[train_size + test_size:train_size + test_size + val_size])).to(device))"
   ]
  },
  {
   "cell_type": "code",
   "execution_count": 15,
   "metadata": {},
   "outputs": [],
   "source": [
    "import torch\n",
    "import torch.nn as nn\n",
    "from torch.utils.data import Dataset, DataLoader\n",
    "\n",
    "class TimeSeriesDataset(Dataset):\n",
    "    def __init__(self, x, y):\n",
    "        self.x = x\n",
    "        self.y = y\n",
    "\n",
    "    def __len__(self):\n",
    "        return len(self.x)\n",
    "\n",
    "    def __getitem__(self, idx):\n",
    "        return self.x[idx], self.y[idx]\n",
    "\n",
    "train_dataset = TimeSeriesDataset(trainX, trainY)\n",
    "test_dataset = TimeSeriesDataset(testX, testY)\n",
    "val_dataset = TimeSeriesDataset(valX, valY)\n",
    "\n",
    "train_loader = DataLoader(train_dataset, batch_size = 10, shuffle = False)\n",
    "test_loader = DataLoader(test_dataset, batch_size = 10, shuffle = False)\n",
    "val_loader = DataLoader(val_dataset, batch_size = 10, shuffle = False)"
   ]
  },
  {
   "cell_type": "code",
   "execution_count": 16,
   "metadata": {},
   "outputs": [],
   "source": [
    "import torch.nn as nn\n",
    "\n",
    "class LSTM(nn.Module):\n",
    "\n",
    "    def __init__(self, num_classes, input_size, hidden_size, num_layers):\n",
    "        super(LSTM, self).__init__()\n",
    "        \n",
    "        self.num_classes = num_classes\n",
    "        self.num_layers = num_layers\n",
    "        self.input_size = input_size\n",
    "        self.hidden_size = hidden_size\n",
    "        self.seq_length = seq_length\n",
    "        \n",
    "        self.lstm = nn.LSTM(input_size = input_size, hidden_size = hidden_size,\n",
    "                            num_layers = num_layers, batch_first=True)\n",
    "        \n",
    "        self.fc = nn.Linear(hidden_size, num_classes)\n",
    "\n",
    "    def forward(self, x):\n",
    "        h_0 = Variable(torch.zeros(\n",
    "            self.num_layers, x.size(0), self.hidden_size).to(device))\n",
    "        \n",
    "        c_0 = Variable(torch.zeros(\n",
    "            self.num_layers, x.size(0), self.hidden_size).to(device))\n",
    "        \n",
    "        # Propagate input through LSTM\n",
    "        ula, (h_out, _) = self.lstm(x, (h_0, c_0))\n",
    "        \n",
    "        h_out = h_out.view(-1, self.hidden_size)\n",
    "        \n",
    "        out = self.fc(h_out)\n",
    "        \n",
    "        return out"
   ]
  },
  {
   "cell_type": "code",
   "execution_count": 17,
   "metadata": {},
   "outputs": [
    {
     "name": "stdout",
     "output_type": "stream",
     "text": [
      "Epoch [1/1100], Train Loss: 0.0091, Valid Loss: 0.0118\n",
      "Epoch [11/1100], Train Loss: 0.0026, Valid Loss: 0.0007\n",
      "Epoch [21/1100], Train Loss: 0.0019, Valid Loss: 0.0018\n",
      "Epoch [31/1100], Train Loss: 0.0020, Valid Loss: 0.0024\n",
      "Epoch [41/1100], Train Loss: 0.0018, Valid Loss: 0.0014\n",
      "Epoch [51/1100], Train Loss: 0.0018, Valid Loss: 0.0015\n",
      "Epoch [61/1100], Train Loss: 0.0017, Valid Loss: 0.0017\n",
      "Epoch [71/1100], Train Loss: 0.0016, Valid Loss: 0.0014\n",
      "Epoch [81/1100], Train Loss: 0.0015, Valid Loss: 0.0014\n",
      "Epoch [91/1100], Train Loss: 0.0014, Valid Loss: 0.0012\n",
      "Epoch [101/1100], Train Loss: 0.0012, Valid Loss: 0.0010\n",
      "Epoch [111/1100], Train Loss: 0.0008, Valid Loss: 0.0006\n",
      "Epoch [121/1100], Train Loss: 0.0006, Valid Loss: 0.0004\n",
      "Epoch [131/1100], Train Loss: 0.0005, Valid Loss: 0.0004\n",
      "Epoch [141/1100], Train Loss: 0.0005, Valid Loss: 0.0004\n",
      "Epoch [151/1100], Train Loss: 0.0005, Valid Loss: 0.0003\n",
      "Epoch [161/1100], Train Loss: 0.0005, Valid Loss: 0.0003\n",
      "Epoch [171/1100], Train Loss: 0.0005, Valid Loss: 0.0003\n",
      "Epoch [181/1100], Train Loss: 0.0004, Valid Loss: 0.0003\n",
      "Epoch [191/1100], Train Loss: 0.0004, Valid Loss: 0.0003\n",
      "Epoch [201/1100], Train Loss: 0.0004, Valid Loss: 0.0003\n",
      "Epoch [211/1100], Train Loss: 0.0004, Valid Loss: 0.0002\n",
      "Epoch [221/1100], Train Loss: 0.0004, Valid Loss: 0.0002\n",
      "Epoch [231/1100], Train Loss: 0.0004, Valid Loss: 0.0002\n",
      "Epoch [241/1100], Train Loss: 0.0004, Valid Loss: 0.0002\n",
      "Epoch [251/1100], Train Loss: 0.0003, Valid Loss: 0.0002\n",
      "Epoch [261/1100], Train Loss: 0.0004, Valid Loss: 0.0003\n",
      "Epoch [271/1100], Train Loss: 0.0003, Valid Loss: 0.0002\n",
      "Epoch [281/1100], Train Loss: 0.0003, Valid Loss: 0.0002\n",
      "Epoch [291/1100], Train Loss: 0.0003, Valid Loss: 0.0001\n",
      "Epoch [301/1100], Train Loss: 0.0003, Valid Loss: 0.0001\n",
      "Epoch [311/1100], Train Loss: 0.0003, Valid Loss: 0.0001\n",
      "Epoch [321/1100], Train Loss: 0.0003, Valid Loss: 0.0001\n",
      "Epoch [331/1100], Train Loss: 0.0003, Valid Loss: 0.0001\n",
      "Epoch [341/1100], Train Loss: 0.0003, Valid Loss: 0.0001\n",
      "Epoch [351/1100], Train Loss: 0.0003, Valid Loss: 0.0000\n",
      "Epoch [361/1100], Train Loss: 0.0003, Valid Loss: 0.0001\n",
      "Epoch [371/1100], Train Loss: 0.0003, Valid Loss: 0.0001\n",
      "Epoch [381/1100], Train Loss: 0.0003, Valid Loss: 0.0001\n",
      "Epoch [391/1100], Train Loss: 0.0003, Valid Loss: 0.0001\n",
      "Epoch [401/1100], Train Loss: 0.0003, Valid Loss: 0.0001\n",
      "Epoch [411/1100], Train Loss: 0.0003, Valid Loss: 0.0001\n",
      "Epoch [421/1100], Train Loss: 0.0003, Valid Loss: 0.0001\n",
      "Epoch [431/1100], Train Loss: 0.0002, Valid Loss: 0.0001\n",
      "Epoch [441/1100], Train Loss: 0.0002, Valid Loss: 0.0001\n",
      "Epoch [451/1100], Train Loss: 0.0002, Valid Loss: 0.0001\n",
      "Epoch [461/1100], Train Loss: 0.0002, Valid Loss: 0.0001\n",
      "Epoch [471/1100], Train Loss: 0.0002, Valid Loss: 0.0001\n",
      "Epoch [481/1100], Train Loss: 0.0002, Valid Loss: 0.0001\n",
      "Epoch [491/1100], Train Loss: 0.0002, Valid Loss: 0.0001\n",
      "Epoch [501/1100], Train Loss: 0.0002, Valid Loss: 0.0001\n",
      "Epoch [511/1100], Train Loss: 0.0002, Valid Loss: 0.0001\n",
      "Epoch [521/1100], Train Loss: 0.0002, Valid Loss: 0.0001\n",
      "Epoch [531/1100], Train Loss: 0.0002, Valid Loss: 0.0001\n",
      "Epoch [541/1100], Train Loss: 0.0002, Valid Loss: 0.0001\n",
      "Epoch [551/1100], Train Loss: 0.0002, Valid Loss: 0.0001\n",
      "Epoch [561/1100], Train Loss: 0.0002, Valid Loss: 0.0001\n",
      "Epoch [571/1100], Train Loss: 0.0002, Valid Loss: 0.0001\n",
      "Epoch [581/1100], Train Loss: 0.0002, Valid Loss: 0.0001\n",
      "Epoch [591/1100], Train Loss: 0.0002, Valid Loss: 0.0001\n",
      "Epoch [601/1100], Train Loss: 0.0002, Valid Loss: 0.0001\n",
      "Epoch [611/1100], Train Loss: 0.0002, Valid Loss: 0.0001\n",
      "Epoch [621/1100], Train Loss: 0.0002, Valid Loss: 0.0001\n",
      "Epoch [631/1100], Train Loss: 0.0002, Valid Loss: 0.0001\n",
      "Epoch [641/1100], Train Loss: 0.0002, Valid Loss: 0.0001\n",
      "Epoch [651/1100], Train Loss: 0.0002, Valid Loss: 0.0001\n",
      "Epoch [661/1100], Train Loss: 0.0002, Valid Loss: 0.0001\n",
      "Epoch [671/1100], Train Loss: 0.0002, Valid Loss: 0.0001\n",
      "Epoch [681/1100], Train Loss: 0.0002, Valid Loss: 0.0001\n",
      "Epoch [691/1100], Train Loss: 0.0002, Valid Loss: 0.0001\n",
      "Epoch [701/1100], Train Loss: 0.0002, Valid Loss: 0.0001\n",
      "Epoch [711/1100], Train Loss: 0.0002, Valid Loss: 0.0001\n",
      "Epoch [721/1100], Train Loss: 0.0002, Valid Loss: 0.0003\n",
      "Epoch [731/1100], Train Loss: 0.0002, Valid Loss: 0.0002\n",
      "Epoch [741/1100], Train Loss: 0.0002, Valid Loss: 0.0001\n",
      "Epoch [751/1100], Train Loss: 0.0002, Valid Loss: 0.0001\n",
      "Epoch [761/1100], Train Loss: 0.0002, Valid Loss: 0.0001\n",
      "Epoch [771/1100], Train Loss: 0.0002, Valid Loss: 0.0001\n",
      "Epoch [781/1100], Train Loss: 0.0002, Valid Loss: 0.0001\n",
      "Epoch [791/1100], Train Loss: 0.0002, Valid Loss: 0.0001\n",
      "Epoch [801/1100], Train Loss: 0.0002, Valid Loss: 0.0001\n",
      "Epoch [811/1100], Train Loss: 0.0002, Valid Loss: 0.0001\n",
      "Epoch [821/1100], Train Loss: 0.0002, Valid Loss: 0.0001\n",
      "Epoch [831/1100], Train Loss: 0.0002, Valid Loss: 0.0001\n",
      "Epoch [841/1100], Train Loss: 0.0002, Valid Loss: 0.0001\n",
      "Epoch [851/1100], Train Loss: 0.0002, Valid Loss: 0.0001\n",
      "Epoch [861/1100], Train Loss: 0.0002, Valid Loss: 0.0001\n",
      "Epoch [871/1100], Train Loss: 0.0002, Valid Loss: 0.0001\n",
      "Epoch [881/1100], Train Loss: 0.0002, Valid Loss: 0.0001\n",
      "Epoch [891/1100], Train Loss: 0.0002, Valid Loss: 0.0001\n",
      "Epoch [901/1100], Train Loss: 0.0002, Valid Loss: 0.0001\n",
      "Epoch [911/1100], Train Loss: 0.0002, Valid Loss: 0.0001\n",
      "Epoch [921/1100], Train Loss: 0.0004, Valid Loss: 0.0004\n",
      "Epoch [931/1100], Train Loss: 0.0002, Valid Loss: 0.0001\n",
      "Epoch [941/1100], Train Loss: 0.0002, Valid Loss: 0.0001\n",
      "Epoch [951/1100], Train Loss: 0.0002, Valid Loss: 0.0001\n",
      "Epoch [961/1100], Train Loss: 0.0002, Valid Loss: 0.0001\n",
      "Epoch [971/1100], Train Loss: 0.0002, Valid Loss: 0.0001\n",
      "Epoch [981/1100], Train Loss: 0.0002, Valid Loss: 0.0001\n",
      "Epoch [991/1100], Train Loss: 0.0002, Valid Loss: 0.0001\n",
      "Epoch [1001/1100], Train Loss: 0.0002, Valid Loss: 0.0001\n",
      "Epoch [1011/1100], Train Loss: 0.0002, Valid Loss: 0.0001\n",
      "Epoch [1021/1100], Train Loss: 0.0002, Valid Loss: 0.0001\n",
      "Epoch [1031/1100], Train Loss: 0.0002, Valid Loss: 0.0001\n",
      "Epoch [1041/1100], Train Loss: 0.0002, Valid Loss: 0.0001\n",
      "Epoch [1051/1100], Train Loss: 0.0002, Valid Loss: 0.0001\n",
      "Epoch [1061/1100], Train Loss: 0.0002, Valid Loss: 0.0001\n",
      "Epoch [1071/1100], Train Loss: 0.0002, Valid Loss: 0.0001\n",
      "Epoch [1081/1100], Train Loss: 0.0002, Valid Loss: 0.0001\n",
      "Epoch [1091/1100], Train Loss: 0.0002, Valid Loss: 0.0001\n"
     ]
    },
    {
     "data": {
      "image/png": "[encoded data removed]",
      "text/plain": [
       "<Figure size 640x480 with 1 Axes>"
      ]
     },
     "metadata": {},
     "output_type": "display_data"
    }
   ],
   "source": [
    "num_epochs = 1100\n",
    "learning_rate = 0.001\n",
    "\n",
    "input_size = 1\n",
    "hidden_size = 64 # need to find correct value; 40 small, 64 norm, 100 a lot\n",
    "num_layers = 1\n",
    "\n",
    "num_classes = 1\n",
    "\n",
    "model = LSTM(num_classes, input_size, hidden_size, num_layers).to(device)\n",
    "\n",
    "# Define loss and optimizer\n",
    "criterion = torch.nn.MSELoss()    # mean-squared error for regression\n",
    "optimizer = torch.optim.Adam(model.parameters(), lr = learning_rate)\n",
    "#optimizer = torch.optim.SGD(lstm.parameters(), lr = learning_rate)\n",
    "\n",
    "train_loss = []\n",
    "valid_loss = []\n",
    "\n",
    "for epoch in range(num_epochs):\n",
    "    # set the model to train mode\n",
    "    model.train()\n",
    "\n",
    "    # forward pass\n",
    "    output = model(trainX)\n",
    "    loss = criterion(output, trainY)\n",
    "\n",
    "    # backward pass and optimize\n",
    "    optimizer.zero_grad()\n",
    "    loss.backward()\n",
    "    optimizer.step()\n",
    "\n",
    "    # calculate training loss\n",
    "    train_loss.append(loss.item())\n",
    "\n",
    "    # set the model to evaluation mode\n",
    "    model.eval()\n",
    "\n",
    "    # calculate validation loss\n",
    "    with torch.no_grad():\n",
    "        output = model(testX)\n",
    "        loss = criterion(output, testY)\n",
    "        valid_loss.append(loss.item())\n",
    "\n",
    "    # print progress\n",
    "    if epoch % 10 == 0:\n",
    "        print('Epoch [{}/{}], Train Loss: {:.4f}, Valid Loss: {:.4f}'.format(\n",
    "            epoch+1, num_epochs, train_loss[-1], valid_loss[-1]))\n",
    "\n",
    "# plot train and validation loss\n",
    "plt.plot(train_loss, label='Train Loss')\n",
    "plt.plot(valid_loss, label='Validation Loss')\n",
    "plt.legend()\n",
    "plt.show()"
   ]
  },
  {
   "cell_type": "code",
   "execution_count": 18,
   "metadata": {},
   "outputs": [
    {
     "name": "stdout",
     "output_type": "stream",
     "text": [
      "Test RMSE Score: 9.31\n"
     ]
    }
   ],
   "source": [
    "from sklearn.metrics import mean_squared_error\n",
    "# Test the model\n",
    "model.eval()\n",
    "test_predict = model(testX)\n",
    "\n",
    "test_predict_inv = sc.inverse_transform(test_predict.cpu().detach().numpy())\n",
    "testY_inv = sc.inverse_transform(testY.cpu().detach().numpy())\n",
    "\n",
    "test_score = np.sqrt(mean_squared_error(testY_inv, test_predict_inv))\n",
    "print(\"Test RMSE Score: %.2f\" % test_score)"
   ]
  },
  {
   "cell_type": "code",
   "execution_count": 19,
   "metadata": {},
   "outputs": [
    {
     "data": {
      "image/png": "[encoded data removed]",
      "text/plain": [
       "<Figure size 640x480 with 1 Axes>"
      ]
     },
     "metadata": {},
     "output_type": "display_data"
    },
    {
     "data": {
      "image/png": "[encoded data removed]",
      "text/plain": [
       "<Figure size 640x480 with 1 Axes>"
      ]
     },
     "metadata": {},
     "output_type": "display_data"
    }
   ],
   "source": [
    "import matplotlib.pyplot as plt\n",
    "\n",
    "# make predictions\n",
    "predY_test = model(testX)\n",
    "predY_val = model(valX)\n",
    "\n",
    "# invert scaling for forecast\n",
    "predY_test_inv = sc.inverse_transform(predY_test.cpu().detach().numpy())\n",
    "predY_val_inv = sc.inverse_transform(predY_val.cpu().detach().numpy())\n",
    "testY_inv = sc.inverse_transform(testY.cpu().detach().numpy())\n",
    "# plot 1\n",
    "plt.plot(special_data, label='True Data')\n",
    "plt.plot(special_data.index[train_size: train_size + test_size], predY_test_inv, label = 'Test predicted Data')\n",
    "plt.plot(special_data.index[train_size + test_size:train_size + test_size + val_size], predY_val_inv, label='Val predicted Data')\n",
    "plt.axvline(x=special_data.index[train_size], c='r', linestyle='--')\n",
    "plt.legend()\n",
    "plt.show()\n",
    "# plot 2\n",
    "plt.plot(special_data.index[train_size: train_size + test_size+ val_size], \\\n",
    "         special_data.Price[train_size: train_size + test_size+ val_size], label='True Data')\n",
    "plt.plot(special_data.index[train_size: train_size + test_size], predY_test_inv, label='Test predicted Data')\n",
    "plt.plot(special_data.index[train_size + test_size:train_size + test_size + val_size], predY_val_inv, label='Val predicted Data')\n",
    "plt.axvline(x = special_data.index[train_size], c='r', linestyle='--')\n",
    "plt.legend()\n",
    "plt.show()"
   ]
  },
  {
   "cell_type": "markdown",
   "metadata": {},
   "source": [
    "## Инициализация"
   ]
  },
  {
   "cell_type": "code",
   "execution_count": 45,
   "metadata": {},
   "outputs": [],
   "source": [
    "from torch.autograd import Variable\n",
    "from sklearn.preprocessing import MinMaxScaler\n",
    "import torch.nn as nn\n",
    "\n",
    "def sliding_windows(data, seq_length):\n",
    "    x = []\n",
    "    y = []\n",
    "\n",
    "    for i in range(len(data) - seq_length - 1):\n",
    "        _x = data[i:(i+seq_length)]\n",
    "        _y = data[i+seq_length]\n",
    "        x.append(_x)\n",
    "        y.append(_y)\n",
    "\n",
    "    return np.array(x), np.array(y)\n",
    "\n",
    "\n",
    "class LSTM(nn.Module):\n",
    "\n",
    "    def __init__(self, num_classes, input_size, hidden_size, num_layers):\n",
    "        super(LSTM, self).__init__()\n",
    "        \n",
    "        self.num_classes = num_classes\n",
    "        self.num_layers = num_layers\n",
    "        self.input_size = input_size\n",
    "        self.hidden_size = hidden_size\n",
    "        self.seq_length = seq_length\n",
    "        \n",
    "        self.lstm = nn.LSTM(input_size = input_size, hidden_size = hidden_size,\n",
    "                            num_layers = num_layers, batch_first=True)\n",
    "        \n",
    "        self.fc = nn.Linear(hidden_size, num_classes)\n",
    "\n",
    "    def forward(self, x):\n",
    "        h_0 = Variable(torch.zeros(\n",
    "            self.num_layers, x.size(0), self.hidden_size).to(device))\n",
    "        \n",
    "        c_0 = Variable(torch.zeros(\n",
    "            self.num_layers, x.size(0), self.hidden_size).to(device))\n",
    "        \n",
    "        # Propagate input through LSTM\n",
    "        ula, (h_out, _) = self.lstm(x, (h_0, c_0))\n",
    "        \n",
    "        h_out = h_out.view(-1, self.hidden_size)\n",
    "        \n",
    "        out = self.fc(h_out)\n",
    "        \n",
    "        return out"
   ]
  },
  {
   "cell_type": "markdown",
   "metadata": {},
   "source": [
    "## Чтение входных данных"
   ]
  },
  {
   "cell_type": "markdown",
   "metadata": {},
   "source": [
    "### Загрузка данных"
   ]
  },
  {
   "cell_type": "code",
   "execution_count": 159,
   "metadata": {},
   "outputs": [],
   "source": [
    "data = pd.read_csv(\"..\\..\\Data\\Day\\\\nasdaq_Linear.csv\", index_col = 0)"
   ]
  },
  {
   "cell_type": "markdown",
   "metadata": {},
   "source": [
    "### Трансформация данных"
   ]
  },
  {
   "cell_type": "code",
   "execution_count": null,
   "metadata": {},
   "outputs": [],
   "source": [
    "def data_transformer():\n",
    "    data = data.replace(\",\", \"\", regex=True)\n",
    "    data.Date = pd.to_datetime(data.Date)\n",
    "    data = data.sort_values(by=[\"Date\"])\n",
    "    data.set_index('Date')\n",
    "    data.Price = data.Price.astype(float)\n",
    "    data.High = data.High.astype(float)\n",
    "    data.Low = data.Low.astype(float)\n",
    "    data.Open = data.Open.astype(float)\n",
    "    data[\"Vol.\"] = data[\"Vol.\"].astype(float)\n",
    "\n",
    "def data_transformer_alter():\n",
    "    data = data.replace(\",\", \"\", regex=True)\n",
    "    data.Date = pd.to_datetime(data.Date)\n",
    "    data = data.sort_values(by=[\"Date\"])\n",
    "    data.set_index('Date')\n",
    "    data.Close = data.Close.astype(float)\n",
    "    data.High = data.High.astype(float)\n",
    "    data.Low = data.Low.astype(float)\n",
    "    data.Open = data.Open.astype(float)\n",
    "    data[\"Vol\"] = data[\"Vol\"].astype(float)"
   ]
  },
  {
   "cell_type": "code",
   "execution_count": 160,
   "metadata": {},
   "outputs": [],
   "source": [
    "data = data.replace(\",\", \"\", regex=True)\n",
    "data.Date = pd.to_datetime(data.Date)\n",
    "data = data.sort_values(by=[\"Date\"])\n",
    "data.set_index('Date')\n",
    "data.Close = data.Close.astype(float)\n",
    "data.High = data.High.astype(float)\n",
    "data.Low = data.Low.astype(float)\n",
    "data.Open = data.Open.astype(float)\n",
    "data[\"Vol\"] = data[\"Vol\"].astype(float)"
   ]
  },
  {
   "cell_type": "code",
   "execution_count": 161,
   "metadata": {},
   "outputs": [
    {
     "data": {
      "text/html": [
       "<div>\n",
       "<style scoped>\n",
       "    .dataframe tbody tr th:only-of-type {\n",
       "        vertical-align: middle;\n",
       "    }\n",
       "\n",
       "    .dataframe tbody tr th {\n",
       "        vertical-align: top;\n",
       "    }\n",
       "\n",
       "    .dataframe thead th {\n",
       "        text-align: right;\n",
       "    }\n",
       "</style>\n",
       "<table border=\"1\" class=\"dataframe\">\n",
       "  <thead>\n",
       "    <tr style=\"text-align: right;\">\n",
       "      <th></th>\n",
       "      <th>Date</th>\n",
       "      <th>Open</th>\n",
       "      <th>High</th>\n",
       "      <th>Low</th>\n",
       "      <th>Close</th>\n",
       "      <th>Vol</th>\n",
       "    </tr>\n",
       "  </thead>\n",
       "  <tbody>\n",
       "    <tr>\n",
       "      <th>0</th>\n",
       "      <td>2010-01-04</td>\n",
       "      <td>20.2400</td>\n",
       "      <td>20.25</td>\n",
       "      <td>20.22</td>\n",
       "      <td>20.22</td>\n",
       "      <td>63202.0</td>\n",
       "    </tr>\n",
       "    <tr>\n",
       "      <th>1</th>\n",
       "      <td>2010-01-05</td>\n",
       "      <td>20.2902</td>\n",
       "      <td>20.30</td>\n",
       "      <td>20.28</td>\n",
       "      <td>20.28</td>\n",
       "      <td>24691.0</td>\n",
       "    </tr>\n",
       "    <tr>\n",
       "      <th>2</th>\n",
       "      <td>2010-01-06</td>\n",
       "      <td>20.2800</td>\n",
       "      <td>20.29</td>\n",
       "      <td>20.27</td>\n",
       "      <td>20.29</td>\n",
       "      <td>12756.0</td>\n",
       "    </tr>\n",
       "    <tr>\n",
       "      <th>3</th>\n",
       "      <td>2010-01-07</td>\n",
       "      <td>20.0200</td>\n",
       "      <td>20.03</td>\n",
       "      <td>20.01</td>\n",
       "      <td>20.01</td>\n",
       "      <td>40267.0</td>\n",
       "    </tr>\n",
       "    <tr>\n",
       "      <th>4</th>\n",
       "      <td>2010-01-08</td>\n",
       "      <td>20.1900</td>\n",
       "      <td>20.22</td>\n",
       "      <td>20.19</td>\n",
       "      <td>20.22</td>\n",
       "      <td>20207.0</td>\n",
       "    </tr>\n",
       "  </tbody>\n",
       "</table>\n",
       "</div>"
      ],
      "text/plain": [
       "        Date     Open   High    Low  Close      Vol\n",
       "0 2010-01-04  20.2400  20.25  20.22  20.22  63202.0\n",
       "1 2010-01-05  20.2902  20.30  20.28  20.28  24691.0\n",
       "2 2010-01-06  20.2800  20.29  20.27  20.29  12756.0\n",
       "3 2010-01-07  20.0200  20.03  20.01  20.01  40267.0\n",
       "4 2010-01-08  20.1900  20.22  20.19  20.22  20207.0"
      ]
     },
     "execution_count": 161,
     "metadata": {},
     "output_type": "execute_result"
    }
   ],
   "source": [
    "data.head()"
   ]
  },
  {
   "cell_type": "code",
   "execution_count": 162,
   "metadata": {},
   "outputs": [],
   "source": [
    "data.index = data.index[::-1]"
   ]
  },
  {
   "cell_type": "code",
   "execution_count": 163,
   "metadata": {},
   "outputs": [
    {
     "data": {
      "text/html": [
       "<div>\n",
       "<style scoped>\n",
       "    .dataframe tbody tr th:only-of-type {\n",
       "        vertical-align: middle;\n",
       "    }\n",
       "\n",
       "    .dataframe tbody tr th {\n",
       "        vertical-align: top;\n",
       "    }\n",
       "\n",
       "    .dataframe thead th {\n",
       "        text-align: right;\n",
       "    }\n",
       "</style>\n",
       "<table border=\"1\" class=\"dataframe\">\n",
       "  <thead>\n",
       "    <tr style=\"text-align: right;\">\n",
       "      <th></th>\n",
       "      <th>Date</th>\n",
       "      <th>Open</th>\n",
       "      <th>High</th>\n",
       "      <th>Low</th>\n",
       "      <th>Close</th>\n",
       "      <th>Vol</th>\n",
       "    </tr>\n",
       "  </thead>\n",
       "  <tbody>\n",
       "    <tr>\n",
       "      <th>1457</th>\n",
       "      <td>2010-01-04</td>\n",
       "      <td>20.2400</td>\n",
       "      <td>20.25</td>\n",
       "      <td>20.22</td>\n",
       "      <td>20.22</td>\n",
       "      <td>63202.0</td>\n",
       "    </tr>\n",
       "    <tr>\n",
       "      <th>1456</th>\n",
       "      <td>2010-01-05</td>\n",
       "      <td>20.2902</td>\n",
       "      <td>20.30</td>\n",
       "      <td>20.28</td>\n",
       "      <td>20.28</td>\n",
       "      <td>24691.0</td>\n",
       "    </tr>\n",
       "    <tr>\n",
       "      <th>1455</th>\n",
       "      <td>2010-01-06</td>\n",
       "      <td>20.2800</td>\n",
       "      <td>20.29</td>\n",
       "      <td>20.27</td>\n",
       "      <td>20.29</td>\n",
       "      <td>12756.0</td>\n",
       "    </tr>\n",
       "    <tr>\n",
       "      <th>1454</th>\n",
       "      <td>2010-01-07</td>\n",
       "      <td>20.0200</td>\n",
       "      <td>20.03</td>\n",
       "      <td>20.01</td>\n",
       "      <td>20.01</td>\n",
       "      <td>40267.0</td>\n",
       "    </tr>\n",
       "    <tr>\n",
       "      <th>1453</th>\n",
       "      <td>2010-01-08</td>\n",
       "      <td>20.1900</td>\n",
       "      <td>20.22</td>\n",
       "      <td>20.19</td>\n",
       "      <td>20.22</td>\n",
       "      <td>20207.0</td>\n",
       "    </tr>\n",
       "  </tbody>\n",
       "</table>\n",
       "</div>"
      ],
      "text/plain": [
       "           Date     Open   High    Low  Close      Vol\n",
       "1457 2010-01-04  20.2400  20.25  20.22  20.22  63202.0\n",
       "1456 2010-01-05  20.2902  20.30  20.28  20.28  24691.0\n",
       "1455 2010-01-06  20.2800  20.29  20.27  20.29  12756.0\n",
       "1454 2010-01-07  20.0200  20.03  20.01  20.01  40267.0\n",
       "1453 2010-01-08  20.1900  20.22  20.19  20.22  20207.0"
      ]
     },
     "execution_count": 163,
     "metadata": {},
     "output_type": "execute_result"
    }
   ],
   "source": [
    "data.head()"
   ]
  },
  {
   "cell_type": "code",
   "execution_count": 164,
   "metadata": {},
   "outputs": [],
   "source": [
    "special_data = data[(data['Date'] > '2010-01-01') & (data['Date'] < '2015-01-01')]\n",
    "special_data.index = data.index[:len(special_data)]"
   ]
  },
  {
   "cell_type": "code",
   "execution_count": 165,
   "metadata": {},
   "outputs": [
    {
     "data": {
      "text/html": [
       "<div>\n",
       "<style scoped>\n",
       "    .dataframe tbody tr th:only-of-type {\n",
       "        vertical-align: middle;\n",
       "    }\n",
       "\n",
       "    .dataframe tbody tr th {\n",
       "        vertical-align: top;\n",
       "    }\n",
       "\n",
       "    .dataframe thead th {\n",
       "        text-align: right;\n",
       "    }\n",
       "</style>\n",
       "<table border=\"1\" class=\"dataframe\">\n",
       "  <thead>\n",
       "    <tr style=\"text-align: right;\">\n",
       "      <th></th>\n",
       "      <th>Date</th>\n",
       "      <th>Open</th>\n",
       "      <th>High</th>\n",
       "      <th>Low</th>\n",
       "      <th>Close</th>\n",
       "      <th>Vol</th>\n",
       "    </tr>\n",
       "  </thead>\n",
       "  <tbody>\n",
       "    <tr>\n",
       "      <th>1457</th>\n",
       "      <td>2010-01-04</td>\n",
       "      <td>20.2400</td>\n",
       "      <td>20.25</td>\n",
       "      <td>20.22</td>\n",
       "      <td>20.22</td>\n",
       "      <td>63202.0</td>\n",
       "    </tr>\n",
       "    <tr>\n",
       "      <th>1456</th>\n",
       "      <td>2010-01-05</td>\n",
       "      <td>20.2902</td>\n",
       "      <td>20.30</td>\n",
       "      <td>20.28</td>\n",
       "      <td>20.28</td>\n",
       "      <td>24691.0</td>\n",
       "    </tr>\n",
       "    <tr>\n",
       "      <th>1455</th>\n",
       "      <td>2010-01-06</td>\n",
       "      <td>20.2800</td>\n",
       "      <td>20.29</td>\n",
       "      <td>20.27</td>\n",
       "      <td>20.29</td>\n",
       "      <td>12756.0</td>\n",
       "    </tr>\n",
       "    <tr>\n",
       "      <th>1454</th>\n",
       "      <td>2010-01-07</td>\n",
       "      <td>20.0200</td>\n",
       "      <td>20.03</td>\n",
       "      <td>20.01</td>\n",
       "      <td>20.01</td>\n",
       "      <td>40267.0</td>\n",
       "    </tr>\n",
       "    <tr>\n",
       "      <th>1453</th>\n",
       "      <td>2010-01-08</td>\n",
       "      <td>20.1900</td>\n",
       "      <td>20.22</td>\n",
       "      <td>20.19</td>\n",
       "      <td>20.22</td>\n",
       "      <td>20207.0</td>\n",
       "    </tr>\n",
       "  </tbody>\n",
       "</table>\n",
       "</div>"
      ],
      "text/plain": [
       "           Date     Open   High    Low  Close      Vol\n",
       "1457 2010-01-04  20.2400  20.25  20.22  20.22  63202.0\n",
       "1456 2010-01-05  20.2902  20.30  20.28  20.28  24691.0\n",
       "1455 2010-01-06  20.2800  20.29  20.27  20.29  12756.0\n",
       "1454 2010-01-07  20.0200  20.03  20.01  20.01  40267.0\n",
       "1453 2010-01-08  20.1900  20.22  20.19  20.22  20207.0"
      ]
     },
     "execution_count": 165,
     "metadata": {},
     "output_type": "execute_result"
    }
   ],
   "source": [
    "special_data.head()"
   ]
  },
  {
   "cell_type": "code",
   "execution_count": 166,
   "metadata": {},
   "outputs": [],
   "source": [
    "#change indexes\n",
    "special_data.set_index('Date', inplace=True)"
   ]
  },
  {
   "cell_type": "code",
   "execution_count": 167,
   "metadata": {},
   "outputs": [],
   "source": [
    "special_data = special_data.drop(columns=['Open', 'High', 'Low', 'Vol'])\n",
    "special_data.rename(columns = {'Close':'Price'}, inplace = True)"
   ]
  },
  {
   "cell_type": "code",
   "execution_count": 168,
   "metadata": {},
   "outputs": [
    {
     "data": {
      "text/html": [
       "<div>\n",
       "<style scoped>\n",
       "    .dataframe tbody tr th:only-of-type {\n",
       "        vertical-align: middle;\n",
       "    }\n",
       "\n",
       "    .dataframe tbody tr th {\n",
       "        vertical-align: top;\n",
       "    }\n",
       "\n",
       "    .dataframe thead th {\n",
       "        text-align: right;\n",
       "    }\n",
       "</style>\n",
       "<table border=\"1\" class=\"dataframe\">\n",
       "  <thead>\n",
       "    <tr style=\"text-align: right;\">\n",
       "      <th></th>\n",
       "      <th>Price</th>\n",
       "    </tr>\n",
       "    <tr>\n",
       "      <th>Date</th>\n",
       "      <th></th>\n",
       "    </tr>\n",
       "  </thead>\n",
       "  <tbody>\n",
       "    <tr>\n",
       "      <th>2010-01-04</th>\n",
       "      <td>20.22</td>\n",
       "    </tr>\n",
       "    <tr>\n",
       "      <th>2010-01-05</th>\n",
       "      <td>20.28</td>\n",
       "    </tr>\n",
       "    <tr>\n",
       "      <th>2010-01-06</th>\n",
       "      <td>20.29</td>\n",
       "    </tr>\n",
       "    <tr>\n",
       "      <th>2010-01-07</th>\n",
       "      <td>20.01</td>\n",
       "    </tr>\n",
       "    <tr>\n",
       "      <th>2010-01-08</th>\n",
       "      <td>20.22</td>\n",
       "    </tr>\n",
       "  </tbody>\n",
       "</table>\n",
       "</div>"
      ],
      "text/plain": [
       "            Price\n",
       "Date             \n",
       "2010-01-04  20.22\n",
       "2010-01-05  20.28\n",
       "2010-01-06  20.29\n",
       "2010-01-07  20.01\n",
       "2010-01-08  20.22"
      ]
     },
     "execution_count": 168,
     "metadata": {},
     "output_type": "execute_result"
    }
   ],
   "source": [
    "special_data.head()"
   ]
  },
  {
   "cell_type": "code",
   "execution_count": 169,
   "metadata": {},
   "outputs": [
    {
     "data": {
      "text/plain": [
       "[<matplotlib.lines.Line2D at 0x1dfdab9b4d0>]"
      ]
     },
     "execution_count": 169,
     "metadata": {},
     "output_type": "execute_result"
    },
    {
     "data": {
      "image/png": "[encoded data removed]",
      "text/plain": [
       "<Figure size 640x480 with 1 Axes>"
      ]
     },
     "metadata": {},
     "output_type": "display_data"
    }
   ],
   "source": [
    "plt.plot(special_data)"
   ]
  },
  {
   "cell_type": "markdown",
   "metadata": {},
   "source": [
    "## Начало расчёта"
   ]
  },
  {
   "cell_type": "markdown",
   "metadata": {},
   "source": [
    "### Создаём наш объект для хранения результатов"
   ]
  },
  {
   "cell_type": "code",
   "execution_count": 170,
   "metadata": {},
   "outputs": [],
   "source": [
    "forecasts = pd.DataFrame(columns = \\\n",
    "                         ['begin_date', \n",
    "                          'end_date', \n",
    "                          'window_size', \n",
    "                          'forecast_days', \n",
    "                          'forecast_precision'])"
   ]
  },
  {
   "cell_type": "markdown",
   "metadata": {},
   "source": [
    "### Задаём все параметры симуляции и моделей"
   ]
  },
  {
   "cell_type": "code",
   "execution_count": 171,
   "metadata": {},
   "outputs": [],
   "source": [
    "# Размер окна и размер прогноза\n",
    "window_size = 200\n",
    "forecast_days = 90\n",
    "# гиперпараметры\n",
    "num_epochs = 400\n",
    "learning_rate = 0.001\n",
    "input_size = 1\n",
    "hidden_size = 64 # need to find correct value; 40 small, 64 norm, 100 a lot\n",
    "num_layers = 1\n",
    "num_classes = 1"
   ]
  },
  {
   "cell_type": "markdown",
   "metadata": {},
   "source": [
    "### Обучаем модель, прогнозируем и сохраняем результат"
   ]
  },
  {
   "cell_type": "code",
   "execution_count": 172,
   "metadata": {},
   "outputs": [
    {
     "name": "stderr",
     "output_type": "stream",
     "text": [
      "C:\\Users\\Skiv2\\AppData\\Local\\Temp\\ipykernel_21916\\3595380643.py:95: FutureWarning: The behavior of DataFrame concatenation with empty or all-NA entries is deprecated. In a future version, this will no longer exclude empty or all-NA columns when determining the result dtypes. To retain the old behavior, exclude the relevant entries before the concat operation.\n",
      "  forecasts = pd.concat([forecasts, pd.DataFrame([result])], ignore_index = True)\n"
     ]
    },
    {
     "name": "stdout",
     "output_type": "stream",
     "text": [
      "Прогресс: 100%"
     ]
    }
   ],
   "source": [
    "import sys\n",
    "\n",
    "sim_len = len(special_data) - window_size - forecast_days - val_size\n",
    "prev_percent = 0\n",
    "# начинаем симуляцию\n",
    "for i in range(0, sim_len):\n",
    "    percent = int(100 * (i + 1) / sim_len)\n",
    "\n",
    "    if percent > prev_percent:\n",
    "        prev_percent = percent\n",
    "        sys.stdout.write(f\"\\rПрогресс: {percent}%\")\n",
    "        sys.stdout.flush()\n",
    "    \n",
    "    seq_length = 10\n",
    "\n",
    "    window = special_data[i:i + window_size + forecast_days + 1 + seq_length]\n",
    "    actual_values = special_data['Price'][i + window_size:i + window_size + forecast_days]\n",
    "    # Переводим наши данные в тензора на наш расчётный девайс\n",
    "    sc = MinMaxScaler()\n",
    "    training_data = sc.fit_transform(window)\n",
    "\n",
    "    x, y = sliding_windows(training_data, seq_length)\n",
    "\n",
    "    train_size = int(0.8 * window_size)\n",
    "    val_size = forecast_days\n",
    "    test_size = int(0.2 * window_size)\n",
    "\n",
    "    dataX = Variable(torch.Tensor(np.array(x)).to(device))\n",
    "    dataY = Variable(torch.Tensor(np.array(y)).to(device))\n",
    "\n",
    "    trainX = Variable(torch.Tensor(np.array(x[0:train_size])).to(device))\n",
    "    trainY = Variable(torch.Tensor(np.array(y[0:train_size])).to(device))\n",
    "\n",
    "    testX = Variable(torch.Tensor(np.array(x[train_size:train_size + test_size])).to(device))\n",
    "    testY = Variable(torch.Tensor(np.array(y[train_size:train_size + test_size])).to(device))\n",
    "\n",
    "    valX = Variable(torch.Tensor(np.array(x[train_size + test_size:train_size + test_size + val_size])).to(device))\n",
    "    valY = Variable(torch.Tensor(np.array(y[train_size + test_size:train_size + test_size + val_size])).to(device))  \n",
    "    \n",
    "    #  Создаём классы для наших датасетов\n",
    "    train_dataset = TimeSeriesDataset(trainX, trainY)\n",
    "    test_dataset = TimeSeriesDataset(testX, testY)\n",
    "    val_dataset = TimeSeriesDataset(valX, valY)\n",
    "\n",
    "    train_loader = DataLoader(train_dataset, batch_size = 10, shuffle = False)\n",
    "    test_loader = DataLoader(test_dataset, batch_size = 10, shuffle = False)\n",
    "    val_loader = DataLoader(val_dataset, batch_size = 10, shuffle = False)\n",
    "\n",
    "    # Создаём модель \n",
    "\n",
    "    model = LSTM(num_classes, input_size, hidden_size, num_layers).to(device)\n",
    "\n",
    "    # Define loss and optimizer\n",
    "    criterion = torch.nn.MSELoss()    # mean-squared error for regression\n",
    "    optimizer = torch.optim.Adam(model.parameters(), lr = learning_rate)\n",
    "    #optimizer = torch.optim.SGD(lstm.parameters(), lr = learning_rate)\n",
    "\n",
    "    train_loss = []\n",
    "    valid_loss = []\n",
    "    for epoch in range(num_epochs):\n",
    "        # set the model to train mode\n",
    "        model.train()\n",
    "\n",
    "        # forward pass\n",
    "        output = model(trainX)\n",
    "        loss = criterion(output, trainY)\n",
    "\n",
    "        # backward pass and optimize\n",
    "        optimizer.zero_grad()\n",
    "        loss.backward()\n",
    "        optimizer.step()\n",
    "\n",
    "        # calculate training loss\n",
    "        train_loss.append(loss.item())\n",
    "\n",
    "        # set the model to evaluation mode\n",
    "        model.eval()\n",
    "\n",
    "        # calculate validation loss\n",
    "        with torch.no_grad():\n",
    "            output = model(testX)\n",
    "            loss = criterion(output, testY)\n",
    "            valid_loss.append(loss.item())\n",
    "\n",
    "    predY_val = model(valX)\n",
    "    predY_val_inv = sc.inverse_transform(predY_val.cpu().detach().numpy()).ravel()\n",
    "    percentage_error = ((predY_val_inv - actual_values) / actual_values) * 100\n",
    "    result = {\n",
    "                'begin_date': window.index[0],\n",
    "                'end_date': window.index[-(forecast_days + val_size + 1)],\n",
    "                'window_size': window_size,\n",
    "                'forecast_days': forecast_days,\n",
    "                'forecast_precision': np.mean(np.abs(percentage_error))\n",
    "            }\n",
    "    forecasts = pd.concat([forecasts, pd.DataFrame([result])], ignore_index = True)"
   ]
  },
  {
   "cell_type": "code",
   "execution_count": 173,
   "metadata": {},
   "outputs": [],
   "source": [
    "# Преобразуйте столбец 'forecast_precision' к типу данных float\n",
    "forecasts['forecast_precision'] = pd.to_numeric(forecasts['forecast_precision'], errors='coerce')\n",
    "\n",
    "# Получите 10 строк с наименьшими значениями в столбце 'forecast_precision'\n",
    "top_10_rows = forecasts.nsmallest(10, 'forecast_precision', 'all')"
   ]
  },
  {
   "cell_type": "code",
   "execution_count": 174,
   "metadata": {},
   "outputs": [
    {
     "data": {
      "text/html": [
       "<div>\n",
       "<style scoped>\n",
       "    .dataframe tbody tr th:only-of-type {\n",
       "        vertical-align: middle;\n",
       "    }\n",
       "\n",
       "    .dataframe tbody tr th {\n",
       "        vertical-align: top;\n",
       "    }\n",
       "\n",
       "    .dataframe thead th {\n",
       "        text-align: right;\n",
       "    }\n",
       "</style>\n",
       "<table border=\"1\" class=\"dataframe\">\n",
       "  <thead>\n",
       "    <tr style=\"text-align: right;\">\n",
       "      <th></th>\n",
       "      <th>begin_date</th>\n",
       "      <th>end_date</th>\n",
       "      <th>window_size</th>\n",
       "      <th>forecast_days</th>\n",
       "      <th>forecast_precision</th>\n",
       "    </tr>\n",
       "  </thead>\n",
       "  <tbody>\n",
       "    <tr>\n",
       "      <th>733</th>\n",
       "      <td>2012-01-07</td>\n",
       "      <td>2012-05-06</td>\n",
       "      <td>200</td>\n",
       "      <td>90</td>\n",
       "      <td>1.477070</td>\n",
       "    </tr>\n",
       "    <tr>\n",
       "      <th>1015</th>\n",
       "      <td>2012-10-15</td>\n",
       "      <td>2013-02-12</td>\n",
       "      <td>200</td>\n",
       "      <td>90</td>\n",
       "      <td>1.478161</td>\n",
       "    </tr>\n",
       "    <tr>\n",
       "      <th>726</th>\n",
       "      <td>2011-12-31</td>\n",
       "      <td>2012-04-29</td>\n",
       "      <td>200</td>\n",
       "      <td>90</td>\n",
       "      <td>1.536255</td>\n",
       "    </tr>\n",
       "    <tr>\n",
       "      <th>724</th>\n",
       "      <td>2011-12-29</td>\n",
       "      <td>2012-04-27</td>\n",
       "      <td>200</td>\n",
       "      <td>90</td>\n",
       "      <td>1.547412</td>\n",
       "    </tr>\n",
       "    <tr>\n",
       "      <th>1016</th>\n",
       "      <td>2012-10-16</td>\n",
       "      <td>2013-02-13</td>\n",
       "      <td>200</td>\n",
       "      <td>90</td>\n",
       "      <td>1.563508</td>\n",
       "    </tr>\n",
       "    <tr>\n",
       "      <th>1017</th>\n",
       "      <td>2012-10-17</td>\n",
       "      <td>2013-02-14</td>\n",
       "      <td>200</td>\n",
       "      <td>90</td>\n",
       "      <td>1.567781</td>\n",
       "    </tr>\n",
       "    <tr>\n",
       "      <th>1014</th>\n",
       "      <td>2012-10-14</td>\n",
       "      <td>2013-02-11</td>\n",
       "      <td>200</td>\n",
       "      <td>90</td>\n",
       "      <td>1.572311</td>\n",
       "    </tr>\n",
       "    <tr>\n",
       "      <th>719</th>\n",
       "      <td>2011-12-24</td>\n",
       "      <td>2012-04-22</td>\n",
       "      <td>200</td>\n",
       "      <td>90</td>\n",
       "      <td>1.581964</td>\n",
       "    </tr>\n",
       "    <tr>\n",
       "      <th>743</th>\n",
       "      <td>2012-01-17</td>\n",
       "      <td>2012-05-16</td>\n",
       "      <td>200</td>\n",
       "      <td>90</td>\n",
       "      <td>1.583582</td>\n",
       "    </tr>\n",
       "    <tr>\n",
       "      <th>742</th>\n",
       "      <td>2012-01-16</td>\n",
       "      <td>2012-05-15</td>\n",
       "      <td>200</td>\n",
       "      <td>90</td>\n",
       "      <td>1.588067</td>\n",
       "    </tr>\n",
       "  </tbody>\n",
       "</table>\n",
       "</div>"
      ],
      "text/plain": [
       "     begin_date   end_date window_size forecast_days  forecast_precision\n",
       "733  2012-01-07 2012-05-06         200            90            1.477070\n",
       "1015 2012-10-15 2013-02-12         200            90            1.478161\n",
       "726  2011-12-31 2012-04-29         200            90            1.536255\n",
       "724  2011-12-29 2012-04-27         200            90            1.547412\n",
       "1016 2012-10-16 2013-02-13         200            90            1.563508\n",
       "1017 2012-10-17 2013-02-14         200            90            1.567781\n",
       "1014 2012-10-14 2013-02-11         200            90            1.572311\n",
       "719  2011-12-24 2012-04-22         200            90            1.581964\n",
       "743  2012-01-17 2012-05-16         200            90            1.583582\n",
       "742  2012-01-16 2012-05-15         200            90            1.588067"
      ]
     },
     "execution_count": 174,
     "metadata": {},
     "output_type": "execute_result"
    }
   ],
   "source": [
    "top_10_rows"
   ]
  },
  {
   "cell_type": "code",
   "execution_count": 175,
   "metadata": {},
   "outputs": [
    {
     "name": "stdout",
     "output_type": "stream",
     "text": [
      "     begin_date   end_date window_size forecast_days  forecast_precision\n",
      "733  2012-01-07 2012-05-06         200            90            1.477070\n",
      "1015 2012-10-15 2013-02-12         200            90            1.478161\n",
      "726  2011-12-31 2012-04-29         200            90            1.536255\n",
      "724  2011-12-29 2012-04-27         200            90            1.547412\n",
      "1016 2012-10-16 2013-02-13         200            90            1.563508\n",
      "1017 2012-10-17 2013-02-14         200            90            1.567781\n",
      "1014 2012-10-14 2013-02-11         200            90            1.572311\n",
      "719  2011-12-24 2012-04-22         200            90            1.581964\n",
      "743  2012-01-17 2012-05-16         200            90            1.583582\n",
      "742  2012-01-16 2012-05-15         200            90            1.588067\n"
     ]
    }
   ],
   "source": [
    "# Сортировка по forecast_precision и получение первых 10 строк\n",
    "sorted_result = forecasts.sort_values(by='forecast_precision').head(10)\n",
    "\n",
    "# Вывод результата\n",
    "print(sorted_result)"
   ]
  },
  {
   "cell_type": "code",
   "execution_count": 176,
   "metadata": {},
   "outputs": [],
   "source": [
    "result_df = forecasts.groupby(['forecast_days'])['forecast_precision'].mean().reset_index()"
   ]
  },
  {
   "cell_type": "code",
   "execution_count": 177,
   "metadata": {},
   "outputs": [
    {
     "name": "stdout",
     "output_type": "stream",
     "text": [
      "   forecast_days  forecast_precision\n",
      "0             90            3.439067\n"
     ]
    }
   ],
   "source": [
    "print(result_df)"
   ]
  },
  {
   "cell_type": "code",
   "execution_count": 178,
   "metadata": {},
   "outputs": [],
   "source": [
    "forecasts.to_csv('lstm_nasdaq.csv')"
   ]
  },
  {
   "cell_type": "code",
   "execution_count": null,
   "metadata": {},
   "outputs": [],
   "source": []
  }
 ],
 "metadata": {
  "kernelspec": {
   "display_name": "Python 3",
   "language": "python",
   "name": "python3"
  },
  "language_info": {
   "codemirror_mode": {
    "name": "ipython",
    "version": 3
   },
   "file_extension": ".py",
   "mimetype": "text/x-python",
   "name": "python",
   "nbconvert_exporter": "python",
   "pygments_lexer": "ipython3",
   "version": "3.11.9"
  },
  "orig_nbformat": 4,
  "vscode": {
   "interpreter": {
    "hash": "f5ff168696553f3e2cb115c273c46eeb315c32b0d0536992c4bad2740a7f9469"
   }
  }
 },
 "nbformat": 4,
 "nbformat_minor": 2
}
