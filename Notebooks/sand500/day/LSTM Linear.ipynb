{
 "cells": [
  {
   "cell_type": "code",
   "execution_count": 1,
   "metadata": {},
   "outputs": [],
   "source": [
    "%matplotlib inline\n",
    "\n",
    "import glob\n",
    "from platform import python_version\n",
    "import pandas as pd\n",
    "import matplotlib\n",
    "import numpy as np\n",
    "import sklearn\n",
    "import torch\n",
    "import matplotlib.pyplot as plt"
   ]
  },
  {
   "cell_type": "code",
   "execution_count": 2,
   "metadata": {},
   "outputs": [
    {
     "name": "stdout",
     "output_type": "stream",
     "text": [
      "python version==3.11.7\n",
      "pandas==2.1.2\n",
      "numpy==1.26.1\n",
      "sklearn==1.3.2\n",
      "torch==2.1.1+cu121\n",
      "matplotlib==3.8.1\n"
     ]
    }
   ],
   "source": [
    "print(\"python version==%s\" % python_version())\n",
    "print(\"pandas==%s\" % pd.__version__)\n",
    "print(\"numpy==%s\" % np.__version__)\n",
    "print(\"sklearn==%s\" % sklearn.__version__)\n",
    "print(\"torch==%s\" % torch.__version__)\n",
    "print(\"matplotlib==%s\" % matplotlib.__version__)"
   ]
  },
  {
   "cell_type": "code",
   "execution_count": 3,
   "metadata": {},
   "outputs": [
    {
     "name": "stdout",
     "output_type": "stream",
     "text": [
      "Using device: cuda\n"
     ]
    }
   ],
   "source": [
    "device = torch.device('cuda' if torch.cuda.is_available() else 'cpu')\n",
    "print('Using device:', device)"
   ]
  },
  {
   "cell_type": "code",
   "execution_count": 4,
   "metadata": {},
   "outputs": [],
   "source": [
    "#load data\n",
    "data = pd.read_csv(\"..\\..\\..\\Data\\Day\\S&P 500 Historical Data00-20Linear.csv\")"
   ]
  },
  {
   "cell_type": "code",
   "execution_count": 5,
   "metadata": {},
   "outputs": [],
   "source": [
    "#transform data\n",
    "data = data.replace(\",\", \"\", regex=True)\n",
    "data.Date = pd.to_datetime(data.Date)\n",
    "data = data.sort_values(by=[\"Date\"])\n",
    "data.set_index('Date')\n",
    "data.Price = data.Price.astype(float)\n",
    "data.High = data.High.astype(float)\n",
    "data.Low = data.Low.astype(float)\n",
    "data.Open = data.Open.astype(float)\n",
    "data[\"Vol.\"] = data[\"Vol.\"].astype(float)"
   ]
  },
  {
   "cell_type": "code",
   "execution_count": 6,
   "metadata": {},
   "outputs": [
    {
     "data": {
      "text/html": [
       "<div>\n",
       "<style scoped>\n",
       "    .dataframe tbody tr th:only-of-type {\n",
       "        vertical-align: middle;\n",
       "    }\n",
       "\n",
       "    .dataframe tbody tr th {\n",
       "        vertical-align: top;\n",
       "    }\n",
       "\n",
       "    .dataframe thead th {\n",
       "        text-align: right;\n",
       "    }\n",
       "</style>\n",
       "<table border=\"1\" class=\"dataframe\">\n",
       "  <thead>\n",
       "    <tr style=\"text-align: right;\">\n",
       "      <th></th>\n",
       "      <th>Date</th>\n",
       "      <th>Price</th>\n",
       "      <th>Open</th>\n",
       "      <th>High</th>\n",
       "      <th>Low</th>\n",
       "      <th>Vol.</th>\n",
       "      <th>Change %</th>\n",
       "    </tr>\n",
       "  </thead>\n",
       "  <tbody>\n",
       "    <tr>\n",
       "      <th>0</th>\n",
       "      <td>2000-01-03</td>\n",
       "      <td>1455.2</td>\n",
       "      <td>1469.2</td>\n",
       "      <td>1478.0</td>\n",
       "      <td>1438.4</td>\n",
       "      <td>NaN</td>\n",
       "      <td>-0.95%</td>\n",
       "    </tr>\n",
       "    <tr>\n",
       "      <th>1</th>\n",
       "      <td>2000-01-04</td>\n",
       "      <td>1399.4</td>\n",
       "      <td>1455.2</td>\n",
       "      <td>1455.2</td>\n",
       "      <td>1397.4</td>\n",
       "      <td>NaN</td>\n",
       "      <td>-3.83%</td>\n",
       "    </tr>\n",
       "    <tr>\n",
       "      <th>2</th>\n",
       "      <td>2000-01-05</td>\n",
       "      <td>1402.1</td>\n",
       "      <td>1399.4</td>\n",
       "      <td>1413.3</td>\n",
       "      <td>1377.7</td>\n",
       "      <td>NaN</td>\n",
       "      <td>0.19%</td>\n",
       "    </tr>\n",
       "    <tr>\n",
       "      <th>3</th>\n",
       "      <td>2000-01-06</td>\n",
       "      <td>1403.5</td>\n",
       "      <td>1402.1</td>\n",
       "      <td>1411.9</td>\n",
       "      <td>1392.0</td>\n",
       "      <td>NaN</td>\n",
       "      <td>0.10%</td>\n",
       "    </tr>\n",
       "    <tr>\n",
       "      <th>4</th>\n",
       "      <td>2000-01-07</td>\n",
       "      <td>1441.5</td>\n",
       "      <td>1403.5</td>\n",
       "      <td>1441.5</td>\n",
       "      <td>1400.5</td>\n",
       "      <td>NaN</td>\n",
       "      <td>2.71%</td>\n",
       "    </tr>\n",
       "  </tbody>\n",
       "</table>\n",
       "</div>"
      ],
      "text/plain": [
       "        Date   Price    Open    High     Low  Vol. Change %\n",
       "0 2000-01-03  1455.2  1469.2  1478.0  1438.4   NaN   -0.95%\n",
       "1 2000-01-04  1399.4  1455.2  1455.2  1397.4   NaN   -3.83%\n",
       "2 2000-01-05  1402.1  1399.4  1413.3  1377.7   NaN    0.19%\n",
       "3 2000-01-06  1403.5  1402.1  1411.9  1392.0   NaN    0.10%\n",
       "4 2000-01-07  1441.5  1403.5  1441.5  1400.5   NaN    2.71%"
      ]
     },
     "execution_count": 6,
     "metadata": {},
     "output_type": "execute_result"
    }
   ],
   "source": [
    "data.head()"
   ]
  },
  {
   "cell_type": "code",
   "execution_count": 7,
   "metadata": {},
   "outputs": [],
   "source": [
    "data.index = data.index[::-1]"
   ]
  },
  {
   "cell_type": "code",
   "execution_count": 8,
   "metadata": {},
   "outputs": [
    {
     "data": {
      "text/html": [
       "<div>\n",
       "<style scoped>\n",
       "    .dataframe tbody tr th:only-of-type {\n",
       "        vertical-align: middle;\n",
       "    }\n",
       "\n",
       "    .dataframe tbody tr th {\n",
       "        vertical-align: top;\n",
       "    }\n",
       "\n",
       "    .dataframe thead th {\n",
       "        text-align: right;\n",
       "    }\n",
       "</style>\n",
       "<table border=\"1\" class=\"dataframe\">\n",
       "  <thead>\n",
       "    <tr style=\"text-align: right;\">\n",
       "      <th></th>\n",
       "      <th>Date</th>\n",
       "      <th>Price</th>\n",
       "      <th>Open</th>\n",
       "      <th>High</th>\n",
       "      <th>Low</th>\n",
       "      <th>Vol.</th>\n",
       "      <th>Change %</th>\n",
       "    </tr>\n",
       "  </thead>\n",
       "  <tbody>\n",
       "    <tr>\n",
       "      <th>7255</th>\n",
       "      <td>2000-01-03</td>\n",
       "      <td>1455.2</td>\n",
       "      <td>1469.2</td>\n",
       "      <td>1478.0</td>\n",
       "      <td>1438.4</td>\n",
       "      <td>NaN</td>\n",
       "      <td>-0.95%</td>\n",
       "    </tr>\n",
       "    <tr>\n",
       "      <th>7254</th>\n",
       "      <td>2000-01-04</td>\n",
       "      <td>1399.4</td>\n",
       "      <td>1455.2</td>\n",
       "      <td>1455.2</td>\n",
       "      <td>1397.4</td>\n",
       "      <td>NaN</td>\n",
       "      <td>-3.83%</td>\n",
       "    </tr>\n",
       "    <tr>\n",
       "      <th>7253</th>\n",
       "      <td>2000-01-05</td>\n",
       "      <td>1402.1</td>\n",
       "      <td>1399.4</td>\n",
       "      <td>1413.3</td>\n",
       "      <td>1377.7</td>\n",
       "      <td>NaN</td>\n",
       "      <td>0.19%</td>\n",
       "    </tr>\n",
       "    <tr>\n",
       "      <th>7252</th>\n",
       "      <td>2000-01-06</td>\n",
       "      <td>1403.5</td>\n",
       "      <td>1402.1</td>\n",
       "      <td>1411.9</td>\n",
       "      <td>1392.0</td>\n",
       "      <td>NaN</td>\n",
       "      <td>0.10%</td>\n",
       "    </tr>\n",
       "    <tr>\n",
       "      <th>7251</th>\n",
       "      <td>2000-01-07</td>\n",
       "      <td>1441.5</td>\n",
       "      <td>1403.5</td>\n",
       "      <td>1441.5</td>\n",
       "      <td>1400.5</td>\n",
       "      <td>NaN</td>\n",
       "      <td>2.71%</td>\n",
       "    </tr>\n",
       "  </tbody>\n",
       "</table>\n",
       "</div>"
      ],
      "text/plain": [
       "           Date   Price    Open    High     Low  Vol. Change %\n",
       "7255 2000-01-03  1455.2  1469.2  1478.0  1438.4   NaN   -0.95%\n",
       "7254 2000-01-04  1399.4  1455.2  1455.2  1397.4   NaN   -3.83%\n",
       "7253 2000-01-05  1402.1  1399.4  1413.3  1377.7   NaN    0.19%\n",
       "7252 2000-01-06  1403.5  1402.1  1411.9  1392.0   NaN    0.10%\n",
       "7251 2000-01-07  1441.5  1403.5  1441.5  1400.5   NaN    2.71%"
      ]
     },
     "execution_count": 8,
     "metadata": {},
     "output_type": "execute_result"
    }
   ],
   "source": [
    "data.head()"
   ]
  },
  {
   "cell_type": "code",
   "execution_count": 9,
   "metadata": {},
   "outputs": [],
   "source": [
    "special_data = data[(data['Date'] > '2010-01-01') & (data['Date'] < '2014-01-01')]\n",
    "special_data.index = data.index[:len(special_data)]"
   ]
  },
  {
   "cell_type": "code",
   "execution_count": 10,
   "metadata": {},
   "outputs": [
    {
     "data": {
      "text/html": [
       "<div>\n",
       "<style scoped>\n",
       "    .dataframe tbody tr th:only-of-type {\n",
       "        vertical-align: middle;\n",
       "    }\n",
       "\n",
       "    .dataframe tbody tr th {\n",
       "        vertical-align: top;\n",
       "    }\n",
       "\n",
       "    .dataframe thead th {\n",
       "        text-align: right;\n",
       "    }\n",
       "</style>\n",
       "<table border=\"1\" class=\"dataframe\">\n",
       "  <thead>\n",
       "    <tr style=\"text-align: right;\">\n",
       "      <th></th>\n",
       "      <th>Date</th>\n",
       "      <th>Price</th>\n",
       "      <th>Open</th>\n",
       "      <th>High</th>\n",
       "      <th>Low</th>\n",
       "      <th>Vol.</th>\n",
       "      <th>Change %</th>\n",
       "    </tr>\n",
       "  </thead>\n",
       "  <tbody>\n",
       "    <tr>\n",
       "      <th>7255</th>\n",
       "      <td>2010-01-02</td>\n",
       "      <td>1124.045000</td>\n",
       "      <td>1121.580000</td>\n",
       "      <td>1130.7550</td>\n",
       "      <td>1115.685000</td>\n",
       "      <td>NaN</td>\n",
       "      <td>NaN</td>\n",
       "    </tr>\n",
       "    <tr>\n",
       "      <th>7254</th>\n",
       "      <td>2010-01-03</td>\n",
       "      <td>1128.517500</td>\n",
       "      <td>1119.070000</td>\n",
       "      <td>1132.3125</td>\n",
       "      <td>1116.122500</td>\n",
       "      <td>NaN</td>\n",
       "      <td>NaN</td>\n",
       "    </tr>\n",
       "    <tr>\n",
       "      <th>7253</th>\n",
       "      <td>2010-01-04</td>\n",
       "      <td>1132.990000</td>\n",
       "      <td>1116.560000</td>\n",
       "      <td>1133.8700</td>\n",
       "      <td>1116.560000</td>\n",
       "      <td>NaN</td>\n",
       "      <td>1.60%</td>\n",
       "    </tr>\n",
       "    <tr>\n",
       "      <th>7252</th>\n",
       "      <td>2010-01-05</td>\n",
       "      <td>1136.520000</td>\n",
       "      <td>1132.660000</td>\n",
       "      <td>1136.6300</td>\n",
       "      <td>1129.660000</td>\n",
       "      <td>NaN</td>\n",
       "      <td>0.31%</td>\n",
       "    </tr>\n",
       "    <tr>\n",
       "      <th>7251</th>\n",
       "      <td>2010-01-06</td>\n",
       "      <td>1137.140000</td>\n",
       "      <td>1135.710000</td>\n",
       "      <td>1139.1900</td>\n",
       "      <td>1133.950000</td>\n",
       "      <td>NaN</td>\n",
       "      <td>0.05%</td>\n",
       "    </tr>\n",
       "    <tr>\n",
       "      <th>7250</th>\n",
       "      <td>2010-01-07</td>\n",
       "      <td>1141.690000</td>\n",
       "      <td>1136.270000</td>\n",
       "      <td>1142.4600</td>\n",
       "      <td>1131.320000</td>\n",
       "      <td>NaN</td>\n",
       "      <td>0.40%</td>\n",
       "    </tr>\n",
       "    <tr>\n",
       "      <th>7249</th>\n",
       "      <td>2010-01-08</td>\n",
       "      <td>1144.980000</td>\n",
       "      <td>1140.520000</td>\n",
       "      <td>1145.3900</td>\n",
       "      <td>1136.220000</td>\n",
       "      <td>NaN</td>\n",
       "      <td>0.29%</td>\n",
       "    </tr>\n",
       "    <tr>\n",
       "      <th>7248</th>\n",
       "      <td>2010-01-09</td>\n",
       "      <td>1145.646667</td>\n",
       "      <td>1142.333333</td>\n",
       "      <td>1146.8400</td>\n",
       "      <td>1138.153333</td>\n",
       "      <td>NaN</td>\n",
       "      <td>NaN</td>\n",
       "    </tr>\n",
       "    <tr>\n",
       "      <th>7247</th>\n",
       "      <td>2010-01-10</td>\n",
       "      <td>1146.313333</td>\n",
       "      <td>1144.146667</td>\n",
       "      <td>1148.2900</td>\n",
       "      <td>1140.086667</td>\n",
       "      <td>NaN</td>\n",
       "      <td>NaN</td>\n",
       "    </tr>\n",
       "    <tr>\n",
       "      <th>7246</th>\n",
       "      <td>2010-01-11</td>\n",
       "      <td>1146.980000</td>\n",
       "      <td>1145.960000</td>\n",
       "      <td>1149.7400</td>\n",
       "      <td>1142.020000</td>\n",
       "      <td>NaN</td>\n",
       "      <td>0.17%</td>\n",
       "    </tr>\n",
       "  </tbody>\n",
       "</table>\n",
       "</div>"
      ],
      "text/plain": [
       "           Date        Price         Open       High          Low  Vol.  \\\n",
       "7255 2010-01-02  1124.045000  1121.580000  1130.7550  1115.685000   NaN   \n",
       "7254 2010-01-03  1128.517500  1119.070000  1132.3125  1116.122500   NaN   \n",
       "7253 2010-01-04  1132.990000  1116.560000  1133.8700  1116.560000   NaN   \n",
       "7252 2010-01-05  1136.520000  1132.660000  1136.6300  1129.660000   NaN   \n",
       "7251 2010-01-06  1137.140000  1135.710000  1139.1900  1133.950000   NaN   \n",
       "7250 2010-01-07  1141.690000  1136.270000  1142.4600  1131.320000   NaN   \n",
       "7249 2010-01-08  1144.980000  1140.520000  1145.3900  1136.220000   NaN   \n",
       "7248 2010-01-09  1145.646667  1142.333333  1146.8400  1138.153333   NaN   \n",
       "7247 2010-01-10  1146.313333  1144.146667  1148.2900  1140.086667   NaN   \n",
       "7246 2010-01-11  1146.980000  1145.960000  1149.7400  1142.020000   NaN   \n",
       "\n",
       "     Change %  \n",
       "7255      NaN  \n",
       "7254      NaN  \n",
       "7253    1.60%  \n",
       "7252    0.31%  \n",
       "7251    0.05%  \n",
       "7250    0.40%  \n",
       "7249    0.29%  \n",
       "7248      NaN  \n",
       "7247      NaN  \n",
       "7246    0.17%  "
      ]
     },
     "execution_count": 10,
     "metadata": {},
     "output_type": "execute_result"
    }
   ],
   "source": [
    "special_data.head(10)"
   ]
  },
  {
   "cell_type": "code",
   "execution_count": 11,
   "metadata": {},
   "outputs": [],
   "source": [
    "#change indexes\n",
    "special_data.set_index('Date', inplace=True)"
   ]
  },
  {
   "cell_type": "code",
   "execution_count": 12,
   "metadata": {},
   "outputs": [],
   "source": [
    "special_data = special_data.drop(columns=['Open', 'High', 'Low', 'Vol.', 'Change %'])"
   ]
  },
  {
   "cell_type": "code",
   "execution_count": 13,
   "metadata": {},
   "outputs": [
    {
     "data": {
      "text/html": [
       "<div>\n",
       "<style scoped>\n",
       "    .dataframe tbody tr th:only-of-type {\n",
       "        vertical-align: middle;\n",
       "    }\n",
       "\n",
       "    .dataframe tbody tr th {\n",
       "        vertical-align: top;\n",
       "    }\n",
       "\n",
       "    .dataframe thead th {\n",
       "        text-align: right;\n",
       "    }\n",
       "</style>\n",
       "<table border=\"1\" class=\"dataframe\">\n",
       "  <thead>\n",
       "    <tr style=\"text-align: right;\">\n",
       "      <th></th>\n",
       "      <th>Price</th>\n",
       "    </tr>\n",
       "    <tr>\n",
       "      <th>Date</th>\n",
       "      <th></th>\n",
       "    </tr>\n",
       "  </thead>\n",
       "  <tbody>\n",
       "    <tr>\n",
       "      <th>2010-01-02</th>\n",
       "      <td>1124.0450</td>\n",
       "    </tr>\n",
       "    <tr>\n",
       "      <th>2010-01-03</th>\n",
       "      <td>1128.5175</td>\n",
       "    </tr>\n",
       "    <tr>\n",
       "      <th>2010-01-04</th>\n",
       "      <td>1132.9900</td>\n",
       "    </tr>\n",
       "    <tr>\n",
       "      <th>2010-01-05</th>\n",
       "      <td>1136.5200</td>\n",
       "    </tr>\n",
       "    <tr>\n",
       "      <th>2010-01-06</th>\n",
       "      <td>1137.1400</td>\n",
       "    </tr>\n",
       "  </tbody>\n",
       "</table>\n",
       "</div>"
      ],
      "text/plain": [
       "                Price\n",
       "Date                 \n",
       "2010-01-02  1124.0450\n",
       "2010-01-03  1128.5175\n",
       "2010-01-04  1132.9900\n",
       "2010-01-05  1136.5200\n",
       "2010-01-06  1137.1400"
      ]
     },
     "execution_count": 13,
     "metadata": {},
     "output_type": "execute_result"
    }
   ],
   "source": [
    "special_data.head()"
   ]
  },
  {
   "cell_type": "code",
   "execution_count": 14,
   "metadata": {},
   "outputs": [
    {
     "data": {
      "text/plain": [
       "[<matplotlib.lines.Line2D at 0x180d47b61d0>]"
      ]
     },
     "execution_count": 14,
     "metadata": {},
     "output_type": "execute_result"
    },
    {
     "data": {
      "image/png": "[encoded data removed]",
      "text/plain": [
       "<Figure size 640x480 with 1 Axes>"
      ]
     },
     "metadata": {},
     "output_type": "display_data"
    }
   ],
   "source": [
    "plt.plot(special_data)"
   ]
  },
  {
   "cell_type": "code",
   "execution_count": 15,
   "metadata": {},
   "outputs": [],
   "source": [
    "from torch.autograd import Variable\n",
    "from sklearn.preprocessing import MinMaxScaler\n",
    "\n",
    "def sliding_windows(data, seq_length):\n",
    "    x = []\n",
    "    y = []\n",
    "\n",
    "    for i in range(len(data)-seq_length-1):\n",
    "        _x = data[i:(i+seq_length)]\n",
    "        _y = data[i+seq_length]\n",
    "        x.append(_x)\n",
    "        y.append(_y)\n",
    "\n",
    "    return np.array(x),np.array(y)\n",
    "\n",
    "sc = MinMaxScaler()\n",
    "training_data = sc.fit_transform(special_data)\n",
    "\n",
    "seq_length = 100\n",
    "x, y = sliding_windows(training_data, seq_length)\n",
    "\n",
    "train_size = int(len(y) * 0.7)\n",
    "val_size = int(len(training_data) * 0.1)\n",
    "test_size = len(y) - train_size - val_size\n",
    "\n",
    "dataX = Variable(torch.Tensor(np.array(x)).to(device))\n",
    "dataY = Variable(torch.Tensor(np.array(y)).to(device))\n",
    "\n",
    "trainX = Variable(torch.Tensor(np.array(x[0:train_size])).to(device))\n",
    "trainY = Variable(torch.Tensor(np.array(y[0:train_size])).to(device))\n",
    "\n",
    "testX = Variable(torch.Tensor(np.array(x[train_size:(len(x) - val_size)])).to(device))\n",
    "testY = Variable(torch.Tensor(np.array(y[train_size:(len(y) - val_size)])).to(device))\n",
    "\n",
    "valX = Variable(torch.Tensor(np.array(x[(len(x) - val_size):len(x)])).to(device))\n",
    "valY = Variable(torch.Tensor(np.array(y[(len(x) - val_size):len(y)])).to(device))"
   ]
  },
  {
   "cell_type": "code",
   "execution_count": 16,
   "metadata": {},
   "outputs": [],
   "source": [
    "import torch\n",
    "import torch.nn as nn\n",
    "from torch.utils.data import Dataset, DataLoader\n",
    "\n",
    "class TimeSeriesDataset(Dataset):\n",
    "    def __init__(self, x, y):\n",
    "        self.x = x\n",
    "        self.y = y\n",
    "\n",
    "    def __len__(self):\n",
    "        return len(self.x)\n",
    "\n",
    "    def __getitem__(self, idx):\n",
    "        return self.x[idx], self.y[idx]\n",
    "\n",
    "train_dataset = TimeSeriesDataset(trainX, trainY)\n",
    "test_dataset = TimeSeriesDataset(testX, testY)\n",
    "val_dataset = TimeSeriesDataset(valX, valY)\n",
    "\n",
    "train_loader = DataLoader(train_dataset, batch_size = 64, shuffle = False)\n",
    "test_loader = DataLoader(test_dataset, batch_size = 64, shuffle = False)\n",
    "val_loader = DataLoader(val_dataset, batch_size = 64, shuffle = False)"
   ]
  },
  {
   "cell_type": "code",
   "execution_count": 17,
   "metadata": {},
   "outputs": [],
   "source": [
    "import torch.nn as nn\n",
    "\n",
    "class LSTM(nn.Module):\n",
    "\n",
    "    def __init__(self, num_classes, input_size, hidden_size, num_layers):\n",
    "        super(LSTM, self).__init__()\n",
    "        \n",
    "        self.num_classes = num_classes\n",
    "        self.num_layers = num_layers\n",
    "        self.input_size = input_size\n",
    "        self.hidden_size = hidden_size\n",
    "        self.seq_length = seq_length\n",
    "        \n",
    "        self.lstm = nn.LSTM(input_size = input_size, hidden_size = hidden_size,\n",
    "                            num_layers = num_layers, batch_first=True)\n",
    "        \n",
    "        self.fc = nn.Linear(hidden_size, num_classes)\n",
    "\n",
    "    def forward(self, x):\n",
    "        h_0 = Variable(torch.zeros(\n",
    "            self.num_layers, x.size(0), self.hidden_size).to(device))\n",
    "        \n",
    "        c_0 = Variable(torch.zeros(\n",
    "            self.num_layers, x.size(0), self.hidden_size).to(device))\n",
    "        \n",
    "        # Propagate input through LSTM\n",
    "        ula, (h_out, _) = self.lstm(x, (h_0, c_0))\n",
    "        \n",
    "        h_out = h_out.view(-1, self.hidden_size)\n",
    "        \n",
    "        out = self.fc(h_out)\n",
    "        \n",
    "        return out"
   ]
  },
  {
   "cell_type": "code",
   "execution_count": 18,
   "metadata": {},
   "outputs": [
    {
     "name": "stdout",
     "output_type": "stream",
     "text": [
      "Epoch [1/1100], Train Loss: 0.1230, Valid Loss: 0.4458\n",
      "Epoch [11/1100], Train Loss: 0.0515, Valid Loss: 0.2697\n",
      "Epoch [21/1100], Train Loss: 0.0138, Valid Loss: 0.0964\n",
      "Epoch [31/1100], Train Loss: 0.0138, Valid Loss: 0.0814\n",
      "Epoch [41/1100], Train Loss: 0.0132, Valid Loss: 0.1096\n",
      "Epoch [51/1100], Train Loss: 0.0113, Valid Loss: 0.0777\n",
      "Epoch [61/1100], Train Loss: 0.0098, Valid Loss: 0.0551\n",
      "Epoch [71/1100], Train Loss: 0.0068, Valid Loss: 0.0204\n",
      "Epoch [81/1100], Train Loss: 0.0033, Valid Loss: 0.1121\n",
      "Epoch [91/1100], Train Loss: 0.0024, Valid Loss: 0.0514\n",
      "Epoch [101/1100], Train Loss: 0.0020, Valid Loss: 0.0188\n",
      "Epoch [111/1100], Train Loss: 0.0016, Valid Loss: 0.0240\n",
      "Epoch [121/1100], Train Loss: 0.0013, Valid Loss: 0.0085\n",
      "Epoch [131/1100], Train Loss: 0.0011, Valid Loss: 0.0032\n",
      "Epoch [141/1100], Train Loss: 0.0010, Valid Loss: 0.0018\n",
      "Epoch [151/1100], Train Loss: 0.0009, Valid Loss: 0.0006\n",
      "Epoch [161/1100], Train Loss: 0.0008, Valid Loss: 0.0004\n",
      "Epoch [171/1100], Train Loss: 0.0008, Valid Loss: 0.0005\n",
      "Epoch [181/1100], Train Loss: 0.0008, Valid Loss: 0.0007\n",
      "Epoch [191/1100], Train Loss: 0.0008, Valid Loss: 0.0010\n",
      "Epoch [201/1100], Train Loss: 0.0007, Valid Loss: 0.0012\n",
      "Epoch [211/1100], Train Loss: 0.0007, Valid Loss: 0.0013\n",
      "Epoch [221/1100], Train Loss: 0.0007, Valid Loss: 0.0013\n",
      "Epoch [231/1100], Train Loss: 0.0007, Valid Loss: 0.0013\n",
      "Epoch [241/1100], Train Loss: 0.0007, Valid Loss: 0.0013\n",
      "Epoch [251/1100], Train Loss: 0.0007, Valid Loss: 0.0013\n",
      "Epoch [261/1100], Train Loss: 0.0007, Valid Loss: 0.0012\n",
      "Epoch [271/1100], Train Loss: 0.0007, Valid Loss: 0.0012\n",
      "Epoch [281/1100], Train Loss: 0.0007, Valid Loss: 0.0011\n",
      "Epoch [291/1100], Train Loss: 0.0007, Valid Loss: 0.0011\n",
      "Epoch [301/1100], Train Loss: 0.0006, Valid Loss: 0.0011\n",
      "Epoch [311/1100], Train Loss: 0.0006, Valid Loss: 0.0011\n",
      "Epoch [321/1100], Train Loss: 0.0006, Valid Loss: 0.0010\n",
      "Epoch [331/1100], Train Loss: 0.0006, Valid Loss: 0.0010\n",
      "Epoch [341/1100], Train Loss: 0.0006, Valid Loss: 0.0010\n",
      "Epoch [351/1100], Train Loss: 0.0006, Valid Loss: 0.0010\n",
      "Epoch [361/1100], Train Loss: 0.0006, Valid Loss: 0.0010\n",
      "Epoch [371/1100], Train Loss: 0.0006, Valid Loss: 0.0010\n",
      "Epoch [381/1100], Train Loss: 0.0006, Valid Loss: 0.0010\n",
      "Epoch [391/1100], Train Loss: 0.0006, Valid Loss: 0.0010\n",
      "Epoch [401/1100], Train Loss: 0.0006, Valid Loss: 0.0009\n",
      "Epoch [411/1100], Train Loss: 0.0006, Valid Loss: 0.0009\n",
      "Epoch [421/1100], Train Loss: 0.0006, Valid Loss: 0.0009\n",
      "Epoch [431/1100], Train Loss: 0.0006, Valid Loss: 0.0009\n",
      "Epoch [441/1100], Train Loss: 0.0006, Valid Loss: 0.0009\n",
      "Epoch [451/1100], Train Loss: 0.0006, Valid Loss: 0.0009\n",
      "Epoch [461/1100], Train Loss: 0.0006, Valid Loss: 0.0009\n",
      "Epoch [471/1100], Train Loss: 0.0005, Valid Loss: 0.0008\n",
      "Epoch [481/1100], Train Loss: 0.0005, Valid Loss: 0.0008\n",
      "Epoch [491/1100], Train Loss: 0.0005, Valid Loss: 0.0008\n",
      "Epoch [501/1100], Train Loss: 0.0005, Valid Loss: 0.0008\n",
      "Epoch [511/1100], Train Loss: 0.0005, Valid Loss: 0.0008\n",
      "Epoch [521/1100], Train Loss: 0.0005, Valid Loss: 0.0008\n",
      "Epoch [531/1100], Train Loss: 0.0005, Valid Loss: 0.0007\n",
      "Epoch [541/1100], Train Loss: 0.0005, Valid Loss: 0.0007\n",
      "Epoch [551/1100], Train Loss: 0.0005, Valid Loss: 0.0007\n",
      "Epoch [561/1100], Train Loss: 0.0005, Valid Loss: 0.0007\n",
      "Epoch [571/1100], Train Loss: 0.0005, Valid Loss: 0.0007\n",
      "Epoch [581/1100], Train Loss: 0.0005, Valid Loss: 0.0007\n",
      "Epoch [591/1100], Train Loss: 0.0005, Valid Loss: 0.0007\n",
      "Epoch [601/1100], Train Loss: 0.0005, Valid Loss: 0.0007\n",
      "Epoch [611/1100], Train Loss: 0.0005, Valid Loss: 0.0007\n",
      "Epoch [621/1100], Train Loss: 0.0005, Valid Loss: 0.0006\n",
      "Epoch [631/1100], Train Loss: 0.0005, Valid Loss: 0.0006\n",
      "Epoch [641/1100], Train Loss: 0.0005, Valid Loss: 0.0006\n",
      "Epoch [651/1100], Train Loss: 0.0005, Valid Loss: 0.0006\n",
      "Epoch [661/1100], Train Loss: 0.0005, Valid Loss: 0.0006\n",
      "Epoch [671/1100], Train Loss: 0.0005, Valid Loss: 0.0006\n",
      "Epoch [681/1100], Train Loss: 0.0005, Valid Loss: 0.0006\n",
      "Epoch [691/1100], Train Loss: 0.0005, Valid Loss: 0.0006\n",
      "Epoch [701/1100], Train Loss: 0.0005, Valid Loss: 0.0006\n",
      "Epoch [711/1100], Train Loss: 0.0005, Valid Loss: 0.0006\n",
      "Epoch [721/1100], Train Loss: 0.0005, Valid Loss: 0.0006\n",
      "Epoch [731/1100], Train Loss: 0.0005, Valid Loss: 0.0006\n",
      "Epoch [741/1100], Train Loss: 0.0005, Valid Loss: 0.0006\n",
      "Epoch [751/1100], Train Loss: 0.0005, Valid Loss: 0.0006\n",
      "Epoch [761/1100], Train Loss: 0.0004, Valid Loss: 0.0006\n",
      "Epoch [771/1100], Train Loss: 0.0004, Valid Loss: 0.0005\n",
      "Epoch [781/1100], Train Loss: 0.0004, Valid Loss: 0.0005\n",
      "Epoch [791/1100], Train Loss: 0.0004, Valid Loss: 0.0005\n",
      "Epoch [801/1100], Train Loss: 0.0004, Valid Loss: 0.0005\n",
      "Epoch [811/1100], Train Loss: 0.0004, Valid Loss: 0.0005\n",
      "Epoch [821/1100], Train Loss: 0.0004, Valid Loss: 0.0005\n",
      "Epoch [831/1100], Train Loss: 0.0004, Valid Loss: 0.0005\n",
      "Epoch [841/1100], Train Loss: 0.0004, Valid Loss: 0.0005\n",
      "Epoch [851/1100], Train Loss: 0.0004, Valid Loss: 0.0005\n",
      "Epoch [861/1100], Train Loss: 0.0004, Valid Loss: 0.0005\n",
      "Epoch [871/1100], Train Loss: 0.0004, Valid Loss: 0.0005\n",
      "Epoch [881/1100], Train Loss: 0.0004, Valid Loss: 0.0005\n",
      "Epoch [891/1100], Train Loss: 0.0004, Valid Loss: 0.0005\n",
      "Epoch [901/1100], Train Loss: 0.0004, Valid Loss: 0.0005\n",
      "Epoch [911/1100], Train Loss: 0.0004, Valid Loss: 0.0005\n",
      "Epoch [921/1100], Train Loss: 0.0004, Valid Loss: 0.0005\n",
      "Epoch [931/1100], Train Loss: 0.0004, Valid Loss: 0.0005\n",
      "Epoch [941/1100], Train Loss: 0.0004, Valid Loss: 0.0005\n",
      "Epoch [951/1100], Train Loss: 0.0004, Valid Loss: 0.0005\n",
      "Epoch [961/1100], Train Loss: 0.0004, Valid Loss: 0.0005\n",
      "Epoch [971/1100], Train Loss: 0.0004, Valid Loss: 0.0004\n",
      "Epoch [981/1100], Train Loss: 0.0004, Valid Loss: 0.0004\n",
      "Epoch [991/1100], Train Loss: 0.0004, Valid Loss: 0.0004\n",
      "Epoch [1001/1100], Train Loss: 0.0004, Valid Loss: 0.0004\n",
      "Epoch [1011/1100], Train Loss: 0.0004, Valid Loss: 0.0004\n",
      "Epoch [1021/1100], Train Loss: 0.0004, Valid Loss: 0.0004\n",
      "Epoch [1031/1100], Train Loss: 0.0004, Valid Loss: 0.0004\n",
      "Epoch [1041/1100], Train Loss: 0.0004, Valid Loss: 0.0004\n",
      "Epoch [1051/1100], Train Loss: 0.0004, Valid Loss: 0.0004\n",
      "Epoch [1061/1100], Train Loss: 0.0004, Valid Loss: 0.0004\n",
      "Epoch [1071/1100], Train Loss: 0.0003, Valid Loss: 0.0004\n",
      "Epoch [1081/1100], Train Loss: 0.0003, Valid Loss: 0.0004\n",
      "Epoch [1091/1100], Train Loss: 0.0003, Valid Loss: 0.0004\n"
     ]
    },
    {
     "data": {
      "image/png": "[encoded data removed]",
      "text/plain": [
       "<Figure size 640x480 with 1 Axes>"
      ]
     },
     "metadata": {},
     "output_type": "display_data"
    }
   ],
   "source": [
    "num_epochs = 1100\n",
    "learning_rate = 0.001\n",
    "\n",
    "input_size = 1\n",
    "hidden_size = 64 # need to find correct value; 40 small, 64 norm, 100 a lot\n",
    "num_layers = 1\n",
    "\n",
    "num_classes = 1\n",
    "\n",
    "model = LSTM(num_classes, input_size, hidden_size, num_layers).to(device)\n",
    "\n",
    "# Define loss and optimizer\n",
    "criterion = torch.nn.MSELoss()    # mean-squared error for regression\n",
    "optimizer = torch.optim.Adam(model.parameters(), lr = learning_rate)\n",
    "#optimizer = torch.optim.SGD(lstm.parameters(), lr = learning_rate)\n",
    "\n",
    "train_loss = []\n",
    "valid_loss = []\n",
    "\n",
    "for epoch in range(num_epochs):\n",
    "    # set the model to train mode\n",
    "    model.train()\n",
    "\n",
    "    # forward pass\n",
    "    output = model(trainX)\n",
    "    loss = criterion(output, trainY)\n",
    "\n",
    "    # backward pass and optimize\n",
    "    optimizer.zero_grad()\n",
    "    loss.backward()\n",
    "    optimizer.step()\n",
    "\n",
    "    # calculate training loss\n",
    "    train_loss.append(loss.item())\n",
    "\n",
    "    # set the model to evaluation mode\n",
    "    model.eval()\n",
    "\n",
    "    # calculate validation loss\n",
    "    with torch.no_grad():\n",
    "        output = model(testX)\n",
    "        loss = criterion(output, testY)\n",
    "        valid_loss.append(loss.item())\n",
    "\n",
    "    # print progress\n",
    "    if epoch % 10 == 0:\n",
    "        print('Epoch [{}/{}], Train Loss: {:.4f}, Valid Loss: {:.4f}'.format(\n",
    "            epoch+1, num_epochs, train_loss[-1], valid_loss[-1]))\n",
    "\n",
    "# plot train and validation loss\n",
    "plt.plot(train_loss, label='Train Loss')\n",
    "plt.plot(valid_loss, label='Validation Loss')\n",
    "plt.legend()\n",
    "plt.show()"
   ]
  },
  {
   "cell_type": "code",
   "execution_count": 19,
   "metadata": {},
   "outputs": [
    {
     "name": "stdout",
     "output_type": "stream",
     "text": [
      "Test RMSE Score: 16.02\n"
     ]
    }
   ],
   "source": [
    "from sklearn.metrics import mean_squared_error\n",
    "# Test the model\n",
    "model.eval()\n",
    "test_predict = model(testX)\n",
    "\n",
    "test_predict_inv = sc.inverse_transform(test_predict.cpu().detach().numpy())\n",
    "testY_inv = sc.inverse_transform(testY.cpu().detach().numpy())\n",
    "\n",
    "test_score = np.sqrt(mean_squared_error(testY_inv, test_predict_inv))\n",
    "print(\"Test RMSE Score: %.2f\" % test_score)"
   ]
  },
  {
   "cell_type": "code",
   "execution_count": 20,
   "metadata": {},
   "outputs": [
    {
     "data": {
      "image/png": "[encoded data removed]",
      "text/plain": [
       "<Figure size 640x480 with 1 Axes>"
      ]
     },
     "metadata": {},
     "output_type": "display_data"
    },
    {
     "data": {
      "image/png": "[encoded data removed]",
      "text/plain": [
       "<Figure size 640x480 with 1 Axes>"
      ]
     },
     "metadata": {},
     "output_type": "display_data"
    }
   ],
   "source": [
    "import matplotlib.pyplot as plt\n",
    "\n",
    "# make predictions\n",
    "predY_test = model(testX)\n",
    "predY_val = model(valX)\n",
    "\n",
    "# invert scaling for forecast\n",
    "predY_test_inv = sc.inverse_transform(predY_test.cpu().detach().numpy())\n",
    "predY_val_inv = sc.inverse_transform(predY_val.cpu().detach().numpy())\n",
    "testY_inv = sc.inverse_transform(testY.cpu().detach().numpy())\n",
    "# plot 1\n",
    "plt.plot(special_data, label='True Data')\n",
    "plt.plot(special_data.index[-len(predY_test_inv)- val_size: - val_size], predY_test_inv, label='Test predicted Data')\n",
    "plt.plot(special_data.index[-len(predY_val_inv):], predY_val_inv, label='Val predicted Data')\n",
    "plt.axvline(x=special_data.index[-len(predY_test_inv)- val_size], c='r', linestyle='--')\n",
    "plt.legend()\n",
    "plt.show()\n",
    "# plot 2\n",
    "plt.plot(special_data.index[-len(predY_test_inv)- val_size:], special_data.Price[-len(predY_test_inv)- val_size:], label='True Data')\n",
    "plt.plot(special_data.index[-len(predY_test_inv)- val_size: - val_size], predY_test_inv, label='Test predicted Data')\n",
    "plt.plot(special_data.index[-len(predY_val_inv):], predY_val_inv, label='Val predicted Data')\n",
    "plt.axvline(x=special_data.index[-len(predY_test_inv)- val_size], c='r', linestyle='--')\n",
    "plt.legend()\n",
    "plt.show()"
   ]
  },
  {
   "cell_type": "code",
   "execution_count": 21,
   "metadata": {},
   "outputs": [],
   "source": [
    "def calculate_metrics(array1, array2):\n",
    "    # Проверка на совпадение длин массивов\n",
    "    if len(array1) != len(array2):\n",
    "        raise ValueError(\"Длины массивов должны совпадать\")\n",
    "\n",
    "    # Вычисление отклонений\n",
    "    deviations = np.abs(np.array(array1) - np.array(array2))\n",
    "\n",
    "    # Минимальное и максимальное отклонение\n",
    "    min_deviation = np.min(deviations)\n",
    "    max_deviation = np.max(deviations)\n",
    "\n",
    "    # Процентное минимальное и максимальное отклонение\n",
    "    min_deviation_percentage = min_deviation / np.max(np.abs(array1)) * 100\n",
    "    max_deviation_percentage = max_deviation / np.max(np.abs(array1)) * 100\n",
    "    \n",
    "    # MAPE (Mean Absolute Percentage Error)\n",
    "    mape = np.mean(deviations / np.abs(array1)) * 100\n",
    "\n",
    "    return min_deviation, max_deviation, min_deviation_percentage, max_deviation_percentage, mape\n"
   ]
  },
  {
   "cell_type": "code",
   "execution_count": 22,
   "metadata": {},
   "outputs": [
    {
     "name": "stdout",
     "output_type": "stream",
     "text": [
      "Минимальное отклонение: 1.850236002604106\n",
      "Максимальное отклонение: 63.68857421875009\n",
      "Процентное минимальное отклонение: 0.10%\n",
      "Процентное максимальное отклонение: 3.45%\n",
      "MAPE: 1.71%\n"
     ]
    }
   ],
   "source": [
    "min_dev, max_dev, min_dev_percentage, max_dev_percentage, mape = calculate_metrics(special_data.Price[-len(predY_val_inv):].values, np.concatenate(predY_val_inv))\n",
    "\n",
    "print(f\"Минимальное отклонение: {min_dev}\")\n",
    "print(f\"Максимальное отклонение: {max_dev}\")\n",
    "print(f\"Процентное минимальное отклонение: {min_dev_percentage:.2f}%\")\n",
    "print(f\"Процентное максимальное отклонение: {max_dev_percentage:.2f}%\")\n",
    "print(f\"MAPE: {mape:.2f}%\")"
   ]
  },
  {
   "cell_type": "code",
   "execution_count": 23,
   "metadata": {},
   "outputs": [
    {
     "data": {
      "text/plain": [
       "1460"
      ]
     },
     "execution_count": 23,
     "metadata": {},
     "output_type": "execute_result"
    }
   ],
   "source": [
    "len(special_data)"
   ]
  },
  {
   "cell_type": "code",
   "execution_count": 24,
   "metadata": {},
   "outputs": [
    {
     "data": {
      "text/plain": [
       "951"
      ]
     },
     "execution_count": 24,
     "metadata": {},
     "output_type": "execute_result"
    }
   ],
   "source": [
    "len(trainX)"
   ]
  },
  {
   "cell_type": "code",
   "execution_count": 25,
   "metadata": {},
   "outputs": [
    {
     "data": {
      "text/plain": [
       "262"
      ]
     },
     "execution_count": 25,
     "metadata": {},
     "output_type": "execute_result"
    }
   ],
   "source": [
    "len(testX)"
   ]
  },
  {
   "cell_type": "code",
   "execution_count": 26,
   "metadata": {},
   "outputs": [
    {
     "data": {
      "text/plain": [
       "146"
      ]
     },
     "execution_count": 26,
     "metadata": {},
     "output_type": "execute_result"
    }
   ],
   "source": [
    "len(valX)"
   ]
  }
 ],
 "metadata": {
  "kernelspec": {
   "display_name": "Python 3",
   "language": "python",
   "name": "python3"
  },
  "language_info": {
   "codemirror_mode": {
    "name": "ipython",
    "version": 3
   },
   "file_extension": ".py",
   "mimetype": "text/x-python",
   "name": "python",
   "nbconvert_exporter": "python",
   "pygments_lexer": "ipython3",
   "version": "3.11.8"
  },
  "orig_nbformat": 4
 },
 "nbformat": 4,
 "nbformat_minor": 2
}
